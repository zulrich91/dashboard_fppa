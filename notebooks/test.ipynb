{
 "cells": [
  {
   "cell_type": "code",
   "execution_count": 91,
   "source": [
    "import pandas as pd"
   ],
   "outputs": [],
   "metadata": {}
  },
  {
   "cell_type": "code",
   "execution_count": 2,
   "source": [
    "df_player = pd.read_csv(\"../data/attaque.csv\", header=0)"
   ],
   "outputs": [],
   "metadata": {}
  },
  {
   "cell_type": "code",
   "execution_count": 3,
   "source": [
    "df_player[df_player.columns[1]].unique()\n"
   ],
   "outputs": [
    {
     "output_type": "execute_result",
     "data": {
      "text/plain": [
       "array(['Jamal-Aabbou', 'Rayane-Aabid', 'Mohamed-Aakib', ...,\n",
       "       'Jan-Zwischenbrugger', 'Kacper-Zych', 'Marcel-Zylla'], dtype=object)"
      ]
     },
     "metadata": {},
     "execution_count": 3
    }
   ],
   "metadata": {}
  },
  {
   "cell_type": "code",
   "execution_count": 4,
   "source": [
    "player_df = df_player[df_player[df_player.columns[1]] == \"Lionel-Messi\"]"
   ],
   "outputs": [],
   "metadata": {}
  },
  {
   "cell_type": "code",
   "execution_count": null,
   "source": [
    "player_df"
   ],
   "outputs": [],
   "metadata": {}
  },
  {
   "cell_type": "code",
   "execution_count": 7,
   "source": [
    "player2_df = df_player[df_player[df_player.columns[1]] == \"Cristiano-Ronaldo\"]"
   ],
   "outputs": [],
   "metadata": {}
  },
  {
   "cell_type": "code",
   "execution_count": 8,
   "source": [
    "player2_df.head()"
   ],
   "outputs": [
    {
     "output_type": "execute_result",
     "data": {
      "text/plain": [
       "                             _id             Joueur            Club  \\\n",
       "105917  61895e00721d2d2ff0eb76b7  Cristiano-Ronaldo     Sporting CP   \n",
       "105918  61895e00721d2d2ff0eb76b8  Cristiano-Ronaldo  Manchester Utd   \n",
       "105919  61895e00721d2d2ff0eb76b9  Cristiano-Ronaldo  Manchester Utd   \n",
       "105920  61895e00721d2d2ff0eb76ba  Cristiano-Ronaldo  Manchester Utd   \n",
       "105921  61895e00721d2d2ff0eb76bb  Cristiano-Ronaldo  Manchester Utd   \n",
       "\n",
       "           Annees  Decisives  Non Decisives  \n",
       "105917  2002-2003          9             15  \n",
       "105918  2003-2004         12             21  \n",
       "105919  2004-2005         14             59  \n",
       "105920  2005-2006         24             47  \n",
       "105921  2006-2007         42             75  "
      ],
      "text/html": [
       "<div>\n",
       "<style scoped>\n",
       "    .dataframe tbody tr th:only-of-type {\n",
       "        vertical-align: middle;\n",
       "    }\n",
       "\n",
       "    .dataframe tbody tr th {\n",
       "        vertical-align: top;\n",
       "    }\n",
       "\n",
       "    .dataframe thead th {\n",
       "        text-align: right;\n",
       "    }\n",
       "</style>\n",
       "<table border=\"1\" class=\"dataframe\">\n",
       "  <thead>\n",
       "    <tr style=\"text-align: right;\">\n",
       "      <th></th>\n",
       "      <th>_id</th>\n",
       "      <th>Joueur</th>\n",
       "      <th>Club</th>\n",
       "      <th>Annees</th>\n",
       "      <th>Decisives</th>\n",
       "      <th>Non Decisives</th>\n",
       "    </tr>\n",
       "  </thead>\n",
       "  <tbody>\n",
       "    <tr>\n",
       "      <th>105917</th>\n",
       "      <td>61895e00721d2d2ff0eb76b7</td>\n",
       "      <td>Cristiano-Ronaldo</td>\n",
       "      <td>Sporting CP</td>\n",
       "      <td>2002-2003</td>\n",
       "      <td>9</td>\n",
       "      <td>15</td>\n",
       "    </tr>\n",
       "    <tr>\n",
       "      <th>105918</th>\n",
       "      <td>61895e00721d2d2ff0eb76b8</td>\n",
       "      <td>Cristiano-Ronaldo</td>\n",
       "      <td>Manchester Utd</td>\n",
       "      <td>2003-2004</td>\n",
       "      <td>12</td>\n",
       "      <td>21</td>\n",
       "    </tr>\n",
       "    <tr>\n",
       "      <th>105919</th>\n",
       "      <td>61895e00721d2d2ff0eb76b9</td>\n",
       "      <td>Cristiano-Ronaldo</td>\n",
       "      <td>Manchester Utd</td>\n",
       "      <td>2004-2005</td>\n",
       "      <td>14</td>\n",
       "      <td>59</td>\n",
       "    </tr>\n",
       "    <tr>\n",
       "      <th>105920</th>\n",
       "      <td>61895e00721d2d2ff0eb76ba</td>\n",
       "      <td>Cristiano-Ronaldo</td>\n",
       "      <td>Manchester Utd</td>\n",
       "      <td>2005-2006</td>\n",
       "      <td>24</td>\n",
       "      <td>47</td>\n",
       "    </tr>\n",
       "    <tr>\n",
       "      <th>105921</th>\n",
       "      <td>61895e00721d2d2ff0eb76bb</td>\n",
       "      <td>Cristiano-Ronaldo</td>\n",
       "      <td>Manchester Utd</td>\n",
       "      <td>2006-2007</td>\n",
       "      <td>42</td>\n",
       "      <td>75</td>\n",
       "    </tr>\n",
       "  </tbody>\n",
       "</table>\n",
       "</div>"
      ]
     },
     "metadata": {},
     "execution_count": 8
    }
   ],
   "metadata": {}
  },
  {
   "cell_type": "code",
   "execution_count": null,
   "source": [
    "concat_df = pd.concat ([player_df,player2_df], axis=0)\n",
    "concat_df"
   ],
   "outputs": [],
   "metadata": {}
  },
  {
   "cell_type": "code",
   "execution_count": 10,
   "source": [
    "import plotly.express as px\n",
    "df = px.data.wind()"
   ],
   "outputs": [],
   "metadata": {}
  },
  {
   "cell_type": "code",
   "execution_count": 11,
   "source": [
    "# fig = px.scatter_polar(df, r=\"frequency\", theta=\"direction\")\n",
    "# fig.show()\n",
    "\n",
    "# fig = px.scatter_polar(r=df.frequency, theta=df.direction)\n",
    "# fig.show()\n",
    "\n",
    "fig = px.line_polar(pd.concat([player_df, player2_df]), r='Decisives', theta='Annees', color='Joueur')\n",
    "fig.show()"
   ],
   "outputs": [
    {
     "output_type": "display_data",
     "data": {
      "application/vnd.plotly.v1+json": {
       "config": {
        "plotlyServerURL": "https://plot.ly"
       },
       "data": [
        {
         "hovertemplate": "Joueur=Lionel-Messi<br>Decisives=%{r}<br>Annees=%{theta}<extra></extra>",
         "legendgroup": "Lionel-Messi",
         "line": {
          "color": "#636efa",
          "dash": "solid"
         },
         "mode": "lines",
         "name": "Lionel-Messi",
         "r": [
          2,
          15,
          31,
          32,
          57,
          77,
          81,
          116,
          103,
          67,
          104,
          68,
          83,
          318,
          304,
          290,
          310,
          9
         ],
         "showlegend": true,
         "subplot": "polar",
         "theta": [
          "2004-2005",
          "2005-2006",
          "2006-2007",
          "2007-2008",
          "2008-2009",
          "2009-2010",
          "2010-2011",
          "2011-2012",
          "2012-2013",
          "2013-2014",
          "2014-2015",
          "2015-2016",
          "2016-2017",
          "2017-2018",
          "2018-2019",
          "2019-2020",
          "2020-2021",
          "2021-2022"
         ],
         "type": "scatterpolar"
        },
        {
         "hovertemplate": "Joueur=Cristiano-Ronaldo<br>Decisives=%{r}<br>Annees=%{theta}<extra></extra>",
         "legendgroup": "Cristiano-Ronaldo",
         "line": {
          "color": "#EF553B",
          "dash": "solid"
         },
         "mode": "lines",
         "name": "Cristiano-Ronaldo",
         "r": [
          9,
          12,
          14,
          24,
          42,
          68,
          42,
          59,
          89,
          104,
          78,
          71,
          112,
          81,
          56,
          156,
          183,
          210,
          174,
          2,
          19
         ],
         "showlegend": true,
         "subplot": "polar",
         "theta": [
          "2002-2003",
          "2003-2004",
          "2004-2005",
          "2005-2006",
          "2006-2007",
          "2007-2008",
          "2008-2009",
          "2009-2010",
          "2010-2011",
          "2011-2012",
          "2012-2013",
          "2013-2014",
          "2014-2015",
          "2015-2016",
          "2016-2017",
          "2017-2018",
          "2018-2019",
          "2019-2020",
          "2020-2021",
          "2021-2022",
          "2021-2022"
         ],
         "type": "scatterpolar"
        }
       ],
       "layout": {
        "legend": {
         "title": {
          "text": "Joueur"
         },
         "tracegroupgap": 0
        },
        "margin": {
         "t": 60
        },
        "polar": {
         "angularaxis": {
          "direction": "clockwise",
          "rotation": 90
         },
         "domain": {
          "x": [
           0,
           1
          ],
          "y": [
           0,
           1
          ]
         }
        },
        "template": {
         "data": {
          "bar": [
           {
            "error_x": {
             "color": "#2a3f5f"
            },
            "error_y": {
             "color": "#2a3f5f"
            },
            "marker": {
             "line": {
              "color": "#E5ECF6",
              "width": 0.5
             }
            },
            "type": "bar"
           }
          ],
          "barpolar": [
           {
            "marker": {
             "line": {
              "color": "#E5ECF6",
              "width": 0.5
             }
            },
            "type": "barpolar"
           }
          ],
          "carpet": [
           {
            "aaxis": {
             "endlinecolor": "#2a3f5f",
             "gridcolor": "white",
             "linecolor": "white",
             "minorgridcolor": "white",
             "startlinecolor": "#2a3f5f"
            },
            "baxis": {
             "endlinecolor": "#2a3f5f",
             "gridcolor": "white",
             "linecolor": "white",
             "minorgridcolor": "white",
             "startlinecolor": "#2a3f5f"
            },
            "type": "carpet"
           }
          ],
          "choropleth": [
           {
            "colorbar": {
             "outlinewidth": 0,
             "ticks": ""
            },
            "type": "choropleth"
           }
          ],
          "contour": [
           {
            "colorbar": {
             "outlinewidth": 0,
             "ticks": ""
            },
            "colorscale": [
             [
              0,
              "#0d0887"
             ],
             [
              0.1111111111111111,
              "#46039f"
             ],
             [
              0.2222222222222222,
              "#7201a8"
             ],
             [
              0.3333333333333333,
              "#9c179e"
             ],
             [
              0.4444444444444444,
              "#bd3786"
             ],
             [
              0.5555555555555556,
              "#d8576b"
             ],
             [
              0.6666666666666666,
              "#ed7953"
             ],
             [
              0.7777777777777778,
              "#fb9f3a"
             ],
             [
              0.8888888888888888,
              "#fdca26"
             ],
             [
              1,
              "#f0f921"
             ]
            ],
            "type": "contour"
           }
          ],
          "contourcarpet": [
           {
            "colorbar": {
             "outlinewidth": 0,
             "ticks": ""
            },
            "type": "contourcarpet"
           }
          ],
          "heatmap": [
           {
            "colorbar": {
             "outlinewidth": 0,
             "ticks": ""
            },
            "colorscale": [
             [
              0,
              "#0d0887"
             ],
             [
              0.1111111111111111,
              "#46039f"
             ],
             [
              0.2222222222222222,
              "#7201a8"
             ],
             [
              0.3333333333333333,
              "#9c179e"
             ],
             [
              0.4444444444444444,
              "#bd3786"
             ],
             [
              0.5555555555555556,
              "#d8576b"
             ],
             [
              0.6666666666666666,
              "#ed7953"
             ],
             [
              0.7777777777777778,
              "#fb9f3a"
             ],
             [
              0.8888888888888888,
              "#fdca26"
             ],
             [
              1,
              "#f0f921"
             ]
            ],
            "type": "heatmap"
           }
          ],
          "heatmapgl": [
           {
            "colorbar": {
             "outlinewidth": 0,
             "ticks": ""
            },
            "colorscale": [
             [
              0,
              "#0d0887"
             ],
             [
              0.1111111111111111,
              "#46039f"
             ],
             [
              0.2222222222222222,
              "#7201a8"
             ],
             [
              0.3333333333333333,
              "#9c179e"
             ],
             [
              0.4444444444444444,
              "#bd3786"
             ],
             [
              0.5555555555555556,
              "#d8576b"
             ],
             [
              0.6666666666666666,
              "#ed7953"
             ],
             [
              0.7777777777777778,
              "#fb9f3a"
             ],
             [
              0.8888888888888888,
              "#fdca26"
             ],
             [
              1,
              "#f0f921"
             ]
            ],
            "type": "heatmapgl"
           }
          ],
          "histogram": [
           {
            "marker": {
             "colorbar": {
              "outlinewidth": 0,
              "ticks": ""
             }
            },
            "type": "histogram"
           }
          ],
          "histogram2d": [
           {
            "colorbar": {
             "outlinewidth": 0,
             "ticks": ""
            },
            "colorscale": [
             [
              0,
              "#0d0887"
             ],
             [
              0.1111111111111111,
              "#46039f"
             ],
             [
              0.2222222222222222,
              "#7201a8"
             ],
             [
              0.3333333333333333,
              "#9c179e"
             ],
             [
              0.4444444444444444,
              "#bd3786"
             ],
             [
              0.5555555555555556,
              "#d8576b"
             ],
             [
              0.6666666666666666,
              "#ed7953"
             ],
             [
              0.7777777777777778,
              "#fb9f3a"
             ],
             [
              0.8888888888888888,
              "#fdca26"
             ],
             [
              1,
              "#f0f921"
             ]
            ],
            "type": "histogram2d"
           }
          ],
          "histogram2dcontour": [
           {
            "colorbar": {
             "outlinewidth": 0,
             "ticks": ""
            },
            "colorscale": [
             [
              0,
              "#0d0887"
             ],
             [
              0.1111111111111111,
              "#46039f"
             ],
             [
              0.2222222222222222,
              "#7201a8"
             ],
             [
              0.3333333333333333,
              "#9c179e"
             ],
             [
              0.4444444444444444,
              "#bd3786"
             ],
             [
              0.5555555555555556,
              "#d8576b"
             ],
             [
              0.6666666666666666,
              "#ed7953"
             ],
             [
              0.7777777777777778,
              "#fb9f3a"
             ],
             [
              0.8888888888888888,
              "#fdca26"
             ],
             [
              1,
              "#f0f921"
             ]
            ],
            "type": "histogram2dcontour"
           }
          ],
          "mesh3d": [
           {
            "colorbar": {
             "outlinewidth": 0,
             "ticks": ""
            },
            "type": "mesh3d"
           }
          ],
          "parcoords": [
           {
            "line": {
             "colorbar": {
              "outlinewidth": 0,
              "ticks": ""
             }
            },
            "type": "parcoords"
           }
          ],
          "pie": [
           {
            "automargin": true,
            "type": "pie"
           }
          ],
          "scatter": [
           {
            "marker": {
             "colorbar": {
              "outlinewidth": 0,
              "ticks": ""
             }
            },
            "type": "scatter"
           }
          ],
          "scatter3d": [
           {
            "line": {
             "colorbar": {
              "outlinewidth": 0,
              "ticks": ""
             }
            },
            "marker": {
             "colorbar": {
              "outlinewidth": 0,
              "ticks": ""
             }
            },
            "type": "scatter3d"
           }
          ],
          "scattercarpet": [
           {
            "marker": {
             "colorbar": {
              "outlinewidth": 0,
              "ticks": ""
             }
            },
            "type": "scattercarpet"
           }
          ],
          "scattergeo": [
           {
            "marker": {
             "colorbar": {
              "outlinewidth": 0,
              "ticks": ""
             }
            },
            "type": "scattergeo"
           }
          ],
          "scattergl": [
           {
            "marker": {
             "colorbar": {
              "outlinewidth": 0,
              "ticks": ""
             }
            },
            "type": "scattergl"
           }
          ],
          "scattermapbox": [
           {
            "marker": {
             "colorbar": {
              "outlinewidth": 0,
              "ticks": ""
             }
            },
            "type": "scattermapbox"
           }
          ],
          "scatterpolar": [
           {
            "marker": {
             "colorbar": {
              "outlinewidth": 0,
              "ticks": ""
             }
            },
            "type": "scatterpolar"
           }
          ],
          "scatterpolargl": [
           {
            "marker": {
             "colorbar": {
              "outlinewidth": 0,
              "ticks": ""
             }
            },
            "type": "scatterpolargl"
           }
          ],
          "scatterternary": [
           {
            "marker": {
             "colorbar": {
              "outlinewidth": 0,
              "ticks": ""
             }
            },
            "type": "scatterternary"
           }
          ],
          "surface": [
           {
            "colorbar": {
             "outlinewidth": 0,
             "ticks": ""
            },
            "colorscale": [
             [
              0,
              "#0d0887"
             ],
             [
              0.1111111111111111,
              "#46039f"
             ],
             [
              0.2222222222222222,
              "#7201a8"
             ],
             [
              0.3333333333333333,
              "#9c179e"
             ],
             [
              0.4444444444444444,
              "#bd3786"
             ],
             [
              0.5555555555555556,
              "#d8576b"
             ],
             [
              0.6666666666666666,
              "#ed7953"
             ],
             [
              0.7777777777777778,
              "#fb9f3a"
             ],
             [
              0.8888888888888888,
              "#fdca26"
             ],
             [
              1,
              "#f0f921"
             ]
            ],
            "type": "surface"
           }
          ],
          "table": [
           {
            "cells": {
             "fill": {
              "color": "#EBF0F8"
             },
             "line": {
              "color": "white"
             }
            },
            "header": {
             "fill": {
              "color": "#C8D4E3"
             },
             "line": {
              "color": "white"
             }
            },
            "type": "table"
           }
          ]
         },
         "layout": {
          "annotationdefaults": {
           "arrowcolor": "#2a3f5f",
           "arrowhead": 0,
           "arrowwidth": 1
          },
          "autotypenumbers": "strict",
          "coloraxis": {
           "colorbar": {
            "outlinewidth": 0,
            "ticks": ""
           }
          },
          "colorscale": {
           "diverging": [
            [
             0,
             "#8e0152"
            ],
            [
             0.1,
             "#c51b7d"
            ],
            [
             0.2,
             "#de77ae"
            ],
            [
             0.3,
             "#f1b6da"
            ],
            [
             0.4,
             "#fde0ef"
            ],
            [
             0.5,
             "#f7f7f7"
            ],
            [
             0.6,
             "#e6f5d0"
            ],
            [
             0.7,
             "#b8e186"
            ],
            [
             0.8,
             "#7fbc41"
            ],
            [
             0.9,
             "#4d9221"
            ],
            [
             1,
             "#276419"
            ]
           ],
           "sequential": [
            [
             0,
             "#0d0887"
            ],
            [
             0.1111111111111111,
             "#46039f"
            ],
            [
             0.2222222222222222,
             "#7201a8"
            ],
            [
             0.3333333333333333,
             "#9c179e"
            ],
            [
             0.4444444444444444,
             "#bd3786"
            ],
            [
             0.5555555555555556,
             "#d8576b"
            ],
            [
             0.6666666666666666,
             "#ed7953"
            ],
            [
             0.7777777777777778,
             "#fb9f3a"
            ],
            [
             0.8888888888888888,
             "#fdca26"
            ],
            [
             1,
             "#f0f921"
            ]
           ],
           "sequentialminus": [
            [
             0,
             "#0d0887"
            ],
            [
             0.1111111111111111,
             "#46039f"
            ],
            [
             0.2222222222222222,
             "#7201a8"
            ],
            [
             0.3333333333333333,
             "#9c179e"
            ],
            [
             0.4444444444444444,
             "#bd3786"
            ],
            [
             0.5555555555555556,
             "#d8576b"
            ],
            [
             0.6666666666666666,
             "#ed7953"
            ],
            [
             0.7777777777777778,
             "#fb9f3a"
            ],
            [
             0.8888888888888888,
             "#fdca26"
            ],
            [
             1,
             "#f0f921"
            ]
           ]
          },
          "colorway": [
           "#636efa",
           "#EF553B",
           "#00cc96",
           "#ab63fa",
           "#FFA15A",
           "#19d3f3",
           "#FF6692",
           "#B6E880",
           "#FF97FF",
           "#FECB52"
          ],
          "font": {
           "color": "#2a3f5f"
          },
          "geo": {
           "bgcolor": "white",
           "lakecolor": "white",
           "landcolor": "#E5ECF6",
           "showlakes": true,
           "showland": true,
           "subunitcolor": "white"
          },
          "hoverlabel": {
           "align": "left"
          },
          "hovermode": "closest",
          "mapbox": {
           "style": "light"
          },
          "paper_bgcolor": "white",
          "plot_bgcolor": "#E5ECF6",
          "polar": {
           "angularaxis": {
            "gridcolor": "white",
            "linecolor": "white",
            "ticks": ""
           },
           "bgcolor": "#E5ECF6",
           "radialaxis": {
            "gridcolor": "white",
            "linecolor": "white",
            "ticks": ""
           }
          },
          "scene": {
           "xaxis": {
            "backgroundcolor": "#E5ECF6",
            "gridcolor": "white",
            "gridwidth": 2,
            "linecolor": "white",
            "showbackground": true,
            "ticks": "",
            "zerolinecolor": "white"
           },
           "yaxis": {
            "backgroundcolor": "#E5ECF6",
            "gridcolor": "white",
            "gridwidth": 2,
            "linecolor": "white",
            "showbackground": true,
            "ticks": "",
            "zerolinecolor": "white"
           },
           "zaxis": {
            "backgroundcolor": "#E5ECF6",
            "gridcolor": "white",
            "gridwidth": 2,
            "linecolor": "white",
            "showbackground": true,
            "ticks": "",
            "zerolinecolor": "white"
           }
          },
          "shapedefaults": {
           "line": {
            "color": "#2a3f5f"
           }
          },
          "ternary": {
           "aaxis": {
            "gridcolor": "white",
            "linecolor": "white",
            "ticks": ""
           },
           "baxis": {
            "gridcolor": "white",
            "linecolor": "white",
            "ticks": ""
           },
           "bgcolor": "#E5ECF6",
           "caxis": {
            "gridcolor": "white",
            "linecolor": "white",
            "ticks": ""
           }
          },
          "title": {
           "x": 0.05
          },
          "xaxis": {
           "automargin": true,
           "gridcolor": "white",
           "linecolor": "white",
           "ticks": "",
           "title": {
            "standoff": 15
           },
           "zerolinecolor": "white",
           "zerolinewidth": 2
          },
          "yaxis": {
           "automargin": true,
           "gridcolor": "white",
           "linecolor": "white",
           "ticks": "",
           "title": {
            "standoff": 15
           },
           "zerolinecolor": "white",
           "zerolinewidth": 2
          }
         }
        }
       }
      }
     },
     "metadata": {}
    }
   ],
   "metadata": {}
  },
  {
   "cell_type": "code",
   "execution_count": 12,
   "source": [
    "df.head()\n",
    "\n"
   ],
   "outputs": [
    {
     "output_type": "execute_result",
     "data": {
      "text/plain": [
       "  direction strength  frequency\n",
       "0         N      0-1        0.5\n",
       "1       NNE      0-1        0.6\n",
       "2        NE      0-1        0.5\n",
       "3       ENE      0-1        0.4\n",
       "4         E      0-1        0.4"
      ],
      "text/html": [
       "<div>\n",
       "<style scoped>\n",
       "    .dataframe tbody tr th:only-of-type {\n",
       "        vertical-align: middle;\n",
       "    }\n",
       "\n",
       "    .dataframe tbody tr th {\n",
       "        vertical-align: top;\n",
       "    }\n",
       "\n",
       "    .dataframe thead th {\n",
       "        text-align: right;\n",
       "    }\n",
       "</style>\n",
       "<table border=\"1\" class=\"dataframe\">\n",
       "  <thead>\n",
       "    <tr style=\"text-align: right;\">\n",
       "      <th></th>\n",
       "      <th>direction</th>\n",
       "      <th>strength</th>\n",
       "      <th>frequency</th>\n",
       "    </tr>\n",
       "  </thead>\n",
       "  <tbody>\n",
       "    <tr>\n",
       "      <th>0</th>\n",
       "      <td>N</td>\n",
       "      <td>0-1</td>\n",
       "      <td>0.5</td>\n",
       "    </tr>\n",
       "    <tr>\n",
       "      <th>1</th>\n",
       "      <td>NNE</td>\n",
       "      <td>0-1</td>\n",
       "      <td>0.6</td>\n",
       "    </tr>\n",
       "    <tr>\n",
       "      <th>2</th>\n",
       "      <td>NE</td>\n",
       "      <td>0-1</td>\n",
       "      <td>0.5</td>\n",
       "    </tr>\n",
       "    <tr>\n",
       "      <th>3</th>\n",
       "      <td>ENE</td>\n",
       "      <td>0-1</td>\n",
       "      <td>0.4</td>\n",
       "    </tr>\n",
       "    <tr>\n",
       "      <th>4</th>\n",
       "      <td>E</td>\n",
       "      <td>0-1</td>\n",
       "      <td>0.4</td>\n",
       "    </tr>\n",
       "  </tbody>\n",
       "</table>\n",
       "</div>"
      ]
     },
     "metadata": {},
     "execution_count": 12
    }
   ],
   "metadata": {}
  },
  {
   "cell_type": "code",
   "execution_count": 103,
   "source": [
    "client2 = MongoClient(\"mongodb://20.74.102.112:27017/joueur_saison\")"
   ],
   "outputs": [],
   "metadata": {}
  },
  {
   "cell_type": "code",
   "execution_count": 104,
   "source": [
    "client2.list_database_names()"
   ],
   "outputs": [
    {
     "output_type": "execute_result",
     "data": {
      "text/plain": [
       "['READ__ME_TO_RECOVER_YOUR_DATA', 'admin', 'config']"
      ]
     },
     "metadata": {},
     "execution_count": 104
    }
   ],
   "metadata": {}
  },
  {
   "cell_type": "code",
   "execution_count": 83,
   "source": [
    "import pandas as pd\n",
    "import pymongo\n",
    "from pymongo import MongoClient\n",
    "\n",
    "\n",
    "client = MongoClient(\"mongodb://20.74.102.112:27017/joueur_saison\")\n"
   ],
   "outputs": [],
   "metadata": {}
  },
  {
   "cell_type": "code",
   "execution_count": 84,
   "source": [
    "client.list_database_names()"
   ],
   "outputs": [
    {
     "output_type": "execute_result",
     "data": {
      "text/plain": [
       "['admin', 'comparaison', 'config', 'local']"
      ]
     },
     "metadata": {},
     "execution_count": 84
    }
   ],
   "metadata": {}
  },
  {
   "cell_type": "code",
   "execution_count": 12,
   "source": [
    "db_compare = client['comparaison']"
   ],
   "outputs": [],
   "metadata": {}
  },
  {
   "cell_type": "code",
   "execution_count": 13,
   "source": [
    "db_compare.list_collection_names()"
   ],
   "outputs": [
    {
     "output_type": "execute_result",
     "data": {
      "text/plain": [
       "['annee_competition', 'competition', 'captain', 'manager']"
      ]
     },
     "metadata": {},
     "execution_count": 13
    }
   ],
   "metadata": {}
  },
  {
   "cell_type": "code",
   "execution_count": 63,
   "source": [
    "import plotly.express as px\n"
   ],
   "outputs": [],
   "metadata": {}
  },
  {
   "cell_type": "code",
   "execution_count": 58,
   "source": [
    "player_annee_comp = pd.DataFrame(db_compare['annee_competition'].find({}))"
   ],
   "outputs": [],
   "metadata": {}
  },
  {
   "cell_type": "code",
   "execution_count": 65,
   "source": [
    "milner_annee_comp = player_annee_comp[player_annee_comp['player']=='James-Milner']"
   ],
   "outputs": [],
   "metadata": {}
  },
  {
   "cell_type": "code",
   "execution_count": 92,
   "source": [
    "milner_annee_comp.sort_values(by='year').head()"
   ],
   "outputs": [
    {
     "output_type": "execute_result",
     "data": {
      "text/plain": [
       "                           _id        player  year            comp  gca  \\\n",
       "386   618f94ac88307f48ce0b0369  James-Milner  2002  Premier League  0.0   \n",
       "5780  618f94ac88307f48ce0b187b  James-Milner  2003  Premier League  0.0   \n",
       "6391  618f94ac88307f48ce0b1ade  James-Milner  2004  Premier League  0.0   \n",
       "4081  618f94ac88307f48ce0b11d8  James-Milner  2004        UEFA Cup  0.0   \n",
       "5870  618f94ac88307f48ce0b18d5  James-Milner  2005        UEFA Cup  0.0   \n",
       "\n",
       "      shots_on_target  assists  pressures  tackles  interceptions  blocks  \\\n",
       "386               0.0      0.0        0.0      0.0            0.0     0.0   \n",
       "5780              0.0      0.0        0.0      0.0            0.0     0.0   \n",
       "6391              0.0      0.0        0.0      0.0            0.0     0.0   \n",
       "4081              0.0      0.0        0.0      0.0            0.0     0.0   \n",
       "5870              0.0      0.0        0.0      0.0            0.0     0.0   \n",
       "\n",
       "      average point by temp  \n",
       "386                    0.50  \n",
       "5780                   0.33  \n",
       "6391                   0.44  \n",
       "4081                   0.92  \n",
       "5870                   0.83  "
      ],
      "text/html": [
       "<div>\n",
       "<style scoped>\n",
       "    .dataframe tbody tr th:only-of-type {\n",
       "        vertical-align: middle;\n",
       "    }\n",
       "\n",
       "    .dataframe tbody tr th {\n",
       "        vertical-align: top;\n",
       "    }\n",
       "\n",
       "    .dataframe thead th {\n",
       "        text-align: right;\n",
       "    }\n",
       "</style>\n",
       "<table border=\"1\" class=\"dataframe\">\n",
       "  <thead>\n",
       "    <tr style=\"text-align: right;\">\n",
       "      <th></th>\n",
       "      <th>_id</th>\n",
       "      <th>player</th>\n",
       "      <th>year</th>\n",
       "      <th>comp</th>\n",
       "      <th>gca</th>\n",
       "      <th>shots_on_target</th>\n",
       "      <th>assists</th>\n",
       "      <th>pressures</th>\n",
       "      <th>tackles</th>\n",
       "      <th>interceptions</th>\n",
       "      <th>blocks</th>\n",
       "      <th>average point by temp</th>\n",
       "    </tr>\n",
       "  </thead>\n",
       "  <tbody>\n",
       "    <tr>\n",
       "      <th>386</th>\n",
       "      <td>618f94ac88307f48ce0b0369</td>\n",
       "      <td>James-Milner</td>\n",
       "      <td>2002</td>\n",
       "      <td>Premier League</td>\n",
       "      <td>0.0</td>\n",
       "      <td>0.0</td>\n",
       "      <td>0.0</td>\n",
       "      <td>0.0</td>\n",
       "      <td>0.0</td>\n",
       "      <td>0.0</td>\n",
       "      <td>0.0</td>\n",
       "      <td>0.50</td>\n",
       "    </tr>\n",
       "    <tr>\n",
       "      <th>5780</th>\n",
       "      <td>618f94ac88307f48ce0b187b</td>\n",
       "      <td>James-Milner</td>\n",
       "      <td>2003</td>\n",
       "      <td>Premier League</td>\n",
       "      <td>0.0</td>\n",
       "      <td>0.0</td>\n",
       "      <td>0.0</td>\n",
       "      <td>0.0</td>\n",
       "      <td>0.0</td>\n",
       "      <td>0.0</td>\n",
       "      <td>0.0</td>\n",
       "      <td>0.33</td>\n",
       "    </tr>\n",
       "    <tr>\n",
       "      <th>6391</th>\n",
       "      <td>618f94ac88307f48ce0b1ade</td>\n",
       "      <td>James-Milner</td>\n",
       "      <td>2004</td>\n",
       "      <td>Premier League</td>\n",
       "      <td>0.0</td>\n",
       "      <td>0.0</td>\n",
       "      <td>0.0</td>\n",
       "      <td>0.0</td>\n",
       "      <td>0.0</td>\n",
       "      <td>0.0</td>\n",
       "      <td>0.0</td>\n",
       "      <td>0.44</td>\n",
       "    </tr>\n",
       "    <tr>\n",
       "      <th>4081</th>\n",
       "      <td>618f94ac88307f48ce0b11d8</td>\n",
       "      <td>James-Milner</td>\n",
       "      <td>2004</td>\n",
       "      <td>UEFA Cup</td>\n",
       "      <td>0.0</td>\n",
       "      <td>0.0</td>\n",
       "      <td>0.0</td>\n",
       "      <td>0.0</td>\n",
       "      <td>0.0</td>\n",
       "      <td>0.0</td>\n",
       "      <td>0.0</td>\n",
       "      <td>0.92</td>\n",
       "    </tr>\n",
       "    <tr>\n",
       "      <th>5870</th>\n",
       "      <td>618f94ac88307f48ce0b18d5</td>\n",
       "      <td>James-Milner</td>\n",
       "      <td>2005</td>\n",
       "      <td>UEFA Cup</td>\n",
       "      <td>0.0</td>\n",
       "      <td>0.0</td>\n",
       "      <td>0.0</td>\n",
       "      <td>0.0</td>\n",
       "      <td>0.0</td>\n",
       "      <td>0.0</td>\n",
       "      <td>0.0</td>\n",
       "      <td>0.83</td>\n",
       "    </tr>\n",
       "  </tbody>\n",
       "</table>\n",
       "</div>"
      ]
     },
     "metadata": {},
     "execution_count": 92
    }
   ],
   "metadata": {}
  },
  {
   "cell_type": "code",
   "execution_count": 101,
   "source": [
    "fig = px.bar(milner_annee_comp, x='year', y='average point by temp',color='comp')"
   ],
   "outputs": [],
   "metadata": {}
  },
  {
   "cell_type": "code",
   "execution_count": 102,
   "source": [
    "fig.update_layout( xaxis=dict(\n",
    "                    title=\"year\",\n",
    "                    linecolor=\"#BCCCDC\",  # Sets color of X-axis line\n",
    "                    showgrid=False  # Removes X-axis grid lines\n",
    "                ),\n",
    "                yaxis=dict(\n",
    "                    title=\"value\",  \n",
    "                    linecolor=\"#BCCCDC\",  # Sets color of Y-axis line\n",
    "                    showgrid=False,  # Removes Y-axis grid lines    \n",
    "    ))"
   ],
   "outputs": [
    {
     "output_type": "display_data",
     "data": {
      "application/vnd.plotly.v1+json": {
       "config": {
        "plotlyServerURL": "https://plot.ly"
       },
       "data": [
        {
         "alignmentgroup": "True",
         "hovertemplate": "comp=Premier League<br>year=%{x}<br>average point by temp=%{y}<extra></extra>",
         "legendgroup": "Premier League",
         "marker": {
          "color": "#636efa"
         },
         "name": "Premier League",
         "offsetgroup": "Premier League",
         "orientation": "v",
         "showlegend": true,
         "textposition": "auto",
         "type": "bar",
         "x": [
          "2007",
          "2002",
          "2010",
          "2014",
          "2006",
          "2013",
          "2017",
          "2020",
          "2016",
          "2012",
          "2018",
          "2011",
          "2019",
          "2021",
          "2015",
          "2008",
          "2009",
          "2005",
          "2003",
          "2004"
         ],
         "xaxis": "x",
         "y": [
          0.45,
          0.5,
          0.66,
          0.8,
          0.48,
          0.72,
          0.68,
          0.75,
          0.73,
          0.77,
          0.8,
          0.75,
          0.91,
          0.62,
          0.63,
          0.52,
          0.58,
          0.4,
          0.33,
          0.44
         ],
         "yaxis": "y"
        },
        {
         "alignmentgroup": "True",
         "hovertemplate": "comp=Champions Lg<br>year=%{x}<br>average point by temp=%{y}<extra></extra>",
         "legendgroup": "Champions Lg",
         "marker": {
          "color": "#EF553B"
         },
         "name": "Champions Lg",
         "offsetgroup": "Champions Lg",
         "orientation": "v",
         "showlegend": true,
         "textposition": "auto",
         "type": "bar",
         "x": [
          "2014",
          "2020",
          "2015",
          "2011",
          "2013",
          "2021",
          "2012",
          "2017",
          "2018",
          "2019"
         ],
         "xaxis": "x",
         "y": [
          0.43,
          0.5,
          0,
          0.6,
          0.8,
          0.75,
          0.33,
          0.81,
          0.58,
          0.77
         ],
         "yaxis": "y"
        },
        {
         "alignmentgroup": "True",
         "hovertemplate": "comp=Friendlies (M)<br>year=%{x}<br>average point by temp=%{y}<extra></extra>",
         "legendgroup": "Friendlies (M)",
         "marker": {
          "color": "#00cc96"
         },
         "name": "Friendlies (M)",
         "offsetgroup": "Friendlies (M)",
         "orientation": "v",
         "showlegend": true,
         "textposition": "auto",
         "type": "bar",
         "x": [
          "2014",
          "2015",
          "2016"
         ],
         "xaxis": "x",
         "y": [
          0.83,
          0.5,
          0.75
         ],
         "yaxis": "y"
        },
        {
         "alignmentgroup": "True",
         "hovertemplate": "comp=0<br>year=%{x}<br>average point by temp=%{y}<extra></extra>",
         "legendgroup": "0",
         "marker": {
          "color": "#ab63fa"
         },
         "name": "0",
         "offsetgroup": "0",
         "orientation": "v",
         "showlegend": true,
         "textposition": "auto",
         "type": "bar",
         "x": [
          null
         ],
         "xaxis": "x",
         "y": [
          0
         ],
         "yaxis": "y"
        },
        {
         "alignmentgroup": "True",
         "hovertemplate": "comp=FA Cup<br>year=%{x}<br>average point by temp=%{y}<extra></extra>",
         "legendgroup": "FA Cup",
         "marker": {
          "color": "#FFA15A"
         },
         "name": "FA Cup",
         "offsetgroup": "FA Cup",
         "orientation": "v",
         "showlegend": true,
         "textposition": "auto",
         "type": "bar",
         "x": [
          "2018",
          "2021",
          "2015",
          "2016",
          "2020",
          "2019",
          "2017"
         ],
         "xaxis": "x",
         "y": [
          0.5,
          0.5,
          0.5,
          0,
          0.5,
          0,
          0
         ],
         "yaxis": "y"
        },
        {
         "alignmentgroup": "True",
         "hovertemplate": "comp=UEFA Cup<br>year=%{x}<br>average point by temp=%{y}<extra></extra>",
         "legendgroup": "UEFA Cup",
         "marker": {
          "color": "#19d3f3"
         },
         "name": "UEFA Cup",
         "offsetgroup": "UEFA Cup",
         "orientation": "v",
         "showlegend": true,
         "textposition": "auto",
         "type": "bar",
         "x": [
          "2006",
          "2004",
          "2007",
          "2005",
          "2008"
         ],
         "xaxis": "x",
         "y": [
          0.88,
          0.92,
          0.75,
          0.83,
          0.62
         ],
         "yaxis": "y"
        },
        {
         "alignmentgroup": "True",
         "hovertemplate": "comp=UEFA Euro<br>year=%{x}<br>average point by temp=%{y}<extra></extra>",
         "legendgroup": "UEFA Euro",
         "marker": {
          "color": "#FF6692"
         },
         "name": "UEFA Euro",
         "offsetgroup": "UEFA Euro",
         "orientation": "v",
         "showlegend": true,
         "textposition": "auto",
         "type": "bar",
         "x": [
          "2012",
          "2016"
         ],
         "xaxis": "x",
         "y": [
          0.75,
          0.5
         ],
         "yaxis": "y"
        },
        {
         "alignmentgroup": "True",
         "hovertemplate": "comp=Europa Lg<br>year=%{x}<br>average point by temp=%{y}<extra></extra>",
         "legendgroup": "Europa Lg",
         "marker": {
          "color": "#B6E880"
         },
         "name": "Europa Lg",
         "offsetgroup": "Europa Lg",
         "orientation": "v",
         "showlegend": true,
         "textposition": "auto",
         "type": "bar",
         "x": [
          "2011",
          "2016",
          "2010",
          "2012",
          "2015",
          "2009"
         ],
         "xaxis": "x",
         "y": [
          1,
          0.56,
          0.67,
          0.67,
          0.75,
          0.5
         ],
         "yaxis": "y"
        },
        {
         "alignmentgroup": "True",
         "hovertemplate": "comp=FIFA World Cup<br>year=%{x}<br>average point by temp=%{y}<extra></extra>",
         "legendgroup": "FIFA World Cup",
         "marker": {
          "color": "#FF97FF"
         },
         "name": "FIFA World Cup",
         "offsetgroup": "FIFA World Cup",
         "orientation": "v",
         "showlegend": true,
         "textposition": "auto",
         "type": "bar",
         "x": [
          "2010",
          "2014"
         ],
         "xaxis": "x",
         "y": [
          0.5,
          0.17
         ],
         "yaxis": "y"
        },
        {
         "alignmentgroup": "True",
         "hovertemplate": "comp=League Cup<br>year=%{x}<br>average point by temp=%{y}<extra></extra>",
         "legendgroup": "League Cup",
         "marker": {
          "color": "#FECB52"
         },
         "name": "League Cup",
         "offsetgroup": "League Cup",
         "orientation": "v",
         "showlegend": true,
         "textposition": "auto",
         "type": "bar",
         "x": [
          "2014",
          "2015",
          "2016"
         ],
         "xaxis": "x",
         "y": [
          0.5,
          0.75,
          0.67
         ],
         "yaxis": "y"
        },
        {
         "alignmentgroup": "True",
         "hovertemplate": "comp=EFL Cup<br>year=%{x}<br>average point by temp=%{y}<extra></extra>",
         "legendgroup": "EFL Cup",
         "marker": {
          "color": "#636efa"
         },
         "name": "EFL Cup",
         "offsetgroup": "EFL Cup",
         "orientation": "v",
         "showlegend": true,
         "textposition": "auto",
         "type": "bar",
         "x": [
          "2019",
          "2020",
          "2018",
          "2016",
          "2017"
         ],
         "xaxis": "x",
         "y": [
          0.75,
          0.5,
          0,
          1,
          0
         ],
         "yaxis": "y"
        },
        {
         "alignmentgroup": "True",
         "hovertemplate": "comp=Euro Qualifying<br>year=%{x}<br>average point by temp=%{y}<extra></extra>",
         "legendgroup": "Euro Qualifying",
         "marker": {
          "color": "#EF553B"
         },
         "name": "Euro Qualifying",
         "offsetgroup": "Euro Qualifying",
         "orientation": "v",
         "showlegend": true,
         "textposition": "auto",
         "type": "bar",
         "x": [
          "2015",
          "2014",
          "2010",
          "2011"
         ],
         "xaxis": "x",
         "y": [
          1,
          1,
          1,
          0.88
         ],
         "yaxis": "y"
        },
        {
         "alignmentgroup": "True",
         "hovertemplate": "comp=WCQ — UEFA (M)<br>year=%{x}<br>average point by temp=%{y}<extra></extra>",
         "legendgroup": "WCQ — UEFA (M)",
         "marker": {
          "color": "#00cc96"
         },
         "name": "WCQ — UEFA (M)",
         "offsetgroup": "WCQ — UEFA (M)",
         "orientation": "v",
         "showlegend": true,
         "textposition": "auto",
         "type": "bar",
         "x": [
          "2012",
          "2013",
          "2009"
         ],
         "xaxis": "x",
         "y": [
          0.75,
          0.83,
          0.67
         ],
         "yaxis": "y"
        },
        {
         "alignmentgroup": "True",
         "hovertemplate": "comp=Super Cup<br>year=%{x}<br>average point by temp=%{y}<extra></extra>",
         "legendgroup": "Super Cup",
         "marker": {
          "color": "#ab63fa"
         },
         "name": "Super Cup",
         "offsetgroup": "Super Cup",
         "orientation": "v",
         "showlegend": true,
         "textposition": "auto",
         "type": "bar",
         "x": [
          "2019"
         ],
         "xaxis": "x",
         "y": [
          0.5
         ],
         "yaxis": "y"
        },
        {
         "alignmentgroup": "True",
         "hovertemplate": "comp=Community Shield<br>year=%{x}<br>average point by temp=%{y}<extra></extra>",
         "legendgroup": "Community Shield",
         "marker": {
          "color": "#FFA15A"
         },
         "name": "Community Shield",
         "offsetgroup": "Community Shield",
         "orientation": "v",
         "showlegend": true,
         "textposition": "auto",
         "type": "bar",
         "x": [
          "2020"
         ],
         "xaxis": "x",
         "y": [
          0.5
         ],
         "yaxis": "y"
        }
       ],
       "layout": {
        "barmode": "relative",
        "legend": {
         "title": {
          "text": "comp"
         },
         "tracegroupgap": 0
        },
        "margin": {
         "t": 60
        },
        "template": {
         "data": {
          "bar": [
           {
            "error_x": {
             "color": "#2a3f5f"
            },
            "error_y": {
             "color": "#2a3f5f"
            },
            "marker": {
             "line": {
              "color": "#E5ECF6",
              "width": 0.5
             }
            },
            "type": "bar"
           }
          ],
          "barpolar": [
           {
            "marker": {
             "line": {
              "color": "#E5ECF6",
              "width": 0.5
             }
            },
            "type": "barpolar"
           }
          ],
          "carpet": [
           {
            "aaxis": {
             "endlinecolor": "#2a3f5f",
             "gridcolor": "white",
             "linecolor": "white",
             "minorgridcolor": "white",
             "startlinecolor": "#2a3f5f"
            },
            "baxis": {
             "endlinecolor": "#2a3f5f",
             "gridcolor": "white",
             "linecolor": "white",
             "minorgridcolor": "white",
             "startlinecolor": "#2a3f5f"
            },
            "type": "carpet"
           }
          ],
          "choropleth": [
           {
            "colorbar": {
             "outlinewidth": 0,
             "ticks": ""
            },
            "type": "choropleth"
           }
          ],
          "contour": [
           {
            "colorbar": {
             "outlinewidth": 0,
             "ticks": ""
            },
            "colorscale": [
             [
              0,
              "#0d0887"
             ],
             [
              0.1111111111111111,
              "#46039f"
             ],
             [
              0.2222222222222222,
              "#7201a8"
             ],
             [
              0.3333333333333333,
              "#9c179e"
             ],
             [
              0.4444444444444444,
              "#bd3786"
             ],
             [
              0.5555555555555556,
              "#d8576b"
             ],
             [
              0.6666666666666666,
              "#ed7953"
             ],
             [
              0.7777777777777778,
              "#fb9f3a"
             ],
             [
              0.8888888888888888,
              "#fdca26"
             ],
             [
              1,
              "#f0f921"
             ]
            ],
            "type": "contour"
           }
          ],
          "contourcarpet": [
           {
            "colorbar": {
             "outlinewidth": 0,
             "ticks": ""
            },
            "type": "contourcarpet"
           }
          ],
          "heatmap": [
           {
            "colorbar": {
             "outlinewidth": 0,
             "ticks": ""
            },
            "colorscale": [
             [
              0,
              "#0d0887"
             ],
             [
              0.1111111111111111,
              "#46039f"
             ],
             [
              0.2222222222222222,
              "#7201a8"
             ],
             [
              0.3333333333333333,
              "#9c179e"
             ],
             [
              0.4444444444444444,
              "#bd3786"
             ],
             [
              0.5555555555555556,
              "#d8576b"
             ],
             [
              0.6666666666666666,
              "#ed7953"
             ],
             [
              0.7777777777777778,
              "#fb9f3a"
             ],
             [
              0.8888888888888888,
              "#fdca26"
             ],
             [
              1,
              "#f0f921"
             ]
            ],
            "type": "heatmap"
           }
          ],
          "heatmapgl": [
           {
            "colorbar": {
             "outlinewidth": 0,
             "ticks": ""
            },
            "colorscale": [
             [
              0,
              "#0d0887"
             ],
             [
              0.1111111111111111,
              "#46039f"
             ],
             [
              0.2222222222222222,
              "#7201a8"
             ],
             [
              0.3333333333333333,
              "#9c179e"
             ],
             [
              0.4444444444444444,
              "#bd3786"
             ],
             [
              0.5555555555555556,
              "#d8576b"
             ],
             [
              0.6666666666666666,
              "#ed7953"
             ],
             [
              0.7777777777777778,
              "#fb9f3a"
             ],
             [
              0.8888888888888888,
              "#fdca26"
             ],
             [
              1,
              "#f0f921"
             ]
            ],
            "type": "heatmapgl"
           }
          ],
          "histogram": [
           {
            "marker": {
             "colorbar": {
              "outlinewidth": 0,
              "ticks": ""
             }
            },
            "type": "histogram"
           }
          ],
          "histogram2d": [
           {
            "colorbar": {
             "outlinewidth": 0,
             "ticks": ""
            },
            "colorscale": [
             [
              0,
              "#0d0887"
             ],
             [
              0.1111111111111111,
              "#46039f"
             ],
             [
              0.2222222222222222,
              "#7201a8"
             ],
             [
              0.3333333333333333,
              "#9c179e"
             ],
             [
              0.4444444444444444,
              "#bd3786"
             ],
             [
              0.5555555555555556,
              "#d8576b"
             ],
             [
              0.6666666666666666,
              "#ed7953"
             ],
             [
              0.7777777777777778,
              "#fb9f3a"
             ],
             [
              0.8888888888888888,
              "#fdca26"
             ],
             [
              1,
              "#f0f921"
             ]
            ],
            "type": "histogram2d"
           }
          ],
          "histogram2dcontour": [
           {
            "colorbar": {
             "outlinewidth": 0,
             "ticks": ""
            },
            "colorscale": [
             [
              0,
              "#0d0887"
             ],
             [
              0.1111111111111111,
              "#46039f"
             ],
             [
              0.2222222222222222,
              "#7201a8"
             ],
             [
              0.3333333333333333,
              "#9c179e"
             ],
             [
              0.4444444444444444,
              "#bd3786"
             ],
             [
              0.5555555555555556,
              "#d8576b"
             ],
             [
              0.6666666666666666,
              "#ed7953"
             ],
             [
              0.7777777777777778,
              "#fb9f3a"
             ],
             [
              0.8888888888888888,
              "#fdca26"
             ],
             [
              1,
              "#f0f921"
             ]
            ],
            "type": "histogram2dcontour"
           }
          ],
          "mesh3d": [
           {
            "colorbar": {
             "outlinewidth": 0,
             "ticks": ""
            },
            "type": "mesh3d"
           }
          ],
          "parcoords": [
           {
            "line": {
             "colorbar": {
              "outlinewidth": 0,
              "ticks": ""
             }
            },
            "type": "parcoords"
           }
          ],
          "pie": [
           {
            "automargin": true,
            "type": "pie"
           }
          ],
          "scatter": [
           {
            "marker": {
             "colorbar": {
              "outlinewidth": 0,
              "ticks": ""
             }
            },
            "type": "scatter"
           }
          ],
          "scatter3d": [
           {
            "line": {
             "colorbar": {
              "outlinewidth": 0,
              "ticks": ""
             }
            },
            "marker": {
             "colorbar": {
              "outlinewidth": 0,
              "ticks": ""
             }
            },
            "type": "scatter3d"
           }
          ],
          "scattercarpet": [
           {
            "marker": {
             "colorbar": {
              "outlinewidth": 0,
              "ticks": ""
             }
            },
            "type": "scattercarpet"
           }
          ],
          "scattergeo": [
           {
            "marker": {
             "colorbar": {
              "outlinewidth": 0,
              "ticks": ""
             }
            },
            "type": "scattergeo"
           }
          ],
          "scattergl": [
           {
            "marker": {
             "colorbar": {
              "outlinewidth": 0,
              "ticks": ""
             }
            },
            "type": "scattergl"
           }
          ],
          "scattermapbox": [
           {
            "marker": {
             "colorbar": {
              "outlinewidth": 0,
              "ticks": ""
             }
            },
            "type": "scattermapbox"
           }
          ],
          "scatterpolar": [
           {
            "marker": {
             "colorbar": {
              "outlinewidth": 0,
              "ticks": ""
             }
            },
            "type": "scatterpolar"
           }
          ],
          "scatterpolargl": [
           {
            "marker": {
             "colorbar": {
              "outlinewidth": 0,
              "ticks": ""
             }
            },
            "type": "scatterpolargl"
           }
          ],
          "scatterternary": [
           {
            "marker": {
             "colorbar": {
              "outlinewidth": 0,
              "ticks": ""
             }
            },
            "type": "scatterternary"
           }
          ],
          "surface": [
           {
            "colorbar": {
             "outlinewidth": 0,
             "ticks": ""
            },
            "colorscale": [
             [
              0,
              "#0d0887"
             ],
             [
              0.1111111111111111,
              "#46039f"
             ],
             [
              0.2222222222222222,
              "#7201a8"
             ],
             [
              0.3333333333333333,
              "#9c179e"
             ],
             [
              0.4444444444444444,
              "#bd3786"
             ],
             [
              0.5555555555555556,
              "#d8576b"
             ],
             [
              0.6666666666666666,
              "#ed7953"
             ],
             [
              0.7777777777777778,
              "#fb9f3a"
             ],
             [
              0.8888888888888888,
              "#fdca26"
             ],
             [
              1,
              "#f0f921"
             ]
            ],
            "type": "surface"
           }
          ],
          "table": [
           {
            "cells": {
             "fill": {
              "color": "#EBF0F8"
             },
             "line": {
              "color": "white"
             }
            },
            "header": {
             "fill": {
              "color": "#C8D4E3"
             },
             "line": {
              "color": "white"
             }
            },
            "type": "table"
           }
          ]
         },
         "layout": {
          "annotationdefaults": {
           "arrowcolor": "#2a3f5f",
           "arrowhead": 0,
           "arrowwidth": 1
          },
          "autotypenumbers": "strict",
          "coloraxis": {
           "colorbar": {
            "outlinewidth": 0,
            "ticks": ""
           }
          },
          "colorscale": {
           "diverging": [
            [
             0,
             "#8e0152"
            ],
            [
             0.1,
             "#c51b7d"
            ],
            [
             0.2,
             "#de77ae"
            ],
            [
             0.3,
             "#f1b6da"
            ],
            [
             0.4,
             "#fde0ef"
            ],
            [
             0.5,
             "#f7f7f7"
            ],
            [
             0.6,
             "#e6f5d0"
            ],
            [
             0.7,
             "#b8e186"
            ],
            [
             0.8,
             "#7fbc41"
            ],
            [
             0.9,
             "#4d9221"
            ],
            [
             1,
             "#276419"
            ]
           ],
           "sequential": [
            [
             0,
             "#0d0887"
            ],
            [
             0.1111111111111111,
             "#46039f"
            ],
            [
             0.2222222222222222,
             "#7201a8"
            ],
            [
             0.3333333333333333,
             "#9c179e"
            ],
            [
             0.4444444444444444,
             "#bd3786"
            ],
            [
             0.5555555555555556,
             "#d8576b"
            ],
            [
             0.6666666666666666,
             "#ed7953"
            ],
            [
             0.7777777777777778,
             "#fb9f3a"
            ],
            [
             0.8888888888888888,
             "#fdca26"
            ],
            [
             1,
             "#f0f921"
            ]
           ],
           "sequentialminus": [
            [
             0,
             "#0d0887"
            ],
            [
             0.1111111111111111,
             "#46039f"
            ],
            [
             0.2222222222222222,
             "#7201a8"
            ],
            [
             0.3333333333333333,
             "#9c179e"
            ],
            [
             0.4444444444444444,
             "#bd3786"
            ],
            [
             0.5555555555555556,
             "#d8576b"
            ],
            [
             0.6666666666666666,
             "#ed7953"
            ],
            [
             0.7777777777777778,
             "#fb9f3a"
            ],
            [
             0.8888888888888888,
             "#fdca26"
            ],
            [
             1,
             "#f0f921"
            ]
           ]
          },
          "colorway": [
           "#636efa",
           "#EF553B",
           "#00cc96",
           "#ab63fa",
           "#FFA15A",
           "#19d3f3",
           "#FF6692",
           "#B6E880",
           "#FF97FF",
           "#FECB52"
          ],
          "font": {
           "color": "#2a3f5f"
          },
          "geo": {
           "bgcolor": "white",
           "lakecolor": "white",
           "landcolor": "#E5ECF6",
           "showlakes": true,
           "showland": true,
           "subunitcolor": "white"
          },
          "hoverlabel": {
           "align": "left"
          },
          "hovermode": "closest",
          "mapbox": {
           "style": "light"
          },
          "paper_bgcolor": "white",
          "plot_bgcolor": "#E5ECF6",
          "polar": {
           "angularaxis": {
            "gridcolor": "white",
            "linecolor": "white",
            "ticks": ""
           },
           "bgcolor": "#E5ECF6",
           "radialaxis": {
            "gridcolor": "white",
            "linecolor": "white",
            "ticks": ""
           }
          },
          "scene": {
           "xaxis": {
            "backgroundcolor": "#E5ECF6",
            "gridcolor": "white",
            "gridwidth": 2,
            "linecolor": "white",
            "showbackground": true,
            "ticks": "",
            "zerolinecolor": "white"
           },
           "yaxis": {
            "backgroundcolor": "#E5ECF6",
            "gridcolor": "white",
            "gridwidth": 2,
            "linecolor": "white",
            "showbackground": true,
            "ticks": "",
            "zerolinecolor": "white"
           },
           "zaxis": {
            "backgroundcolor": "#E5ECF6",
            "gridcolor": "white",
            "gridwidth": 2,
            "linecolor": "white",
            "showbackground": true,
            "ticks": "",
            "zerolinecolor": "white"
           }
          },
          "shapedefaults": {
           "line": {
            "color": "#2a3f5f"
           }
          },
          "ternary": {
           "aaxis": {
            "gridcolor": "white",
            "linecolor": "white",
            "ticks": ""
           },
           "baxis": {
            "gridcolor": "white",
            "linecolor": "white",
            "ticks": ""
           },
           "bgcolor": "#E5ECF6",
           "caxis": {
            "gridcolor": "white",
            "linecolor": "white",
            "ticks": ""
           }
          },
          "title": {
           "x": 0.05
          },
          "xaxis": {
           "automargin": true,
           "gridcolor": "white",
           "linecolor": "white",
           "ticks": "",
           "title": {
            "standoff": 15
           },
           "zerolinecolor": "white",
           "zerolinewidth": 2
          },
          "yaxis": {
           "automargin": true,
           "gridcolor": "white",
           "linecolor": "white",
           "ticks": "",
           "title": {
            "standoff": 15
           },
           "zerolinecolor": "white",
           "zerolinewidth": 2
          }
         }
        },
        "xaxis": {
         "anchor": "y",
         "domain": [
          0,
          1
         ],
         "linecolor": "#BCCCDC",
         "showgrid": false,
         "title": {
          "text": "year"
         }
        },
        "yaxis": {
         "anchor": "x",
         "domain": [
          0,
          1
         ],
         "linecolor": "#BCCCDC",
         "showgrid": false,
         "title": {
          "text": "value"
         }
        }
       }
      }
     },
     "metadata": {}
    }
   ],
   "metadata": {}
  },
  {
   "cell_type": "code",
   "execution_count": 32,
   "source": [
    "player_comp = pd.DataFrame(db_compare['competition'].find({}))\n"
   ],
   "outputs": [],
   "metadata": {}
  },
  {
   "cell_type": "code",
   "execution_count": 38,
   "source": [
    "milner_df = player_comp[player_comp['player'].str.contains(\"Milner\")]"
   ],
   "outputs": [],
   "metadata": {}
  },
  {
   "cell_type": "code",
   "execution_count": 43,
   "source": [
    "import plotly.graph_objects as go"
   ],
   "outputs": [],
   "metadata": {}
  },
  {
   "cell_type": "code",
   "execution_count": 46,
   "source": [
    "milner_df[milner_df.columns[2]].values.tolist()"
   ],
   "outputs": [
    {
     "output_type": "execute_result",
     "data": {
      "text/plain": [
       "['UEFA Cup',\n",
       " '0',\n",
       " 'Super Cup',\n",
       " 'Community Shield',\n",
       " 'EFL Cup',\n",
       " 'Europa Lg',\n",
       " 'Friendlies (M)',\n",
       " 'FA Cup',\n",
       " 'WCQ — UEFA (M)',\n",
       " 'UEFA Euro',\n",
       " 'League Cup',\n",
       " 'Champions Lg',\n",
       " 'Premier League',\n",
       " 'Euro Qualifying',\n",
       " 'FIFA World Cup']"
      ]
     },
     "metadata": {},
     "execution_count": 46
    }
   ],
   "metadata": {}
  },
  {
   "cell_type": "code",
   "execution_count": 51,
   "source": [
    "milner_df[milner_df.columns[2]].values.tolist()\n",
    "\n",
    "\n",
    "fig = go.Figure(data=go.Heatmap(\n",
    "                   z=milner_df[milner_df.columns[3:]],\n",
    "                   x=milner_df.columns[3:],\n",
    "                   y=milner_df[milner_df.columns[2]].values.tolist(),\n",
    "                   hoverongaps = False)\n",
    "                ).update_layout(title=\"Milner performance by competition\").show()\n",
    "            "
   ],
   "outputs": [
    {
     "output_type": "display_data",
     "data": {
      "application/vnd.plotly.v1+json": {
       "config": {
        "plotlyServerURL": "https://plot.ly"
       },
       "data": [
        {
         "hoverongaps": false,
         "type": "heatmap",
         "x": [
          "gca",
          "shots_on_target",
          "assists",
          "pressures",
          "tackles",
          "interceptions",
          "blocks",
          "average point by temp"
         ],
         "y": [
          "UEFA Cup",
          "0",
          "Super Cup",
          "Community Shield",
          "EFL Cup",
          "Europa Lg",
          "Friendlies (M)",
          "FA Cup",
          "WCQ — UEFA (M)",
          "UEFA Euro",
          "League Cup",
          "Champions Lg",
          "Premier League",
          "Euro Qualifying",
          "FIFA World Cup"
         ],
         "z": [
          [
           0,
           0,
           0,
           0,
           0,
           0,
           0,
           0.82
          ],
          [
           0,
           0,
           0,
           0,
           0,
           0,
           0,
           0
          ],
          [
           0,
           0,
           0,
           0,
           0,
           0,
           0,
           0.5
          ],
          [
           0,
           0,
           0,
           0,
           0,
           0,
           0,
           0.5
          ],
          [
           0,
           0.3,
           0.2,
           0,
           0,
           1.2,
           0,
           0.5
          ],
          [
           0,
           0.17,
           0.12,
           0,
           0,
           0.88,
           0,
           0.65
          ],
          [
           0,
           0,
           0,
           0,
           0,
           0,
           0,
           0.77
          ],
          [
           0,
           0.18,
           0,
           0,
           0,
           0.27,
           0,
           0.36
          ],
          [
           0,
           0,
           0,
           0,
           0,
           0,
           0,
           0.77
          ],
          [
           0,
           0,
           0,
           0,
           0,
           0,
           0,
           0.62
          ],
          [
           0,
           0,
           0,
           0,
           0,
           0,
           0,
           0.64
          ],
          [
           0.1,
           0.13,
           0.19,
           6.13,
           0.75,
           0.47,
           0.53,
           0.62
          ],
          [
           0.03,
           0.09,
           0.05,
           2.08,
           0.27,
           0.29,
           0.23,
           0.64
          ],
          [
           0,
           0.07,
           0.07,
           0,
           0,
           0.27,
           0,
           0.97
          ],
          [
           0,
           0,
           0,
           0,
           0,
           0,
           0,
           0.36
          ]
         ]
        }
       ],
       "layout": {
        "template": {
         "data": {
          "bar": [
           {
            "error_x": {
             "color": "#2a3f5f"
            },
            "error_y": {
             "color": "#2a3f5f"
            },
            "marker": {
             "line": {
              "color": "#E5ECF6",
              "width": 0.5
             }
            },
            "type": "bar"
           }
          ],
          "barpolar": [
           {
            "marker": {
             "line": {
              "color": "#E5ECF6",
              "width": 0.5
             }
            },
            "type": "barpolar"
           }
          ],
          "carpet": [
           {
            "aaxis": {
             "endlinecolor": "#2a3f5f",
             "gridcolor": "white",
             "linecolor": "white",
             "minorgridcolor": "white",
             "startlinecolor": "#2a3f5f"
            },
            "baxis": {
             "endlinecolor": "#2a3f5f",
             "gridcolor": "white",
             "linecolor": "white",
             "minorgridcolor": "white",
             "startlinecolor": "#2a3f5f"
            },
            "type": "carpet"
           }
          ],
          "choropleth": [
           {
            "colorbar": {
             "outlinewidth": 0,
             "ticks": ""
            },
            "type": "choropleth"
           }
          ],
          "contour": [
           {
            "colorbar": {
             "outlinewidth": 0,
             "ticks": ""
            },
            "colorscale": [
             [
              0,
              "#0d0887"
             ],
             [
              0.1111111111111111,
              "#46039f"
             ],
             [
              0.2222222222222222,
              "#7201a8"
             ],
             [
              0.3333333333333333,
              "#9c179e"
             ],
             [
              0.4444444444444444,
              "#bd3786"
             ],
             [
              0.5555555555555556,
              "#d8576b"
             ],
             [
              0.6666666666666666,
              "#ed7953"
             ],
             [
              0.7777777777777778,
              "#fb9f3a"
             ],
             [
              0.8888888888888888,
              "#fdca26"
             ],
             [
              1,
              "#f0f921"
             ]
            ],
            "type": "contour"
           }
          ],
          "contourcarpet": [
           {
            "colorbar": {
             "outlinewidth": 0,
             "ticks": ""
            },
            "type": "contourcarpet"
           }
          ],
          "heatmap": [
           {
            "colorbar": {
             "outlinewidth": 0,
             "ticks": ""
            },
            "colorscale": [
             [
              0,
              "#0d0887"
             ],
             [
              0.1111111111111111,
              "#46039f"
             ],
             [
              0.2222222222222222,
              "#7201a8"
             ],
             [
              0.3333333333333333,
              "#9c179e"
             ],
             [
              0.4444444444444444,
              "#bd3786"
             ],
             [
              0.5555555555555556,
              "#d8576b"
             ],
             [
              0.6666666666666666,
              "#ed7953"
             ],
             [
              0.7777777777777778,
              "#fb9f3a"
             ],
             [
              0.8888888888888888,
              "#fdca26"
             ],
             [
              1,
              "#f0f921"
             ]
            ],
            "type": "heatmap"
           }
          ],
          "heatmapgl": [
           {
            "colorbar": {
             "outlinewidth": 0,
             "ticks": ""
            },
            "colorscale": [
             [
              0,
              "#0d0887"
             ],
             [
              0.1111111111111111,
              "#46039f"
             ],
             [
              0.2222222222222222,
              "#7201a8"
             ],
             [
              0.3333333333333333,
              "#9c179e"
             ],
             [
              0.4444444444444444,
              "#bd3786"
             ],
             [
              0.5555555555555556,
              "#d8576b"
             ],
             [
              0.6666666666666666,
              "#ed7953"
             ],
             [
              0.7777777777777778,
              "#fb9f3a"
             ],
             [
              0.8888888888888888,
              "#fdca26"
             ],
             [
              1,
              "#f0f921"
             ]
            ],
            "type": "heatmapgl"
           }
          ],
          "histogram": [
           {
            "marker": {
             "colorbar": {
              "outlinewidth": 0,
              "ticks": ""
             }
            },
            "type": "histogram"
           }
          ],
          "histogram2d": [
           {
            "colorbar": {
             "outlinewidth": 0,
             "ticks": ""
            },
            "colorscale": [
             [
              0,
              "#0d0887"
             ],
             [
              0.1111111111111111,
              "#46039f"
             ],
             [
              0.2222222222222222,
              "#7201a8"
             ],
             [
              0.3333333333333333,
              "#9c179e"
             ],
             [
              0.4444444444444444,
              "#bd3786"
             ],
             [
              0.5555555555555556,
              "#d8576b"
             ],
             [
              0.6666666666666666,
              "#ed7953"
             ],
             [
              0.7777777777777778,
              "#fb9f3a"
             ],
             [
              0.8888888888888888,
              "#fdca26"
             ],
             [
              1,
              "#f0f921"
             ]
            ],
            "type": "histogram2d"
           }
          ],
          "histogram2dcontour": [
           {
            "colorbar": {
             "outlinewidth": 0,
             "ticks": ""
            },
            "colorscale": [
             [
              0,
              "#0d0887"
             ],
             [
              0.1111111111111111,
              "#46039f"
             ],
             [
              0.2222222222222222,
              "#7201a8"
             ],
             [
              0.3333333333333333,
              "#9c179e"
             ],
             [
              0.4444444444444444,
              "#bd3786"
             ],
             [
              0.5555555555555556,
              "#d8576b"
             ],
             [
              0.6666666666666666,
              "#ed7953"
             ],
             [
              0.7777777777777778,
              "#fb9f3a"
             ],
             [
              0.8888888888888888,
              "#fdca26"
             ],
             [
              1,
              "#f0f921"
             ]
            ],
            "type": "histogram2dcontour"
           }
          ],
          "mesh3d": [
           {
            "colorbar": {
             "outlinewidth": 0,
             "ticks": ""
            },
            "type": "mesh3d"
           }
          ],
          "parcoords": [
           {
            "line": {
             "colorbar": {
              "outlinewidth": 0,
              "ticks": ""
             }
            },
            "type": "parcoords"
           }
          ],
          "pie": [
           {
            "automargin": true,
            "type": "pie"
           }
          ],
          "scatter": [
           {
            "marker": {
             "colorbar": {
              "outlinewidth": 0,
              "ticks": ""
             }
            },
            "type": "scatter"
           }
          ],
          "scatter3d": [
           {
            "line": {
             "colorbar": {
              "outlinewidth": 0,
              "ticks": ""
             }
            },
            "marker": {
             "colorbar": {
              "outlinewidth": 0,
              "ticks": ""
             }
            },
            "type": "scatter3d"
           }
          ],
          "scattercarpet": [
           {
            "marker": {
             "colorbar": {
              "outlinewidth": 0,
              "ticks": ""
             }
            },
            "type": "scattercarpet"
           }
          ],
          "scattergeo": [
           {
            "marker": {
             "colorbar": {
              "outlinewidth": 0,
              "ticks": ""
             }
            },
            "type": "scattergeo"
           }
          ],
          "scattergl": [
           {
            "marker": {
             "colorbar": {
              "outlinewidth": 0,
              "ticks": ""
             }
            },
            "type": "scattergl"
           }
          ],
          "scattermapbox": [
           {
            "marker": {
             "colorbar": {
              "outlinewidth": 0,
              "ticks": ""
             }
            },
            "type": "scattermapbox"
           }
          ],
          "scatterpolar": [
           {
            "marker": {
             "colorbar": {
              "outlinewidth": 0,
              "ticks": ""
             }
            },
            "type": "scatterpolar"
           }
          ],
          "scatterpolargl": [
           {
            "marker": {
             "colorbar": {
              "outlinewidth": 0,
              "ticks": ""
             }
            },
            "type": "scatterpolargl"
           }
          ],
          "scatterternary": [
           {
            "marker": {
             "colorbar": {
              "outlinewidth": 0,
              "ticks": ""
             }
            },
            "type": "scatterternary"
           }
          ],
          "surface": [
           {
            "colorbar": {
             "outlinewidth": 0,
             "ticks": ""
            },
            "colorscale": [
             [
              0,
              "#0d0887"
             ],
             [
              0.1111111111111111,
              "#46039f"
             ],
             [
              0.2222222222222222,
              "#7201a8"
             ],
             [
              0.3333333333333333,
              "#9c179e"
             ],
             [
              0.4444444444444444,
              "#bd3786"
             ],
             [
              0.5555555555555556,
              "#d8576b"
             ],
             [
              0.6666666666666666,
              "#ed7953"
             ],
             [
              0.7777777777777778,
              "#fb9f3a"
             ],
             [
              0.8888888888888888,
              "#fdca26"
             ],
             [
              1,
              "#f0f921"
             ]
            ],
            "type": "surface"
           }
          ],
          "table": [
           {
            "cells": {
             "fill": {
              "color": "#EBF0F8"
             },
             "line": {
              "color": "white"
             }
            },
            "header": {
             "fill": {
              "color": "#C8D4E3"
             },
             "line": {
              "color": "white"
             }
            },
            "type": "table"
           }
          ]
         },
         "layout": {
          "annotationdefaults": {
           "arrowcolor": "#2a3f5f",
           "arrowhead": 0,
           "arrowwidth": 1
          },
          "autotypenumbers": "strict",
          "coloraxis": {
           "colorbar": {
            "outlinewidth": 0,
            "ticks": ""
           }
          },
          "colorscale": {
           "diverging": [
            [
             0,
             "#8e0152"
            ],
            [
             0.1,
             "#c51b7d"
            ],
            [
             0.2,
             "#de77ae"
            ],
            [
             0.3,
             "#f1b6da"
            ],
            [
             0.4,
             "#fde0ef"
            ],
            [
             0.5,
             "#f7f7f7"
            ],
            [
             0.6,
             "#e6f5d0"
            ],
            [
             0.7,
             "#b8e186"
            ],
            [
             0.8,
             "#7fbc41"
            ],
            [
             0.9,
             "#4d9221"
            ],
            [
             1,
             "#276419"
            ]
           ],
           "sequential": [
            [
             0,
             "#0d0887"
            ],
            [
             0.1111111111111111,
             "#46039f"
            ],
            [
             0.2222222222222222,
             "#7201a8"
            ],
            [
             0.3333333333333333,
             "#9c179e"
            ],
            [
             0.4444444444444444,
             "#bd3786"
            ],
            [
             0.5555555555555556,
             "#d8576b"
            ],
            [
             0.6666666666666666,
             "#ed7953"
            ],
            [
             0.7777777777777778,
             "#fb9f3a"
            ],
            [
             0.8888888888888888,
             "#fdca26"
            ],
            [
             1,
             "#f0f921"
            ]
           ],
           "sequentialminus": [
            [
             0,
             "#0d0887"
            ],
            [
             0.1111111111111111,
             "#46039f"
            ],
            [
             0.2222222222222222,
             "#7201a8"
            ],
            [
             0.3333333333333333,
             "#9c179e"
            ],
            [
             0.4444444444444444,
             "#bd3786"
            ],
            [
             0.5555555555555556,
             "#d8576b"
            ],
            [
             0.6666666666666666,
             "#ed7953"
            ],
            [
             0.7777777777777778,
             "#fb9f3a"
            ],
            [
             0.8888888888888888,
             "#fdca26"
            ],
            [
             1,
             "#f0f921"
            ]
           ]
          },
          "colorway": [
           "#636efa",
           "#EF553B",
           "#00cc96",
           "#ab63fa",
           "#FFA15A",
           "#19d3f3",
           "#FF6692",
           "#B6E880",
           "#FF97FF",
           "#FECB52"
          ],
          "font": {
           "color": "#2a3f5f"
          },
          "geo": {
           "bgcolor": "white",
           "lakecolor": "white",
           "landcolor": "#E5ECF6",
           "showlakes": true,
           "showland": true,
           "subunitcolor": "white"
          },
          "hoverlabel": {
           "align": "left"
          },
          "hovermode": "closest",
          "mapbox": {
           "style": "light"
          },
          "paper_bgcolor": "white",
          "plot_bgcolor": "#E5ECF6",
          "polar": {
           "angularaxis": {
            "gridcolor": "white",
            "linecolor": "white",
            "ticks": ""
           },
           "bgcolor": "#E5ECF6",
           "radialaxis": {
            "gridcolor": "white",
            "linecolor": "white",
            "ticks": ""
           }
          },
          "scene": {
           "xaxis": {
            "backgroundcolor": "#E5ECF6",
            "gridcolor": "white",
            "gridwidth": 2,
            "linecolor": "white",
            "showbackground": true,
            "ticks": "",
            "zerolinecolor": "white"
           },
           "yaxis": {
            "backgroundcolor": "#E5ECF6",
            "gridcolor": "white",
            "gridwidth": 2,
            "linecolor": "white",
            "showbackground": true,
            "ticks": "",
            "zerolinecolor": "white"
           },
           "zaxis": {
            "backgroundcolor": "#E5ECF6",
            "gridcolor": "white",
            "gridwidth": 2,
            "linecolor": "white",
            "showbackground": true,
            "ticks": "",
            "zerolinecolor": "white"
           }
          },
          "shapedefaults": {
           "line": {
            "color": "#2a3f5f"
           }
          },
          "ternary": {
           "aaxis": {
            "gridcolor": "white",
            "linecolor": "white",
            "ticks": ""
           },
           "baxis": {
            "gridcolor": "white",
            "linecolor": "white",
            "ticks": ""
           },
           "bgcolor": "#E5ECF6",
           "caxis": {
            "gridcolor": "white",
            "linecolor": "white",
            "ticks": ""
           }
          },
          "title": {
           "x": 0.05
          },
          "xaxis": {
           "automargin": true,
           "gridcolor": "white",
           "linecolor": "white",
           "ticks": "",
           "title": {
            "standoff": 15
           },
           "zerolinecolor": "white",
           "zerolinewidth": 2
          },
          "yaxis": {
           "automargin": true,
           "gridcolor": "white",
           "linecolor": "white",
           "ticks": "",
           "title": {
            "standoff": 15
           },
           "zerolinecolor": "white",
           "zerolinewidth": 2
          }
         }
        },
        "title": {
         "text": "Milner performance by competition"
        }
       }
      }
     },
     "metadata": {}
    }
   ],
   "metadata": {}
  },
  {
   "cell_type": "code",
   "execution_count": 52,
   "source": [
    "captain_df = pd.DataFrame(db_compare['captain'].find({}))"
   ],
   "outputs": [],
   "metadata": {}
  },
  {
   "cell_type": "code",
   "execution_count": 55,
   "source": [
    "milner_captain = captain_df[captain_df['player']=='James-Milner']"
   ],
   "outputs": [],
   "metadata": {}
  },
  {
   "cell_type": "code",
   "execution_count": null,
   "source": [
    "milner_captain"
   ],
   "outputs": [],
   "metadata": {}
  },
  {
   "cell_type": "code",
   "execution_count": 56,
   "source": [
    "fig = go.Figure(data=go.Heatmap(\n",
    "                   z=milner_captain[milner_captain.columns[3:]],\n",
    "                   x=milner_captain.columns[3:],\n",
    "                   y=milner_captain[milner_captain.columns[2]].values.tolist(),\n",
    "                   hoverongaps = False)\n",
    "                ).update_layout(title=\"Milner performance by captains\").show()"
   ],
   "outputs": [
    {
     "output_type": "display_data",
     "data": {
      "application/vnd.plotly.v1+json": {
       "config": {
        "plotlyServerURL": "https://plot.ly"
       },
       "data": [
        {
         "hoverongaps": false,
         "type": "heatmap",
         "x": [
          "gca",
          "shots_on_target",
          "assists",
          "pressures",
          "tackles",
          "interceptions",
          "blocks",
          "average point by temp"
         ],
         "y": [
          "Fabricio Coloccini",
          "Marek Hamsik",
          "Noel Valladares",
          "Gary Cahill",
          "George Williams",
          "Scott Brown",
          "John Terry",
          "Philippe Coutinho",
          "Kevin De Bruyne",
          "Yaya Toure",
          "Vincent Kompany",
          "Tom Huddlestone",
          "Kevin Vogt",
          "Sergey Ryzhikov",
          "Harry Kane",
          "Virgil van Dijk",
          "Marcos Tavares",
          "Michael Carrick",
          "Tyrone Mings",
          "Andy Selva",
          "Mats Hummels",
          "James Ward-Prowse",
          "Conor Coady",
          "Santi Cazorla",
          "Mile Jedinak",
          "Grant Hanley",
          "Alberto Moreno",
          "Dusan Tadic",
          "Troy Deeney",
          "Artyom Rebrov",
          "Pontus Jansson",
          "Micah Richards",
          "Luka Milivojevic",
          "Luke Ayling",
          "Sergio Escudero",
          "Zlatan Ibrahimovic",
          "Leighton Baines",
          "Mbwana Samatta",
          "Jack Grealish",
          "Simon Francis",
          "Jack Butland",
          "Cesar Azpilicueta",
          "Richard Keogh",
          "Pepe",
          "Vujadin Savic",
          "Seamus Coleman",
          "Bostjan Cesar",
          "Bruno Soriano",
          "Phil Jagielka",
          "Jonathan Hogg",
          "David Silva",
          "Bruno",
          "Antonio Valencia",
          "Moussa Sissoko",
          "Russell Martin",
          "Branislav Ivanovic",
          "Winston Reid",
          "Manuel Neuer",
          "Xavier Kouassi",
          "Stiliyan Petrov",
          "Gokhan Inler",
          "Marcin Wasilewski",
          "David McGoldrick",
          "Alexander Frei",
          "Chris Brunt",
          "Jordan Henderson",
          "Heurelho Gomes",
          "Ben Mee",
          "Paul Verhaegh",
          "Sami Khedira",
          "Dominic Revan",
          "Karim Benzema",
          "Wes Morgan",
          "Jorginho",
          "Liam Cooper",
          "Laurent Koscielny",
          "Dejan Lovren",
          "Elsad Zverotic",
          "Tom Heaton",
          "Ryan Shawcross",
          "Pierre Hojbjerg",
          "Lorenzo Insigne",
          "Pierre-Emerick Aubameyang",
          "Alexandru Epureanu",
          "Steven Davis",
          "Mark Noble",
          "Steven Gerrard",
          null,
          "Mesut Ozil",
          "Oliver Norwood",
          "Martin Skrtel",
          "Chris Smalling",
          "Papu Gomez",
          "Harry Maguire",
          "Federico Fernandez",
          "Ryan Bertrand",
          "Hector Herrera",
          "Sean Morrison",
          "Koke",
          "Jose Fonte",
          "Leon Britton",
          "Lionel Messi",
          "Oleksandr Kucher",
          "Lewis Dunk",
          "Tom Cairney",
          "Aaron Ramsey",
          "Wayne Rooney",
          "James Milner",
          "Andreas Ulmer",
          "Kasper Schmeichel",
          "Sergio Ramos",
          "John O'Shea",
          "Darren Fletcher",
          "Daniele De Rossi",
          "Declan Rice",
          "Jamaal Lascelles",
          "Ben Gibson",
          "Hugo Lloris",
          "Tommy Elphick",
          "Lucas Leiva",
          "Georginio Wijnaldum",
          "Kyle McFadzean",
          "Andriy Shevchenko",
          "Thiago Silva",
          "Ashley Young",
          "Jonjo Shelvey",
          "Ragnar Klavan"
         ],
         "z": [
          [
           0,
           0,
           0,
           0,
           0,
           2,
           0,
           0
          ],
          [
           0,
           0,
           0,
           25,
           1,
           0,
           2,
           0
          ],
          [
           0,
           0,
           0,
           0,
           0,
           0,
           0,
           0.5
          ],
          [
           0,
           0,
           0,
           7.33,
           0.33,
           1.67,
           1,
           0.67
          ],
          [
           0,
           1,
           1,
           0,
           0,
           0,
           0,
           1
          ],
          [
           0,
           0,
           0,
           0,
           0,
           0,
           0,
           1
          ],
          [
           0,
           0,
           0,
           0,
           0,
           0,
           0,
           0.89
          ],
          [
           0,
           0,
           1,
           0.67,
           0,
           0.33,
           0,
           0.83
          ],
          [
           0,
           0,
           0,
           4,
           1.5,
           0,
           2,
           0.25
          ],
          [
           0,
           0,
           0,
           0,
           0,
           2,
           0,
           1
          ],
          [
           0,
           0,
           0,
           23,
           1,
           2,
           3,
           0
          ],
          [
           0,
           2,
           0,
           0,
           0,
           1,
           0,
           0
          ],
          [
           0,
           0,
           0,
           0,
           0,
           0,
           0,
           1
          ],
          [
           0,
           1,
           0,
           0,
           0,
           1,
           0,
           1
          ],
          [
           0,
           0.5,
           0,
           10,
           2.5,
           0.5,
           2,
           0.75
          ],
          [
           0,
           0,
           0,
           2.57,
           0.14,
           0.14,
           0.29,
           1
          ],
          [
           0,
           1,
           1,
           0,
           0,
           0,
           0,
           1
          ],
          [
           0,
           0.33,
           0,
           0,
           0,
           2,
           0,
           0.33
          ],
          [
           0,
           0,
           0,
           0,
           0,
           0,
           0,
           1
          ],
          [
           0,
           0,
           0,
           0,
           0,
           0,
           0,
           1
          ],
          [
           0,
           0,
           1,
           0,
           0,
           4,
           0,
           0.5
          ],
          [
           0,
           0,
           0,
           2,
           0,
           0,
           0,
           0
          ],
          [
           0,
           0.33,
           0,
           11.33,
           1.33,
           0.67,
           2,
           0.67
          ],
          [
           0,
           2,
           0,
           0,
           0,
           0,
           0,
           0.5
          ],
          [
           0,
           0,
           0,
           0,
           0,
           1,
           0,
           1
          ],
          [
           0,
           0,
           0,
           7,
           1.5,
           0.5,
           1,
           1
          ],
          [
           0,
           1,
           0,
           0,
           0,
           1,
           0,
           0
          ],
          [
           0,
           0,
           0,
           23,
           6,
           1,
           2,
           1
          ],
          [
           0,
           0.5,
           0,
           1.5,
           0,
           1,
           0,
           1
          ],
          [
           0,
           0,
           0,
           0,
           0,
           0,
           0,
           0.5
          ],
          [
           0,
           0,
           0,
           0,
           0,
           0,
           0,
           0.5
          ],
          [
           0,
           1,
           0,
           0,
           0,
           2,
           0,
           1
          ],
          [
           0.33,
           0,
           0.33,
           14.67,
           1.67,
           3.67,
           1.33,
           1
          ],
          [
           0,
           0,
           0,
           24,
           3,
           0,
           6,
           0.5
          ],
          [
           0,
           0,
           0,
           0,
           0,
           0,
           0,
           0.5
          ],
          [
           0,
           0,
           0,
           0,
           0,
           0,
           0,
           1
          ],
          [
           0,
           0,
           0,
           0,
           0,
           2,
           0,
           1
          ],
          [
           0,
           0,
           0,
           10,
           1,
           0,
           3,
           1
          ],
          [
           0,
           0,
           0,
           9,
           2,
           0,
           1,
           0
          ],
          [
           0,
           0,
           0,
           7.25,
           0.25,
           0.5,
           1,
           0.75
          ],
          [
           0,
           0,
           0,
           0,
           0,
           0,
           0,
           1
          ],
          [
           0,
           0,
           0,
           14.67,
           0.67,
           0.33,
           1,
           0.5
          ],
          [
           0,
           0,
           0,
           0,
           0,
           0,
           0,
           1
          ],
          [
           1,
           0,
           1,
           8,
           2,
           3,
           0,
           1
          ],
          [
           0,
           0,
           0,
           15,
           1,
           0,
           2,
           0
          ],
          [
           0,
           0,
           0,
           3,
           0.67,
           0,
           0.33,
           0.5
          ],
          [
           0,
           0,
           0,
           0,
           0,
           0,
           0,
           1
          ],
          [
           0,
           0,
           0,
           0,
           0,
           2,
           0,
           0
          ],
          [
           0,
           1.5,
           0.5,
           2,
           1,
           0,
           0,
           0.5
          ],
          [
           0,
           0.5,
           0,
           15.5,
           3,
           2,
           3,
           1
          ],
          [
           0,
           0.33,
           0,
           3,
           0,
           0.67,
           0,
           0.5
          ],
          [
           0,
           0,
           0,
           21,
           3,
           0,
           1,
           1
          ],
          [
           0,
           0,
           0,
           9,
           1.33,
           0,
           0.33,
           0.33
          ],
          [
           0,
           0,
           1,
           16,
           5,
           1,
           0,
           1
          ],
          [
           0,
           1,
           1,
           0,
           0,
           1,
           0,
           1
          ],
          [
           0,
           0,
           0,
           0,
           0,
           1,
           0,
           1
          ],
          [
           0,
           0,
           0,
           0,
           0,
           2,
           0,
           1
          ],
          [
           1,
           0,
           1,
           22,
           1,
           0,
           2,
           1
          ],
          [
           0,
           0,
           0,
           0,
           0,
           1,
           0,
           0.5
          ],
          [
           0,
           0,
           0,
           0,
           0,
           0,
           0,
           1
          ],
          [
           0,
           0,
           0,
           0,
           0,
           1,
           0,
           1
          ],
          [
           0,
           0,
           0,
           0,
           0,
           0,
           0,
           0.5
          ],
          [
           0,
           0,
           0,
           5,
           1,
           1,
           0,
           1
          ],
          [
           0,
           0,
           0,
           0,
           0,
           0,
           0,
           1
          ],
          [
           0,
           0,
           0,
           30,
           3,
           2,
           2,
           0.5
          ],
          [
           0.07,
           0.23,
           0.15,
           5.77,
           0.7,
           0.88,
           0.49,
           0.77
          ],
          [
           0,
           0,
           0,
           2,
           1,
           0,
           0,
           0.5
          ],
          [
           0,
           0.25,
           0,
           3.5,
           0,
           0,
           0.5,
           1
          ],
          [
           0,
           0,
           0,
           0,
           0,
           1,
           0,
           0.5
          ],
          [
           0,
           0,
           0,
           0,
           0,
           0,
           0,
           1
          ],
          [
           0,
           0,
           0,
           0,
           0,
           0,
           0,
           1
          ],
          [
           0,
           0,
           0,
           0,
           0,
           0,
           0,
           0
          ],
          [
           0.2,
           0,
           0.2,
           7.4,
           0.6,
           1,
           0.8,
           0.4
          ],
          [
           0,
           0,
           0,
           3,
           0,
           0,
           0,
           1
          ],
          [
           0,
           0,
           0,
           0,
           0,
           0,
           0,
           1
          ],
          [
           1,
           0,
           0,
           15,
           4,
           2,
           3,
           0.5
          ],
          [
           0,
           0,
           0,
           5,
           1,
           0,
           1,
           1
          ],
          [
           0,
           0,
           0,
           0,
           0,
           0,
           0,
           0.5
          ],
          [
           0,
           0,
           0,
           0,
           0,
           1,
           0,
           0
          ],
          [
           0,
           0,
           0,
           4,
           0.5,
           0,
           0,
           1
          ],
          [
           0.5,
           0,
           0.5,
           9,
           1,
           0,
           0.5,
           1
          ],
          [
           0,
           0,
           0,
           24,
           3,
           0,
           3,
           0
          ],
          [
           0,
           0,
           0,
           4.5,
           0,
           0.5,
           0.5,
           0.75
          ],
          [
           0,
           0,
           0,
           0,
           0,
           0,
           0,
           1
          ],
          [
           0,
           0,
           0,
           0,
           0,
           4,
           0,
           0
          ],
          [
           0.5,
           0,
           0.5,
           13,
           2.5,
           0,
           1,
           0.75
          ],
          [
           0,
           0,
           0,
           0,
           0,
           0,
           0,
           0.89
          ],
          [
           0,
           0.02,
           0.01,
           0,
           0,
           0.04,
           0,
           0.51
          ],
          [
           0,
           1,
           0,
           29,
           6,
           2,
           2,
           0.5
          ],
          [
           0,
           0,
           0,
           2,
           0,
           0,
           1,
           1
          ],
          [
           0,
           0,
           0,
           0,
           0,
           0,
           0,
           0.5
          ],
          [
           0,
           0,
           0,
           0,
           0,
           0,
           0,
           1
          ],
          [
           0,
           0,
           0,
           2,
           2,
           0,
           0,
           1
          ],
          [
           0,
           0,
           0,
           2.5,
           0,
           0,
           0,
           0.5
          ],
          [
           0,
           0.5,
           0,
           7,
           1.5,
           1,
           1,
           0.25
          ],
          [
           0,
           0,
           0,
           7,
           2,
           0,
           1,
           1
          ],
          [
           0.5,
           0,
           1,
           14,
           2.5,
           1,
           0.5,
           1
          ],
          [
           0,
           0,
           0,
           0,
           1,
           0,
           0,
           1
          ],
          [
           0,
           0,
           0,
           3.5,
           1,
           0,
           1,
           0.5
          ],
          [
           0,
           0,
           0,
           0,
           0,
           1,
           0,
           0.5
          ],
          [
           0,
           1,
           0,
           0,
           0,
           4,
           0,
           1
          ],
          [
           0,
           2,
           0,
           34,
           2,
           0,
           3,
           0
          ],
          [
           0,
           0,
           0,
           0,
           0,
           0,
           0,
           0.5
          ],
          [
           0,
           0,
           0,
           4.33,
           0.67,
           0,
           0.67,
           0.83
          ],
          [
           0,
           0,
           0,
           3,
           0,
           0,
           0,
           1
          ],
          [
           0,
           0,
           0,
           0,
           0,
           0,
           0,
           1
          ],
          [
           0,
           0.1,
           0.1,
           0,
           0,
           0.1,
           0,
           0.85
          ],
          [
           0.18,
           0.36,
           0.29,
           6.16,
           0.62,
           1.07,
           0.73,
           0.7
          ],
          [
           0,
           0,
           0,
           1,
           0,
           0,
           0,
           1
          ],
          [
           1,
           0,
           0,
           7,
           0.5,
           0.5,
           0,
           0.5
          ],
          [
           0,
           0,
           0,
           0,
           0,
           0,
           0,
           0
          ],
          [
           0,
           0,
           0,
           0,
           0,
           0,
           0,
           0.5
          ],
          [
           0,
           0,
           0,
           0,
           0,
           2,
           0,
           1
          ],
          [
           0,
           0,
           0,
           0,
           0,
           2,
           0,
           0
          ],
          [
           0,
           0,
           0,
           10,
           1,
           0,
           5,
           1
          ],
          [
           0,
           0,
           0,
           1.5,
           0,
           0,
           0,
           0.75
          ],
          [
           0,
           0,
           0,
           0,
           0,
           4,
           0,
           1
          ],
          [
           0,
           0.17,
           0,
           7.83,
           1.33,
           0.67,
           0.17,
           0.58
          ],
          [
           0,
           0,
           0,
           0,
           0,
           0,
           0,
           1
          ],
          [
           0,
           0,
           0,
           0,
           0,
           0,
           0,
           1
          ],
          [
           0,
           0.2,
           0,
           4.4,
           0.6,
           0.6,
           0.2,
           0.5
          ],
          [
           0,
           0,
           1,
           0,
           0,
           4,
           0,
           1
          ],
          [
           0,
           0,
           0,
           0,
           0,
           0,
           0,
           0
          ],
          [
           0,
           0,
           0,
           17,
           6,
           0,
           1,
           0
          ],
          [
           0,
           0,
           0,
           7.5,
           0,
           0,
           0.5,
           0.5
          ],
          [
           0,
           0,
           0,
           14,
           2,
           1,
           2,
           1
          ],
          [
           0,
           0,
           0,
           0,
           0,
           0,
           0,
           1
          ]
         ]
        }
       ],
       "layout": {
        "template": {
         "data": {
          "bar": [
           {
            "error_x": {
             "color": "#2a3f5f"
            },
            "error_y": {
             "color": "#2a3f5f"
            },
            "marker": {
             "line": {
              "color": "#E5ECF6",
              "width": 0.5
             }
            },
            "type": "bar"
           }
          ],
          "barpolar": [
           {
            "marker": {
             "line": {
              "color": "#E5ECF6",
              "width": 0.5
             }
            },
            "type": "barpolar"
           }
          ],
          "carpet": [
           {
            "aaxis": {
             "endlinecolor": "#2a3f5f",
             "gridcolor": "white",
             "linecolor": "white",
             "minorgridcolor": "white",
             "startlinecolor": "#2a3f5f"
            },
            "baxis": {
             "endlinecolor": "#2a3f5f",
             "gridcolor": "white",
             "linecolor": "white",
             "minorgridcolor": "white",
             "startlinecolor": "#2a3f5f"
            },
            "type": "carpet"
           }
          ],
          "choropleth": [
           {
            "colorbar": {
             "outlinewidth": 0,
             "ticks": ""
            },
            "type": "choropleth"
           }
          ],
          "contour": [
           {
            "colorbar": {
             "outlinewidth": 0,
             "ticks": ""
            },
            "colorscale": [
             [
              0,
              "#0d0887"
             ],
             [
              0.1111111111111111,
              "#46039f"
             ],
             [
              0.2222222222222222,
              "#7201a8"
             ],
             [
              0.3333333333333333,
              "#9c179e"
             ],
             [
              0.4444444444444444,
              "#bd3786"
             ],
             [
              0.5555555555555556,
              "#d8576b"
             ],
             [
              0.6666666666666666,
              "#ed7953"
             ],
             [
              0.7777777777777778,
              "#fb9f3a"
             ],
             [
              0.8888888888888888,
              "#fdca26"
             ],
             [
              1,
              "#f0f921"
             ]
            ],
            "type": "contour"
           }
          ],
          "contourcarpet": [
           {
            "colorbar": {
             "outlinewidth": 0,
             "ticks": ""
            },
            "type": "contourcarpet"
           }
          ],
          "heatmap": [
           {
            "colorbar": {
             "outlinewidth": 0,
             "ticks": ""
            },
            "colorscale": [
             [
              0,
              "#0d0887"
             ],
             [
              0.1111111111111111,
              "#46039f"
             ],
             [
              0.2222222222222222,
              "#7201a8"
             ],
             [
              0.3333333333333333,
              "#9c179e"
             ],
             [
              0.4444444444444444,
              "#bd3786"
             ],
             [
              0.5555555555555556,
              "#d8576b"
             ],
             [
              0.6666666666666666,
              "#ed7953"
             ],
             [
              0.7777777777777778,
              "#fb9f3a"
             ],
             [
              0.8888888888888888,
              "#fdca26"
             ],
             [
              1,
              "#f0f921"
             ]
            ],
            "type": "heatmap"
           }
          ],
          "heatmapgl": [
           {
            "colorbar": {
             "outlinewidth": 0,
             "ticks": ""
            },
            "colorscale": [
             [
              0,
              "#0d0887"
             ],
             [
              0.1111111111111111,
              "#46039f"
             ],
             [
              0.2222222222222222,
              "#7201a8"
             ],
             [
              0.3333333333333333,
              "#9c179e"
             ],
             [
              0.4444444444444444,
              "#bd3786"
             ],
             [
              0.5555555555555556,
              "#d8576b"
             ],
             [
              0.6666666666666666,
              "#ed7953"
             ],
             [
              0.7777777777777778,
              "#fb9f3a"
             ],
             [
              0.8888888888888888,
              "#fdca26"
             ],
             [
              1,
              "#f0f921"
             ]
            ],
            "type": "heatmapgl"
           }
          ],
          "histogram": [
           {
            "marker": {
             "colorbar": {
              "outlinewidth": 0,
              "ticks": ""
             }
            },
            "type": "histogram"
           }
          ],
          "histogram2d": [
           {
            "colorbar": {
             "outlinewidth": 0,
             "ticks": ""
            },
            "colorscale": [
             [
              0,
              "#0d0887"
             ],
             [
              0.1111111111111111,
              "#46039f"
             ],
             [
              0.2222222222222222,
              "#7201a8"
             ],
             [
              0.3333333333333333,
              "#9c179e"
             ],
             [
              0.4444444444444444,
              "#bd3786"
             ],
             [
              0.5555555555555556,
              "#d8576b"
             ],
             [
              0.6666666666666666,
              "#ed7953"
             ],
             [
              0.7777777777777778,
              "#fb9f3a"
             ],
             [
              0.8888888888888888,
              "#fdca26"
             ],
             [
              1,
              "#f0f921"
             ]
            ],
            "type": "histogram2d"
           }
          ],
          "histogram2dcontour": [
           {
            "colorbar": {
             "outlinewidth": 0,
             "ticks": ""
            },
            "colorscale": [
             [
              0,
              "#0d0887"
             ],
             [
              0.1111111111111111,
              "#46039f"
             ],
             [
              0.2222222222222222,
              "#7201a8"
             ],
             [
              0.3333333333333333,
              "#9c179e"
             ],
             [
              0.4444444444444444,
              "#bd3786"
             ],
             [
              0.5555555555555556,
              "#d8576b"
             ],
             [
              0.6666666666666666,
              "#ed7953"
             ],
             [
              0.7777777777777778,
              "#fb9f3a"
             ],
             [
              0.8888888888888888,
              "#fdca26"
             ],
             [
              1,
              "#f0f921"
             ]
            ],
            "type": "histogram2dcontour"
           }
          ],
          "mesh3d": [
           {
            "colorbar": {
             "outlinewidth": 0,
             "ticks": ""
            },
            "type": "mesh3d"
           }
          ],
          "parcoords": [
           {
            "line": {
             "colorbar": {
              "outlinewidth": 0,
              "ticks": ""
             }
            },
            "type": "parcoords"
           }
          ],
          "pie": [
           {
            "automargin": true,
            "type": "pie"
           }
          ],
          "scatter": [
           {
            "marker": {
             "colorbar": {
              "outlinewidth": 0,
              "ticks": ""
             }
            },
            "type": "scatter"
           }
          ],
          "scatter3d": [
           {
            "line": {
             "colorbar": {
              "outlinewidth": 0,
              "ticks": ""
             }
            },
            "marker": {
             "colorbar": {
              "outlinewidth": 0,
              "ticks": ""
             }
            },
            "type": "scatter3d"
           }
          ],
          "scattercarpet": [
           {
            "marker": {
             "colorbar": {
              "outlinewidth": 0,
              "ticks": ""
             }
            },
            "type": "scattercarpet"
           }
          ],
          "scattergeo": [
           {
            "marker": {
             "colorbar": {
              "outlinewidth": 0,
              "ticks": ""
             }
            },
            "type": "scattergeo"
           }
          ],
          "scattergl": [
           {
            "marker": {
             "colorbar": {
              "outlinewidth": 0,
              "ticks": ""
             }
            },
            "type": "scattergl"
           }
          ],
          "scattermapbox": [
           {
            "marker": {
             "colorbar": {
              "outlinewidth": 0,
              "ticks": ""
             }
            },
            "type": "scattermapbox"
           }
          ],
          "scatterpolar": [
           {
            "marker": {
             "colorbar": {
              "outlinewidth": 0,
              "ticks": ""
             }
            },
            "type": "scatterpolar"
           }
          ],
          "scatterpolargl": [
           {
            "marker": {
             "colorbar": {
              "outlinewidth": 0,
              "ticks": ""
             }
            },
            "type": "scatterpolargl"
           }
          ],
          "scatterternary": [
           {
            "marker": {
             "colorbar": {
              "outlinewidth": 0,
              "ticks": ""
             }
            },
            "type": "scatterternary"
           }
          ],
          "surface": [
           {
            "colorbar": {
             "outlinewidth": 0,
             "ticks": ""
            },
            "colorscale": [
             [
              0,
              "#0d0887"
             ],
             [
              0.1111111111111111,
              "#46039f"
             ],
             [
              0.2222222222222222,
              "#7201a8"
             ],
             [
              0.3333333333333333,
              "#9c179e"
             ],
             [
              0.4444444444444444,
              "#bd3786"
             ],
             [
              0.5555555555555556,
              "#d8576b"
             ],
             [
              0.6666666666666666,
              "#ed7953"
             ],
             [
              0.7777777777777778,
              "#fb9f3a"
             ],
             [
              0.8888888888888888,
              "#fdca26"
             ],
             [
              1,
              "#f0f921"
             ]
            ],
            "type": "surface"
           }
          ],
          "table": [
           {
            "cells": {
             "fill": {
              "color": "#EBF0F8"
             },
             "line": {
              "color": "white"
             }
            },
            "header": {
             "fill": {
              "color": "#C8D4E3"
             },
             "line": {
              "color": "white"
             }
            },
            "type": "table"
           }
          ]
         },
         "layout": {
          "annotationdefaults": {
           "arrowcolor": "#2a3f5f",
           "arrowhead": 0,
           "arrowwidth": 1
          },
          "autotypenumbers": "strict",
          "coloraxis": {
           "colorbar": {
            "outlinewidth": 0,
            "ticks": ""
           }
          },
          "colorscale": {
           "diverging": [
            [
             0,
             "#8e0152"
            ],
            [
             0.1,
             "#c51b7d"
            ],
            [
             0.2,
             "#de77ae"
            ],
            [
             0.3,
             "#f1b6da"
            ],
            [
             0.4,
             "#fde0ef"
            ],
            [
             0.5,
             "#f7f7f7"
            ],
            [
             0.6,
             "#e6f5d0"
            ],
            [
             0.7,
             "#b8e186"
            ],
            [
             0.8,
             "#7fbc41"
            ],
            [
             0.9,
             "#4d9221"
            ],
            [
             1,
             "#276419"
            ]
           ],
           "sequential": [
            [
             0,
             "#0d0887"
            ],
            [
             0.1111111111111111,
             "#46039f"
            ],
            [
             0.2222222222222222,
             "#7201a8"
            ],
            [
             0.3333333333333333,
             "#9c179e"
            ],
            [
             0.4444444444444444,
             "#bd3786"
            ],
            [
             0.5555555555555556,
             "#d8576b"
            ],
            [
             0.6666666666666666,
             "#ed7953"
            ],
            [
             0.7777777777777778,
             "#fb9f3a"
            ],
            [
             0.8888888888888888,
             "#fdca26"
            ],
            [
             1,
             "#f0f921"
            ]
           ],
           "sequentialminus": [
            [
             0,
             "#0d0887"
            ],
            [
             0.1111111111111111,
             "#46039f"
            ],
            [
             0.2222222222222222,
             "#7201a8"
            ],
            [
             0.3333333333333333,
             "#9c179e"
            ],
            [
             0.4444444444444444,
             "#bd3786"
            ],
            [
             0.5555555555555556,
             "#d8576b"
            ],
            [
             0.6666666666666666,
             "#ed7953"
            ],
            [
             0.7777777777777778,
             "#fb9f3a"
            ],
            [
             0.8888888888888888,
             "#fdca26"
            ],
            [
             1,
             "#f0f921"
            ]
           ]
          },
          "colorway": [
           "#636efa",
           "#EF553B",
           "#00cc96",
           "#ab63fa",
           "#FFA15A",
           "#19d3f3",
           "#FF6692",
           "#B6E880",
           "#FF97FF",
           "#FECB52"
          ],
          "font": {
           "color": "#2a3f5f"
          },
          "geo": {
           "bgcolor": "white",
           "lakecolor": "white",
           "landcolor": "#E5ECF6",
           "showlakes": true,
           "showland": true,
           "subunitcolor": "white"
          },
          "hoverlabel": {
           "align": "left"
          },
          "hovermode": "closest",
          "mapbox": {
           "style": "light"
          },
          "paper_bgcolor": "white",
          "plot_bgcolor": "#E5ECF6",
          "polar": {
           "angularaxis": {
            "gridcolor": "white",
            "linecolor": "white",
            "ticks": ""
           },
           "bgcolor": "#E5ECF6",
           "radialaxis": {
            "gridcolor": "white",
            "linecolor": "white",
            "ticks": ""
           }
          },
          "scene": {
           "xaxis": {
            "backgroundcolor": "#E5ECF6",
            "gridcolor": "white",
            "gridwidth": 2,
            "linecolor": "white",
            "showbackground": true,
            "ticks": "",
            "zerolinecolor": "white"
           },
           "yaxis": {
            "backgroundcolor": "#E5ECF6",
            "gridcolor": "white",
            "gridwidth": 2,
            "linecolor": "white",
            "showbackground": true,
            "ticks": "",
            "zerolinecolor": "white"
           },
           "zaxis": {
            "backgroundcolor": "#E5ECF6",
            "gridcolor": "white",
            "gridwidth": 2,
            "linecolor": "white",
            "showbackground": true,
            "ticks": "",
            "zerolinecolor": "white"
           }
          },
          "shapedefaults": {
           "line": {
            "color": "#2a3f5f"
           }
          },
          "ternary": {
           "aaxis": {
            "gridcolor": "white",
            "linecolor": "white",
            "ticks": ""
           },
           "baxis": {
            "gridcolor": "white",
            "linecolor": "white",
            "ticks": ""
           },
           "bgcolor": "#E5ECF6",
           "caxis": {
            "gridcolor": "white",
            "linecolor": "white",
            "ticks": ""
           }
          },
          "title": {
           "x": 0.05
          },
          "xaxis": {
           "automargin": true,
           "gridcolor": "white",
           "linecolor": "white",
           "ticks": "",
           "title": {
            "standoff": 15
           },
           "zerolinecolor": "white",
           "zerolinewidth": 2
          },
          "yaxis": {
           "automargin": true,
           "gridcolor": "white",
           "linecolor": "white",
           "ticks": "",
           "title": {
            "standoff": 15
           },
           "zerolinecolor": "white",
           "zerolinewidth": 2
          }
         }
        },
        "title": {
         "text": "Milner performance by competition"
        }
       }
      }
     },
     "metadata": {}
    }
   ],
   "metadata": {}
  },
  {
   "cell_type": "code",
   "execution_count": 24,
   "source": [
    "player_manager = pd.DataFrame(db_compare['manager'].find({}))"
   ],
   "outputs": [],
   "metadata": {}
  },
  {
   "cell_type": "code",
   "execution_count": 37,
   "source": [
    "player_manager.head()"
   ],
   "outputs": [
    {
     "output_type": "execute_result",
     "data": {
      "text/plain": [
       "                        _id              player           manager  gca  \\\n",
       "0  618f94a988307f48ce0a47a9        James-Milner     Didier Tholot  0.0   \n",
       "1  618f94a988307f48ce0a47aa        James-Milner      Scott Parker  0.0   \n",
       "2  618f94a988307f48ce0a47ab   Nemanja-Milojevic       Simo Krunic  0.0   \n",
       "3  618f94a988307f48ce0a47ac  Ivan-Milosavljevic   Pavle Delibasic  0.0   \n",
       "4  618f94a988307f48ce0a47ad       Lazar-Milosev  Vladan Milojevic  0.0   \n",
       "\n",
       "   shots_on_target  assists  pressures  tackles  interceptions  blocks  \\\n",
       "0              0.0      0.0        0.0      0.0            1.0     0.0   \n",
       "1              0.0      0.0        3.0      0.0            0.0     0.0   \n",
       "2              0.0      0.0        0.0      0.0            0.0     0.0   \n",
       "3              0.0      0.0        0.0      0.0            0.0     0.0   \n",
       "4              0.0      0.0        0.0      0.0            0.0     0.0   \n",
       "\n",
       "   average point by temp  \n",
       "0                    0.5  \n",
       "1                    1.0  \n",
       "2                    0.0  \n",
       "3                    0.0  \n",
       "4                    0.0  "
      ],
      "text/html": [
       "<div>\n",
       "<style scoped>\n",
       "    .dataframe tbody tr th:only-of-type {\n",
       "        vertical-align: middle;\n",
       "    }\n",
       "\n",
       "    .dataframe tbody tr th {\n",
       "        vertical-align: top;\n",
       "    }\n",
       "\n",
       "    .dataframe thead th {\n",
       "        text-align: right;\n",
       "    }\n",
       "</style>\n",
       "<table border=\"1\" class=\"dataframe\">\n",
       "  <thead>\n",
       "    <tr style=\"text-align: right;\">\n",
       "      <th></th>\n",
       "      <th>_id</th>\n",
       "      <th>player</th>\n",
       "      <th>manager</th>\n",
       "      <th>gca</th>\n",
       "      <th>shots_on_target</th>\n",
       "      <th>assists</th>\n",
       "      <th>pressures</th>\n",
       "      <th>tackles</th>\n",
       "      <th>interceptions</th>\n",
       "      <th>blocks</th>\n",
       "      <th>average point by temp</th>\n",
       "    </tr>\n",
       "  </thead>\n",
       "  <tbody>\n",
       "    <tr>\n",
       "      <th>0</th>\n",
       "      <td>618f94a988307f48ce0a47a9</td>\n",
       "      <td>James-Milner</td>\n",
       "      <td>Didier Tholot</td>\n",
       "      <td>0.0</td>\n",
       "      <td>0.0</td>\n",
       "      <td>0.0</td>\n",
       "      <td>0.0</td>\n",
       "      <td>0.0</td>\n",
       "      <td>1.0</td>\n",
       "      <td>0.0</td>\n",
       "      <td>0.5</td>\n",
       "    </tr>\n",
       "    <tr>\n",
       "      <th>1</th>\n",
       "      <td>618f94a988307f48ce0a47aa</td>\n",
       "      <td>James-Milner</td>\n",
       "      <td>Scott Parker</td>\n",
       "      <td>0.0</td>\n",
       "      <td>0.0</td>\n",
       "      <td>0.0</td>\n",
       "      <td>3.0</td>\n",
       "      <td>0.0</td>\n",
       "      <td>0.0</td>\n",
       "      <td>0.0</td>\n",
       "      <td>1.0</td>\n",
       "    </tr>\n",
       "    <tr>\n",
       "      <th>2</th>\n",
       "      <td>618f94a988307f48ce0a47ab</td>\n",
       "      <td>Nemanja-Milojevic</td>\n",
       "      <td>Simo Krunic</td>\n",
       "      <td>0.0</td>\n",
       "      <td>0.0</td>\n",
       "      <td>0.0</td>\n",
       "      <td>0.0</td>\n",
       "      <td>0.0</td>\n",
       "      <td>0.0</td>\n",
       "      <td>0.0</td>\n",
       "      <td>0.0</td>\n",
       "    </tr>\n",
       "    <tr>\n",
       "      <th>3</th>\n",
       "      <td>618f94a988307f48ce0a47ac</td>\n",
       "      <td>Ivan-Milosavljevic</td>\n",
       "      <td>Pavle Delibasic</td>\n",
       "      <td>0.0</td>\n",
       "      <td>0.0</td>\n",
       "      <td>0.0</td>\n",
       "      <td>0.0</td>\n",
       "      <td>0.0</td>\n",
       "      <td>0.0</td>\n",
       "      <td>0.0</td>\n",
       "      <td>0.0</td>\n",
       "    </tr>\n",
       "    <tr>\n",
       "      <th>4</th>\n",
       "      <td>618f94a988307f48ce0a47ad</td>\n",
       "      <td>Lazar-Milosev</td>\n",
       "      <td>Vladan Milojevic</td>\n",
       "      <td>0.0</td>\n",
       "      <td>0.0</td>\n",
       "      <td>0.0</td>\n",
       "      <td>0.0</td>\n",
       "      <td>0.0</td>\n",
       "      <td>0.0</td>\n",
       "      <td>0.0</td>\n",
       "      <td>0.0</td>\n",
       "    </tr>\n",
       "  </tbody>\n",
       "</table>\n",
       "</div>"
      ]
     },
     "metadata": {},
     "execution_count": 37
    }
   ],
   "metadata": {}
  },
  {
   "cell_type": "code",
   "execution_count": 81,
   "source": [
    "db = client['joueur_saison']"
   ],
   "outputs": [],
   "metadata": {}
  },
  {
   "cell_type": "code",
   "execution_count": 82,
   "source": [
    "db.list_collection_names()"
   ],
   "outputs": [
    {
     "output_type": "execute_result",
     "data": {
      "text/plain": [
       "['coups_arretes',\n",
       " 'passes',\n",
       " 'autres_stats',\n",
       " 'defenses',\n",
       " 'dribbles_and_touches',\n",
       " 'attaques']"
      ]
     },
     "metadata": {},
     "execution_count": 82
    }
   ],
   "metadata": {}
  },
  {
   "cell_type": "code",
   "execution_count": 84,
   "source": [
    "pd.DataFrame(db['passes'].find({}))"
   ],
   "outputs": [
    {
     "output_type": "execute_result",
     "data": {
      "text/plain": [
       "                             _id        Joueur                Club     Annees  \\\n",
       "0       618e80e361ded3e39d5765e5  Jamal-Aabbou           Lommel SK  2018-2019   \n",
       "1       618e80e361ded3e39d5765e6  Jamal-Aabbou           Lommel SK  2019-2020   \n",
       "2       618e80e361ded3e39d5765e7  Jamal-Aabbou           Lommel SK  2020-2021   \n",
       "3       618e80e361ded3e39d5765e8  Jamal-Aabbou  Lierse Kempenzonen  2020-2021   \n",
       "4       618e80e361ded3e39d5765e9  Jamal-Aabbou              Virton  2021-2022   \n",
       "...                          ...           ...                 ...        ...   \n",
       "136816  618e80e461ded3e39d597c55  Marcel-Zylla          Bayern U19  2017-2018   \n",
       "136817  618e80e461ded3e39d597c56  Marcel-Zylla          Bayern U19  2018-2019   \n",
       "136818  618e80e461ded3e39d597c57  Marcel-Zylla    Bayern Munich II  2019-2020   \n",
       "136819  618e80e461ded3e39d597c58  Marcel-Zylla       Śląsk Wrocław  2020-2021   \n",
       "136820  618e80e461ded3e39d597c59  Marcel-Zylla       Śląsk Wrocław  2021-2022   \n",
       "\n",
       "        Passes complétées  Passes tentées  Cible d'une passe  Passes recues  \\\n",
       "0                       0               0                  0              0   \n",
       "1                       0               0                  0              0   \n",
       "2                       0               0                  0              0   \n",
       "3                       0               0                  0              0   \n",
       "4                       0               0                  0              0   \n",
       "...                   ...             ...                ...            ...   \n",
       "136816                  0               0                  0              0   \n",
       "136817                  0               0                  0              0   \n",
       "136818                  0               0                  0              0   \n",
       "136819                  0               0                  0              0   \n",
       "136820                  0               0                  0              0   \n",
       "\n",
       "        Passes bloquées  \n",
       "0                     0  \n",
       "1                     0  \n",
       "2                     0  \n",
       "3                     0  \n",
       "4                     0  \n",
       "...                 ...  \n",
       "136816                0  \n",
       "136817                0  \n",
       "136818                0  \n",
       "136819                0  \n",
       "136820                0  \n",
       "\n",
       "[136821 rows x 9 columns]"
      ],
      "text/html": [
       "<div>\n",
       "<style scoped>\n",
       "    .dataframe tbody tr th:only-of-type {\n",
       "        vertical-align: middle;\n",
       "    }\n",
       "\n",
       "    .dataframe tbody tr th {\n",
       "        vertical-align: top;\n",
       "    }\n",
       "\n",
       "    .dataframe thead th {\n",
       "        text-align: right;\n",
       "    }\n",
       "</style>\n",
       "<table border=\"1\" class=\"dataframe\">\n",
       "  <thead>\n",
       "    <tr style=\"text-align: right;\">\n",
       "      <th></th>\n",
       "      <th>_id</th>\n",
       "      <th>Joueur</th>\n",
       "      <th>Club</th>\n",
       "      <th>Annees</th>\n",
       "      <th>Passes complétées</th>\n",
       "      <th>Passes tentées</th>\n",
       "      <th>Cible d'une passe</th>\n",
       "      <th>Passes recues</th>\n",
       "      <th>Passes bloquées</th>\n",
       "    </tr>\n",
       "  </thead>\n",
       "  <tbody>\n",
       "    <tr>\n",
       "      <th>0</th>\n",
       "      <td>618e80e361ded3e39d5765e5</td>\n",
       "      <td>Jamal-Aabbou</td>\n",
       "      <td>Lommel SK</td>\n",
       "      <td>2018-2019</td>\n",
       "      <td>0</td>\n",
       "      <td>0</td>\n",
       "      <td>0</td>\n",
       "      <td>0</td>\n",
       "      <td>0</td>\n",
       "    </tr>\n",
       "    <tr>\n",
       "      <th>1</th>\n",
       "      <td>618e80e361ded3e39d5765e6</td>\n",
       "      <td>Jamal-Aabbou</td>\n",
       "      <td>Lommel SK</td>\n",
       "      <td>2019-2020</td>\n",
       "      <td>0</td>\n",
       "      <td>0</td>\n",
       "      <td>0</td>\n",
       "      <td>0</td>\n",
       "      <td>0</td>\n",
       "    </tr>\n",
       "    <tr>\n",
       "      <th>2</th>\n",
       "      <td>618e80e361ded3e39d5765e7</td>\n",
       "      <td>Jamal-Aabbou</td>\n",
       "      <td>Lommel SK</td>\n",
       "      <td>2020-2021</td>\n",
       "      <td>0</td>\n",
       "      <td>0</td>\n",
       "      <td>0</td>\n",
       "      <td>0</td>\n",
       "      <td>0</td>\n",
       "    </tr>\n",
       "    <tr>\n",
       "      <th>3</th>\n",
       "      <td>618e80e361ded3e39d5765e8</td>\n",
       "      <td>Jamal-Aabbou</td>\n",
       "      <td>Lierse Kempenzonen</td>\n",
       "      <td>2020-2021</td>\n",
       "      <td>0</td>\n",
       "      <td>0</td>\n",
       "      <td>0</td>\n",
       "      <td>0</td>\n",
       "      <td>0</td>\n",
       "    </tr>\n",
       "    <tr>\n",
       "      <th>4</th>\n",
       "      <td>618e80e361ded3e39d5765e9</td>\n",
       "      <td>Jamal-Aabbou</td>\n",
       "      <td>Virton</td>\n",
       "      <td>2021-2022</td>\n",
       "      <td>0</td>\n",
       "      <td>0</td>\n",
       "      <td>0</td>\n",
       "      <td>0</td>\n",
       "      <td>0</td>\n",
       "    </tr>\n",
       "    <tr>\n",
       "      <th>...</th>\n",
       "      <td>...</td>\n",
       "      <td>...</td>\n",
       "      <td>...</td>\n",
       "      <td>...</td>\n",
       "      <td>...</td>\n",
       "      <td>...</td>\n",
       "      <td>...</td>\n",
       "      <td>...</td>\n",
       "      <td>...</td>\n",
       "    </tr>\n",
       "    <tr>\n",
       "      <th>136816</th>\n",
       "      <td>618e80e461ded3e39d597c55</td>\n",
       "      <td>Marcel-Zylla</td>\n",
       "      <td>Bayern U19</td>\n",
       "      <td>2017-2018</td>\n",
       "      <td>0</td>\n",
       "      <td>0</td>\n",
       "      <td>0</td>\n",
       "      <td>0</td>\n",
       "      <td>0</td>\n",
       "    </tr>\n",
       "    <tr>\n",
       "      <th>136817</th>\n",
       "      <td>618e80e461ded3e39d597c56</td>\n",
       "      <td>Marcel-Zylla</td>\n",
       "      <td>Bayern U19</td>\n",
       "      <td>2018-2019</td>\n",
       "      <td>0</td>\n",
       "      <td>0</td>\n",
       "      <td>0</td>\n",
       "      <td>0</td>\n",
       "      <td>0</td>\n",
       "    </tr>\n",
       "    <tr>\n",
       "      <th>136818</th>\n",
       "      <td>618e80e461ded3e39d597c57</td>\n",
       "      <td>Marcel-Zylla</td>\n",
       "      <td>Bayern Munich II</td>\n",
       "      <td>2019-2020</td>\n",
       "      <td>0</td>\n",
       "      <td>0</td>\n",
       "      <td>0</td>\n",
       "      <td>0</td>\n",
       "      <td>0</td>\n",
       "    </tr>\n",
       "    <tr>\n",
       "      <th>136819</th>\n",
       "      <td>618e80e461ded3e39d597c58</td>\n",
       "      <td>Marcel-Zylla</td>\n",
       "      <td>Śląsk Wrocław</td>\n",
       "      <td>2020-2021</td>\n",
       "      <td>0</td>\n",
       "      <td>0</td>\n",
       "      <td>0</td>\n",
       "      <td>0</td>\n",
       "      <td>0</td>\n",
       "    </tr>\n",
       "    <tr>\n",
       "      <th>136820</th>\n",
       "      <td>618e80e461ded3e39d597c59</td>\n",
       "      <td>Marcel-Zylla</td>\n",
       "      <td>Śląsk Wrocław</td>\n",
       "      <td>2021-2022</td>\n",
       "      <td>0</td>\n",
       "      <td>0</td>\n",
       "      <td>0</td>\n",
       "      <td>0</td>\n",
       "      <td>0</td>\n",
       "    </tr>\n",
       "  </tbody>\n",
       "</table>\n",
       "<p>136821 rows × 9 columns</p>\n",
       "</div>"
      ]
     },
     "metadata": {},
     "execution_count": 84
    }
   ],
   "metadata": {}
  },
  {
   "cell_type": "code",
   "execution_count": 17,
   "source": [
    "pd.DataFrame( db['dribbles_and_touches'].find({}))"
   ],
   "outputs": [
    {
     "output_type": "execute_result",
     "data": {
      "text/plain": [
       "                             _id        Joueur                Club     Annees  \\\n",
       "0       618d1e216e040c0f8ccdc1d3  Jamal-Aabbou           Lommel SK  2018-2019   \n",
       "1       618d1e216e040c0f8ccdc1d4  Jamal-Aabbou           Lommel SK  2019-2020   \n",
       "2       618d1e216e040c0f8ccdc1d5  Jamal-Aabbou           Lommel SK  2020-2021   \n",
       "3       618d1e216e040c0f8ccdc1d6  Jamal-Aabbou  Lierse Kempenzonen  2020-2021   \n",
       "4       618d1e216e040c0f8ccdc1d7  Jamal-Aabbou              Virton  2021-2022   \n",
       "...                          ...           ...                 ...        ...   \n",
       "133484  618d1e226e040c0f8ccfcb3f  Marcel-Zylla          Bayern U19  2017-2018   \n",
       "133485  618d1e226e040c0f8ccfcb40  Marcel-Zylla          Bayern U19  2018-2019   \n",
       "133486  618d1e226e040c0f8ccfcb41  Marcel-Zylla    Bayern Munich II  2019-2020   \n",
       "133487  618d1e226e040c0f8ccfcb42  Marcel-Zylla       Śląsk Wrocław  2020-2021   \n",
       "133488  618d1e226e040c0f8ccfcb43  Marcel-Zylla       Śląsk Wrocław  2021-2022   \n",
       "\n",
       "        Dribbles Touches Fouls comitted Fouls drawn Offsides  \n",
       "0              0       0              0           0        0  \n",
       "1              0       0              0           0        0  \n",
       "2              0       0              0           0        0  \n",
       "3              0       0              0           0        0  \n",
       "4              0       0              8          15        1  \n",
       "...          ...     ...            ...         ...      ...  \n",
       "133484         0       0              0           0        0  \n",
       "133485         0       0              0           0        0  \n",
       "133486         0       0              2           4        3  \n",
       "133487         0       0              0           0        0  \n",
       "133488         0       0              0           0        0  \n",
       "\n",
       "[133489 rows x 9 columns]"
      ],
      "text/html": [
       "<div>\n",
       "<style scoped>\n",
       "    .dataframe tbody tr th:only-of-type {\n",
       "        vertical-align: middle;\n",
       "    }\n",
       "\n",
       "    .dataframe tbody tr th {\n",
       "        vertical-align: top;\n",
       "    }\n",
       "\n",
       "    .dataframe thead th {\n",
       "        text-align: right;\n",
       "    }\n",
       "</style>\n",
       "<table border=\"1\" class=\"dataframe\">\n",
       "  <thead>\n",
       "    <tr style=\"text-align: right;\">\n",
       "      <th></th>\n",
       "      <th>_id</th>\n",
       "      <th>Joueur</th>\n",
       "      <th>Club</th>\n",
       "      <th>Annees</th>\n",
       "      <th>Dribbles</th>\n",
       "      <th>Touches</th>\n",
       "      <th>Fouls comitted</th>\n",
       "      <th>Fouls drawn</th>\n",
       "      <th>Offsides</th>\n",
       "    </tr>\n",
       "  </thead>\n",
       "  <tbody>\n",
       "    <tr>\n",
       "      <th>0</th>\n",
       "      <td>618d1e216e040c0f8ccdc1d3</td>\n",
       "      <td>Jamal-Aabbou</td>\n",
       "      <td>Lommel SK</td>\n",
       "      <td>2018-2019</td>\n",
       "      <td>0</td>\n",
       "      <td>0</td>\n",
       "      <td>0</td>\n",
       "      <td>0</td>\n",
       "      <td>0</td>\n",
       "    </tr>\n",
       "    <tr>\n",
       "      <th>1</th>\n",
       "      <td>618d1e216e040c0f8ccdc1d4</td>\n",
       "      <td>Jamal-Aabbou</td>\n",
       "      <td>Lommel SK</td>\n",
       "      <td>2019-2020</td>\n",
       "      <td>0</td>\n",
       "      <td>0</td>\n",
       "      <td>0</td>\n",
       "      <td>0</td>\n",
       "      <td>0</td>\n",
       "    </tr>\n",
       "    <tr>\n",
       "      <th>2</th>\n",
       "      <td>618d1e216e040c0f8ccdc1d5</td>\n",
       "      <td>Jamal-Aabbou</td>\n",
       "      <td>Lommel SK</td>\n",
       "      <td>2020-2021</td>\n",
       "      <td>0</td>\n",
       "      <td>0</td>\n",
       "      <td>0</td>\n",
       "      <td>0</td>\n",
       "      <td>0</td>\n",
       "    </tr>\n",
       "    <tr>\n",
       "      <th>3</th>\n",
       "      <td>618d1e216e040c0f8ccdc1d6</td>\n",
       "      <td>Jamal-Aabbou</td>\n",
       "      <td>Lierse Kempenzonen</td>\n",
       "      <td>2020-2021</td>\n",
       "      <td>0</td>\n",
       "      <td>0</td>\n",
       "      <td>0</td>\n",
       "      <td>0</td>\n",
       "      <td>0</td>\n",
       "    </tr>\n",
       "    <tr>\n",
       "      <th>4</th>\n",
       "      <td>618d1e216e040c0f8ccdc1d7</td>\n",
       "      <td>Jamal-Aabbou</td>\n",
       "      <td>Virton</td>\n",
       "      <td>2021-2022</td>\n",
       "      <td>0</td>\n",
       "      <td>0</td>\n",
       "      <td>8</td>\n",
       "      <td>15</td>\n",
       "      <td>1</td>\n",
       "    </tr>\n",
       "    <tr>\n",
       "      <th>...</th>\n",
       "      <td>...</td>\n",
       "      <td>...</td>\n",
       "      <td>...</td>\n",
       "      <td>...</td>\n",
       "      <td>...</td>\n",
       "      <td>...</td>\n",
       "      <td>...</td>\n",
       "      <td>...</td>\n",
       "      <td>...</td>\n",
       "    </tr>\n",
       "    <tr>\n",
       "      <th>133484</th>\n",
       "      <td>618d1e226e040c0f8ccfcb3f</td>\n",
       "      <td>Marcel-Zylla</td>\n",
       "      <td>Bayern U19</td>\n",
       "      <td>2017-2018</td>\n",
       "      <td>0</td>\n",
       "      <td>0</td>\n",
       "      <td>0</td>\n",
       "      <td>0</td>\n",
       "      <td>0</td>\n",
       "    </tr>\n",
       "    <tr>\n",
       "      <th>133485</th>\n",
       "      <td>618d1e226e040c0f8ccfcb40</td>\n",
       "      <td>Marcel-Zylla</td>\n",
       "      <td>Bayern U19</td>\n",
       "      <td>2018-2019</td>\n",
       "      <td>0</td>\n",
       "      <td>0</td>\n",
       "      <td>0</td>\n",
       "      <td>0</td>\n",
       "      <td>0</td>\n",
       "    </tr>\n",
       "    <tr>\n",
       "      <th>133486</th>\n",
       "      <td>618d1e226e040c0f8ccfcb41</td>\n",
       "      <td>Marcel-Zylla</td>\n",
       "      <td>Bayern Munich II</td>\n",
       "      <td>2019-2020</td>\n",
       "      <td>0</td>\n",
       "      <td>0</td>\n",
       "      <td>2</td>\n",
       "      <td>4</td>\n",
       "      <td>3</td>\n",
       "    </tr>\n",
       "    <tr>\n",
       "      <th>133487</th>\n",
       "      <td>618d1e226e040c0f8ccfcb42</td>\n",
       "      <td>Marcel-Zylla</td>\n",
       "      <td>Śląsk Wrocław</td>\n",
       "      <td>2020-2021</td>\n",
       "      <td>0</td>\n",
       "      <td>0</td>\n",
       "      <td>0</td>\n",
       "      <td>0</td>\n",
       "      <td>0</td>\n",
       "    </tr>\n",
       "    <tr>\n",
       "      <th>133488</th>\n",
       "      <td>618d1e226e040c0f8ccfcb43</td>\n",
       "      <td>Marcel-Zylla</td>\n",
       "      <td>Śląsk Wrocław</td>\n",
       "      <td>2021-2022</td>\n",
       "      <td>0</td>\n",
       "      <td>0</td>\n",
       "      <td>0</td>\n",
       "      <td>0</td>\n",
       "      <td>0</td>\n",
       "    </tr>\n",
       "  </tbody>\n",
       "</table>\n",
       "<p>133489 rows × 9 columns</p>\n",
       "</div>"
      ]
     },
     "metadata": {},
     "execution_count": 17
    }
   ],
   "metadata": {}
  },
  {
   "cell_type": "code",
   "execution_count": 67,
   "source": [
    "db_stats = client[\"Stats\"]"
   ],
   "outputs": [],
   "metadata": {}
  },
  {
   "cell_type": "code",
   "execution_count": 68,
   "source": [
    "db_stats.list_collection_names()"
   ],
   "outputs": [
    {
     "output_type": "execute_result",
     "data": {
      "text/plain": [
       "['joueurs']"
      ]
     },
     "metadata": {},
     "execution_count": 68
    }
   ],
   "metadata": {}
  },
  {
   "cell_type": "code",
   "execution_count": 19,
   "source": [
    "stats_df = pd.DataFrame(db_stats['joueurs'].find({}))"
   ],
   "outputs": [],
   "metadata": {}
  },
  {
   "cell_type": "code",
   "execution_count": 111,
   "source": [
    "stats_df.iloc[84355:84357,:]"
   ],
   "outputs": [
    {
     "output_type": "execute_result",
     "data": {
      "text/plain": [
       "                            _id        Joueur       Club     Annees  Goals  \\\n",
       "84355  618d59af7d181c0001b905ef  Lionel-Messi  Barcelona  2017-2018     34   \n",
       "84356  618d59af7d181c0001b905f0  Lionel-Messi  Barcelona  2018-2019     36   \n",
       "\n",
       "       decisives  Dribbles  defenses  \n",
       "84355        238       184        11  \n",
       "84356        219       149         5  "
      ],
      "text/html": [
       "<div>\n",
       "<style scoped>\n",
       "    .dataframe tbody tr th:only-of-type {\n",
       "        vertical-align: middle;\n",
       "    }\n",
       "\n",
       "    .dataframe tbody tr th {\n",
       "        vertical-align: top;\n",
       "    }\n",
       "\n",
       "    .dataframe thead th {\n",
       "        text-align: right;\n",
       "    }\n",
       "</style>\n",
       "<table border=\"1\" class=\"dataframe\">\n",
       "  <thead>\n",
       "    <tr style=\"text-align: right;\">\n",
       "      <th></th>\n",
       "      <th>_id</th>\n",
       "      <th>Joueur</th>\n",
       "      <th>Club</th>\n",
       "      <th>Annees</th>\n",
       "      <th>Goals</th>\n",
       "      <th>decisives</th>\n",
       "      <th>Dribbles</th>\n",
       "      <th>defenses</th>\n",
       "    </tr>\n",
       "  </thead>\n",
       "  <tbody>\n",
       "    <tr>\n",
       "      <th>84355</th>\n",
       "      <td>618d59af7d181c0001b905ef</td>\n",
       "      <td>Lionel-Messi</td>\n",
       "      <td>Barcelona</td>\n",
       "      <td>2017-2018</td>\n",
       "      <td>34</td>\n",
       "      <td>238</td>\n",
       "      <td>184</td>\n",
       "      <td>11</td>\n",
       "    </tr>\n",
       "    <tr>\n",
       "      <th>84356</th>\n",
       "      <td>618d59af7d181c0001b905f0</td>\n",
       "      <td>Lionel-Messi</td>\n",
       "      <td>Barcelona</td>\n",
       "      <td>2018-2019</td>\n",
       "      <td>36</td>\n",
       "      <td>219</td>\n",
       "      <td>149</td>\n",
       "      <td>5</td>\n",
       "    </tr>\n",
       "  </tbody>\n",
       "</table>\n",
       "</div>"
      ]
     },
     "metadata": {},
     "execution_count": 111
    }
   ],
   "metadata": {}
  },
  {
   "cell_type": "code",
   "execution_count": 102,
   "source": [
    "fig = px.line_polar(stats_df.iloc[1],  theta=['Goals','decisives', 'Dribbles', 'defenses']).show()\n"
   ],
   "outputs": [
    {
     "output_type": "display_data",
     "data": {
      "application/vnd.plotly.v1+json": {
       "config": {
        "plotlyServerURL": "https://plot.ly"
       },
       "data": [
        {
         "hovertemplate": "r=%{r}<extra></extra>",
         "legendgroup": "",
         "line": {
          "color": "#636efa",
          "dash": "solid"
         },
         "mode": "lines",
         "name": "",
         "r": [
          "Goals",
          "decisives",
          "Dribbles",
          "defenses"
         ],
         "showlegend": false,
         "subplot": "polar",
         "type": "scatterpolar"
        }
       ],
       "layout": {
        "legend": {
         "tracegroupgap": 0
        },
        "margin": {
         "t": 60
        },
        "polar": {
         "angularaxis": {
          "direction": "clockwise",
          "rotation": 90
         },
         "domain": {
          "x": [
           0,
           1
          ],
          "y": [
           0,
           1
          ]
         }
        },
        "template": {
         "data": {
          "bar": [
           {
            "error_x": {
             "color": "#2a3f5f"
            },
            "error_y": {
             "color": "#2a3f5f"
            },
            "marker": {
             "line": {
              "color": "#E5ECF6",
              "width": 0.5
             }
            },
            "type": "bar"
           }
          ],
          "barpolar": [
           {
            "marker": {
             "line": {
              "color": "#E5ECF6",
              "width": 0.5
             }
            },
            "type": "barpolar"
           }
          ],
          "carpet": [
           {
            "aaxis": {
             "endlinecolor": "#2a3f5f",
             "gridcolor": "white",
             "linecolor": "white",
             "minorgridcolor": "white",
             "startlinecolor": "#2a3f5f"
            },
            "baxis": {
             "endlinecolor": "#2a3f5f",
             "gridcolor": "white",
             "linecolor": "white",
             "minorgridcolor": "white",
             "startlinecolor": "#2a3f5f"
            },
            "type": "carpet"
           }
          ],
          "choropleth": [
           {
            "colorbar": {
             "outlinewidth": 0,
             "ticks": ""
            },
            "type": "choropleth"
           }
          ],
          "contour": [
           {
            "colorbar": {
             "outlinewidth": 0,
             "ticks": ""
            },
            "colorscale": [
             [
              0,
              "#0d0887"
             ],
             [
              0.1111111111111111,
              "#46039f"
             ],
             [
              0.2222222222222222,
              "#7201a8"
             ],
             [
              0.3333333333333333,
              "#9c179e"
             ],
             [
              0.4444444444444444,
              "#bd3786"
             ],
             [
              0.5555555555555556,
              "#d8576b"
             ],
             [
              0.6666666666666666,
              "#ed7953"
             ],
             [
              0.7777777777777778,
              "#fb9f3a"
             ],
             [
              0.8888888888888888,
              "#fdca26"
             ],
             [
              1,
              "#f0f921"
             ]
            ],
            "type": "contour"
           }
          ],
          "contourcarpet": [
           {
            "colorbar": {
             "outlinewidth": 0,
             "ticks": ""
            },
            "type": "contourcarpet"
           }
          ],
          "heatmap": [
           {
            "colorbar": {
             "outlinewidth": 0,
             "ticks": ""
            },
            "colorscale": [
             [
              0,
              "#0d0887"
             ],
             [
              0.1111111111111111,
              "#46039f"
             ],
             [
              0.2222222222222222,
              "#7201a8"
             ],
             [
              0.3333333333333333,
              "#9c179e"
             ],
             [
              0.4444444444444444,
              "#bd3786"
             ],
             [
              0.5555555555555556,
              "#d8576b"
             ],
             [
              0.6666666666666666,
              "#ed7953"
             ],
             [
              0.7777777777777778,
              "#fb9f3a"
             ],
             [
              0.8888888888888888,
              "#fdca26"
             ],
             [
              1,
              "#f0f921"
             ]
            ],
            "type": "heatmap"
           }
          ],
          "heatmapgl": [
           {
            "colorbar": {
             "outlinewidth": 0,
             "ticks": ""
            },
            "colorscale": [
             [
              0,
              "#0d0887"
             ],
             [
              0.1111111111111111,
              "#46039f"
             ],
             [
              0.2222222222222222,
              "#7201a8"
             ],
             [
              0.3333333333333333,
              "#9c179e"
             ],
             [
              0.4444444444444444,
              "#bd3786"
             ],
             [
              0.5555555555555556,
              "#d8576b"
             ],
             [
              0.6666666666666666,
              "#ed7953"
             ],
             [
              0.7777777777777778,
              "#fb9f3a"
             ],
             [
              0.8888888888888888,
              "#fdca26"
             ],
             [
              1,
              "#f0f921"
             ]
            ],
            "type": "heatmapgl"
           }
          ],
          "histogram": [
           {
            "marker": {
             "colorbar": {
              "outlinewidth": 0,
              "ticks": ""
             }
            },
            "type": "histogram"
           }
          ],
          "histogram2d": [
           {
            "colorbar": {
             "outlinewidth": 0,
             "ticks": ""
            },
            "colorscale": [
             [
              0,
              "#0d0887"
             ],
             [
              0.1111111111111111,
              "#46039f"
             ],
             [
              0.2222222222222222,
              "#7201a8"
             ],
             [
              0.3333333333333333,
              "#9c179e"
             ],
             [
              0.4444444444444444,
              "#bd3786"
             ],
             [
              0.5555555555555556,
              "#d8576b"
             ],
             [
              0.6666666666666666,
              "#ed7953"
             ],
             [
              0.7777777777777778,
              "#fb9f3a"
             ],
             [
              0.8888888888888888,
              "#fdca26"
             ],
             [
              1,
              "#f0f921"
             ]
            ],
            "type": "histogram2d"
           }
          ],
          "histogram2dcontour": [
           {
            "colorbar": {
             "outlinewidth": 0,
             "ticks": ""
            },
            "colorscale": [
             [
              0,
              "#0d0887"
             ],
             [
              0.1111111111111111,
              "#46039f"
             ],
             [
              0.2222222222222222,
              "#7201a8"
             ],
             [
              0.3333333333333333,
              "#9c179e"
             ],
             [
              0.4444444444444444,
              "#bd3786"
             ],
             [
              0.5555555555555556,
              "#d8576b"
             ],
             [
              0.6666666666666666,
              "#ed7953"
             ],
             [
              0.7777777777777778,
              "#fb9f3a"
             ],
             [
              0.8888888888888888,
              "#fdca26"
             ],
             [
              1,
              "#f0f921"
             ]
            ],
            "type": "histogram2dcontour"
           }
          ],
          "mesh3d": [
           {
            "colorbar": {
             "outlinewidth": 0,
             "ticks": ""
            },
            "type": "mesh3d"
           }
          ],
          "parcoords": [
           {
            "line": {
             "colorbar": {
              "outlinewidth": 0,
              "ticks": ""
             }
            },
            "type": "parcoords"
           }
          ],
          "pie": [
           {
            "automargin": true,
            "type": "pie"
           }
          ],
          "scatter": [
           {
            "marker": {
             "colorbar": {
              "outlinewidth": 0,
              "ticks": ""
             }
            },
            "type": "scatter"
           }
          ],
          "scatter3d": [
           {
            "line": {
             "colorbar": {
              "outlinewidth": 0,
              "ticks": ""
             }
            },
            "marker": {
             "colorbar": {
              "outlinewidth": 0,
              "ticks": ""
             }
            },
            "type": "scatter3d"
           }
          ],
          "scattercarpet": [
           {
            "marker": {
             "colorbar": {
              "outlinewidth": 0,
              "ticks": ""
             }
            },
            "type": "scattercarpet"
           }
          ],
          "scattergeo": [
           {
            "marker": {
             "colorbar": {
              "outlinewidth": 0,
              "ticks": ""
             }
            },
            "type": "scattergeo"
           }
          ],
          "scattergl": [
           {
            "marker": {
             "colorbar": {
              "outlinewidth": 0,
              "ticks": ""
             }
            },
            "type": "scattergl"
           }
          ],
          "scattermapbox": [
           {
            "marker": {
             "colorbar": {
              "outlinewidth": 0,
              "ticks": ""
             }
            },
            "type": "scattermapbox"
           }
          ],
          "scatterpolar": [
           {
            "marker": {
             "colorbar": {
              "outlinewidth": 0,
              "ticks": ""
             }
            },
            "type": "scatterpolar"
           }
          ],
          "scatterpolargl": [
           {
            "marker": {
             "colorbar": {
              "outlinewidth": 0,
              "ticks": ""
             }
            },
            "type": "scatterpolargl"
           }
          ],
          "scatterternary": [
           {
            "marker": {
             "colorbar": {
              "outlinewidth": 0,
              "ticks": ""
             }
            },
            "type": "scatterternary"
           }
          ],
          "surface": [
           {
            "colorbar": {
             "outlinewidth": 0,
             "ticks": ""
            },
            "colorscale": [
             [
              0,
              "#0d0887"
             ],
             [
              0.1111111111111111,
              "#46039f"
             ],
             [
              0.2222222222222222,
              "#7201a8"
             ],
             [
              0.3333333333333333,
              "#9c179e"
             ],
             [
              0.4444444444444444,
              "#bd3786"
             ],
             [
              0.5555555555555556,
              "#d8576b"
             ],
             [
              0.6666666666666666,
              "#ed7953"
             ],
             [
              0.7777777777777778,
              "#fb9f3a"
             ],
             [
              0.8888888888888888,
              "#fdca26"
             ],
             [
              1,
              "#f0f921"
             ]
            ],
            "type": "surface"
           }
          ],
          "table": [
           {
            "cells": {
             "fill": {
              "color": "#EBF0F8"
             },
             "line": {
              "color": "white"
             }
            },
            "header": {
             "fill": {
              "color": "#C8D4E3"
             },
             "line": {
              "color": "white"
             }
            },
            "type": "table"
           }
          ]
         },
         "layout": {
          "annotationdefaults": {
           "arrowcolor": "#2a3f5f",
           "arrowhead": 0,
           "arrowwidth": 1
          },
          "autotypenumbers": "strict",
          "coloraxis": {
           "colorbar": {
            "outlinewidth": 0,
            "ticks": ""
           }
          },
          "colorscale": {
           "diverging": [
            [
             0,
             "#8e0152"
            ],
            [
             0.1,
             "#c51b7d"
            ],
            [
             0.2,
             "#de77ae"
            ],
            [
             0.3,
             "#f1b6da"
            ],
            [
             0.4,
             "#fde0ef"
            ],
            [
             0.5,
             "#f7f7f7"
            ],
            [
             0.6,
             "#e6f5d0"
            ],
            [
             0.7,
             "#b8e186"
            ],
            [
             0.8,
             "#7fbc41"
            ],
            [
             0.9,
             "#4d9221"
            ],
            [
             1,
             "#276419"
            ]
           ],
           "sequential": [
            [
             0,
             "#0d0887"
            ],
            [
             0.1111111111111111,
             "#46039f"
            ],
            [
             0.2222222222222222,
             "#7201a8"
            ],
            [
             0.3333333333333333,
             "#9c179e"
            ],
            [
             0.4444444444444444,
             "#bd3786"
            ],
            [
             0.5555555555555556,
             "#d8576b"
            ],
            [
             0.6666666666666666,
             "#ed7953"
            ],
            [
             0.7777777777777778,
             "#fb9f3a"
            ],
            [
             0.8888888888888888,
             "#fdca26"
            ],
            [
             1,
             "#f0f921"
            ]
           ],
           "sequentialminus": [
            [
             0,
             "#0d0887"
            ],
            [
             0.1111111111111111,
             "#46039f"
            ],
            [
             0.2222222222222222,
             "#7201a8"
            ],
            [
             0.3333333333333333,
             "#9c179e"
            ],
            [
             0.4444444444444444,
             "#bd3786"
            ],
            [
             0.5555555555555556,
             "#d8576b"
            ],
            [
             0.6666666666666666,
             "#ed7953"
            ],
            [
             0.7777777777777778,
             "#fb9f3a"
            ],
            [
             0.8888888888888888,
             "#fdca26"
            ],
            [
             1,
             "#f0f921"
            ]
           ]
          },
          "colorway": [
           "#636efa",
           "#EF553B",
           "#00cc96",
           "#ab63fa",
           "#FFA15A",
           "#19d3f3",
           "#FF6692",
           "#B6E880",
           "#FF97FF",
           "#FECB52"
          ],
          "font": {
           "color": "#2a3f5f"
          },
          "geo": {
           "bgcolor": "white",
           "lakecolor": "white",
           "landcolor": "#E5ECF6",
           "showlakes": true,
           "showland": true,
           "subunitcolor": "white"
          },
          "hoverlabel": {
           "align": "left"
          },
          "hovermode": "closest",
          "mapbox": {
           "style": "light"
          },
          "paper_bgcolor": "white",
          "plot_bgcolor": "#E5ECF6",
          "polar": {
           "angularaxis": {
            "gridcolor": "white",
            "linecolor": "white",
            "ticks": ""
           },
           "bgcolor": "#E5ECF6",
           "radialaxis": {
            "gridcolor": "white",
            "linecolor": "white",
            "ticks": ""
           }
          },
          "scene": {
           "xaxis": {
            "backgroundcolor": "#E5ECF6",
            "gridcolor": "white",
            "gridwidth": 2,
            "linecolor": "white",
            "showbackground": true,
            "ticks": "",
            "zerolinecolor": "white"
           },
           "yaxis": {
            "backgroundcolor": "#E5ECF6",
            "gridcolor": "white",
            "gridwidth": 2,
            "linecolor": "white",
            "showbackground": true,
            "ticks": "",
            "zerolinecolor": "white"
           },
           "zaxis": {
            "backgroundcolor": "#E5ECF6",
            "gridcolor": "white",
            "gridwidth": 2,
            "linecolor": "white",
            "showbackground": true,
            "ticks": "",
            "zerolinecolor": "white"
           }
          },
          "shapedefaults": {
           "line": {
            "color": "#2a3f5f"
           }
          },
          "ternary": {
           "aaxis": {
            "gridcolor": "white",
            "linecolor": "white",
            "ticks": ""
           },
           "baxis": {
            "gridcolor": "white",
            "linecolor": "white",
            "ticks": ""
           },
           "bgcolor": "#E5ECF6",
           "caxis": {
            "gridcolor": "white",
            "linecolor": "white",
            "ticks": ""
           }
          },
          "title": {
           "x": 0.05
          },
          "xaxis": {
           "automargin": true,
           "gridcolor": "white",
           "linecolor": "white",
           "ticks": "",
           "title": {
            "standoff": 15
           },
           "zerolinecolor": "white",
           "zerolinewidth": 2
          },
          "yaxis": {
           "automargin": true,
           "gridcolor": "white",
           "linecolor": "white",
           "ticks": "",
           "title": {
            "standoff": 15
           },
           "zerolinecolor": "white",
           "zerolinewidth": 2
          }
         }
        }
       }
      }
     },
     "metadata": {}
    }
   ],
   "metadata": {}
  },
  {
   "cell_type": "code",
   "execution_count": 136,
   "source": [
    "x = stats_df[stats_df['Joueur']==\"Lionel-Messi\"]\n",
    "x"
   ],
   "outputs": [
    {
     "output_type": "execute_result",
     "data": {
      "text/plain": [
       "                            _id        Joueur       Club     Annees  Goals  \\\n",
       "84342  618d59af7d181c0001b905e2  Lionel-Messi  Barcelona  2004-2005      1   \n",
       "84343  618d59af7d181c0001b905e3  Lionel-Messi  Barcelona  2005-2006      6   \n",
       "84344  618d59af7d181c0001b905e4  Lionel-Messi  Barcelona  2006-2007     14   \n",
       "84345  618d59af7d181c0001b905e5  Lionel-Messi  Barcelona  2007-2008     10   \n",
       "84346  618d59af7d181c0001b905e6  Lionel-Messi  Barcelona  2008-2009     23   \n",
       "84347  618d59af7d181c0001b905e7  Lionel-Messi  Barcelona  2009-2010     34   \n",
       "84348  618d59af7d181c0001b905e8  Lionel-Messi  Barcelona  2010-2011     31   \n",
       "84349  618d59af7d181c0001b905e9  Lionel-Messi  Barcelona  2011-2012     50   \n",
       "84350  618d59af7d181c0001b905ea  Lionel-Messi  Barcelona  2012-2013     46   \n",
       "84351  618d59af7d181c0001b905eb  Lionel-Messi  Barcelona  2013-2014     28   \n",
       "84352  618d59af7d181c0001b905ec  Lionel-Messi  Barcelona  2014-2015     43   \n",
       "84353  618d59af7d181c0001b905ed  Lionel-Messi  Barcelona  2015-2016     26   \n",
       "84354  618d59af7d181c0001b905ee  Lionel-Messi  Barcelona  2016-2017     37   \n",
       "84355  618d59af7d181c0001b905ef  Lionel-Messi  Barcelona  2017-2018     34   \n",
       "84356  618d59af7d181c0001b905f0  Lionel-Messi  Barcelona  2018-2019     36   \n",
       "84357  618d59af7d181c0001b905f1  Lionel-Messi  Barcelona  2019-2020     25   \n",
       "84358  618d59af7d181c0001b905f2  Lionel-Messi  Barcelona  2020-2021     30   \n",
       "84359  618d59af7d181c0001b905f3  Lionel-Messi  Paris S-G  2021-2022      0   \n",
       "\n",
       "       decisives  Dribbles  defenses  \n",
       "84342          0         0         0  \n",
       "84343          0         0         0  \n",
       "84344          0         0         0  \n",
       "84345          0         0         0  \n",
       "84346          0         0         0  \n",
       "84347          0         0         0  \n",
       "84348          0         0         0  \n",
       "84349          0         0         0  \n",
       "84350          0         0         0  \n",
       "84351          0         0         0  \n",
       "84352          0         0         0  \n",
       "84353          0         0         0  \n",
       "84354          0         0         7  \n",
       "84355        238       184        11  \n",
       "84356        219       149         5  \n",
       "84357        219       183         5  \n",
       "84358        241       149         7  \n",
       "84359          9         7         0  "
      ],
      "text/html": [
       "<div>\n",
       "<style scoped>\n",
       "    .dataframe tbody tr th:only-of-type {\n",
       "        vertical-align: middle;\n",
       "    }\n",
       "\n",
       "    .dataframe tbody tr th {\n",
       "        vertical-align: top;\n",
       "    }\n",
       "\n",
       "    .dataframe thead th {\n",
       "        text-align: right;\n",
       "    }\n",
       "</style>\n",
       "<table border=\"1\" class=\"dataframe\">\n",
       "  <thead>\n",
       "    <tr style=\"text-align: right;\">\n",
       "      <th></th>\n",
       "      <th>_id</th>\n",
       "      <th>Joueur</th>\n",
       "      <th>Club</th>\n",
       "      <th>Annees</th>\n",
       "      <th>Goals</th>\n",
       "      <th>decisives</th>\n",
       "      <th>Dribbles</th>\n",
       "      <th>defenses</th>\n",
       "    </tr>\n",
       "  </thead>\n",
       "  <tbody>\n",
       "    <tr>\n",
       "      <th>84342</th>\n",
       "      <td>618d59af7d181c0001b905e2</td>\n",
       "      <td>Lionel-Messi</td>\n",
       "      <td>Barcelona</td>\n",
       "      <td>2004-2005</td>\n",
       "      <td>1</td>\n",
       "      <td>0</td>\n",
       "      <td>0</td>\n",
       "      <td>0</td>\n",
       "    </tr>\n",
       "    <tr>\n",
       "      <th>84343</th>\n",
       "      <td>618d59af7d181c0001b905e3</td>\n",
       "      <td>Lionel-Messi</td>\n",
       "      <td>Barcelona</td>\n",
       "      <td>2005-2006</td>\n",
       "      <td>6</td>\n",
       "      <td>0</td>\n",
       "      <td>0</td>\n",
       "      <td>0</td>\n",
       "    </tr>\n",
       "    <tr>\n",
       "      <th>84344</th>\n",
       "      <td>618d59af7d181c0001b905e4</td>\n",
       "      <td>Lionel-Messi</td>\n",
       "      <td>Barcelona</td>\n",
       "      <td>2006-2007</td>\n",
       "      <td>14</td>\n",
       "      <td>0</td>\n",
       "      <td>0</td>\n",
       "      <td>0</td>\n",
       "    </tr>\n",
       "    <tr>\n",
       "      <th>84345</th>\n",
       "      <td>618d59af7d181c0001b905e5</td>\n",
       "      <td>Lionel-Messi</td>\n",
       "      <td>Barcelona</td>\n",
       "      <td>2007-2008</td>\n",
       "      <td>10</td>\n",
       "      <td>0</td>\n",
       "      <td>0</td>\n",
       "      <td>0</td>\n",
       "    </tr>\n",
       "    <tr>\n",
       "      <th>84346</th>\n",
       "      <td>618d59af7d181c0001b905e6</td>\n",
       "      <td>Lionel-Messi</td>\n",
       "      <td>Barcelona</td>\n",
       "      <td>2008-2009</td>\n",
       "      <td>23</td>\n",
       "      <td>0</td>\n",
       "      <td>0</td>\n",
       "      <td>0</td>\n",
       "    </tr>\n",
       "    <tr>\n",
       "      <th>84347</th>\n",
       "      <td>618d59af7d181c0001b905e7</td>\n",
       "      <td>Lionel-Messi</td>\n",
       "      <td>Barcelona</td>\n",
       "      <td>2009-2010</td>\n",
       "      <td>34</td>\n",
       "      <td>0</td>\n",
       "      <td>0</td>\n",
       "      <td>0</td>\n",
       "    </tr>\n",
       "    <tr>\n",
       "      <th>84348</th>\n",
       "      <td>618d59af7d181c0001b905e8</td>\n",
       "      <td>Lionel-Messi</td>\n",
       "      <td>Barcelona</td>\n",
       "      <td>2010-2011</td>\n",
       "      <td>31</td>\n",
       "      <td>0</td>\n",
       "      <td>0</td>\n",
       "      <td>0</td>\n",
       "    </tr>\n",
       "    <tr>\n",
       "      <th>84349</th>\n",
       "      <td>618d59af7d181c0001b905e9</td>\n",
       "      <td>Lionel-Messi</td>\n",
       "      <td>Barcelona</td>\n",
       "      <td>2011-2012</td>\n",
       "      <td>50</td>\n",
       "      <td>0</td>\n",
       "      <td>0</td>\n",
       "      <td>0</td>\n",
       "    </tr>\n",
       "    <tr>\n",
       "      <th>84350</th>\n",
       "      <td>618d59af7d181c0001b905ea</td>\n",
       "      <td>Lionel-Messi</td>\n",
       "      <td>Barcelona</td>\n",
       "      <td>2012-2013</td>\n",
       "      <td>46</td>\n",
       "      <td>0</td>\n",
       "      <td>0</td>\n",
       "      <td>0</td>\n",
       "    </tr>\n",
       "    <tr>\n",
       "      <th>84351</th>\n",
       "      <td>618d59af7d181c0001b905eb</td>\n",
       "      <td>Lionel-Messi</td>\n",
       "      <td>Barcelona</td>\n",
       "      <td>2013-2014</td>\n",
       "      <td>28</td>\n",
       "      <td>0</td>\n",
       "      <td>0</td>\n",
       "      <td>0</td>\n",
       "    </tr>\n",
       "    <tr>\n",
       "      <th>84352</th>\n",
       "      <td>618d59af7d181c0001b905ec</td>\n",
       "      <td>Lionel-Messi</td>\n",
       "      <td>Barcelona</td>\n",
       "      <td>2014-2015</td>\n",
       "      <td>43</td>\n",
       "      <td>0</td>\n",
       "      <td>0</td>\n",
       "      <td>0</td>\n",
       "    </tr>\n",
       "    <tr>\n",
       "      <th>84353</th>\n",
       "      <td>618d59af7d181c0001b905ed</td>\n",
       "      <td>Lionel-Messi</td>\n",
       "      <td>Barcelona</td>\n",
       "      <td>2015-2016</td>\n",
       "      <td>26</td>\n",
       "      <td>0</td>\n",
       "      <td>0</td>\n",
       "      <td>0</td>\n",
       "    </tr>\n",
       "    <tr>\n",
       "      <th>84354</th>\n",
       "      <td>618d59af7d181c0001b905ee</td>\n",
       "      <td>Lionel-Messi</td>\n",
       "      <td>Barcelona</td>\n",
       "      <td>2016-2017</td>\n",
       "      <td>37</td>\n",
       "      <td>0</td>\n",
       "      <td>0</td>\n",
       "      <td>7</td>\n",
       "    </tr>\n",
       "    <tr>\n",
       "      <th>84355</th>\n",
       "      <td>618d59af7d181c0001b905ef</td>\n",
       "      <td>Lionel-Messi</td>\n",
       "      <td>Barcelona</td>\n",
       "      <td>2017-2018</td>\n",
       "      <td>34</td>\n",
       "      <td>238</td>\n",
       "      <td>184</td>\n",
       "      <td>11</td>\n",
       "    </tr>\n",
       "    <tr>\n",
       "      <th>84356</th>\n",
       "      <td>618d59af7d181c0001b905f0</td>\n",
       "      <td>Lionel-Messi</td>\n",
       "      <td>Barcelona</td>\n",
       "      <td>2018-2019</td>\n",
       "      <td>36</td>\n",
       "      <td>219</td>\n",
       "      <td>149</td>\n",
       "      <td>5</td>\n",
       "    </tr>\n",
       "    <tr>\n",
       "      <th>84357</th>\n",
       "      <td>618d59af7d181c0001b905f1</td>\n",
       "      <td>Lionel-Messi</td>\n",
       "      <td>Barcelona</td>\n",
       "      <td>2019-2020</td>\n",
       "      <td>25</td>\n",
       "      <td>219</td>\n",
       "      <td>183</td>\n",
       "      <td>5</td>\n",
       "    </tr>\n",
       "    <tr>\n",
       "      <th>84358</th>\n",
       "      <td>618d59af7d181c0001b905f2</td>\n",
       "      <td>Lionel-Messi</td>\n",
       "      <td>Barcelona</td>\n",
       "      <td>2020-2021</td>\n",
       "      <td>30</td>\n",
       "      <td>241</td>\n",
       "      <td>149</td>\n",
       "      <td>7</td>\n",
       "    </tr>\n",
       "    <tr>\n",
       "      <th>84359</th>\n",
       "      <td>618d59af7d181c0001b905f3</td>\n",
       "      <td>Lionel-Messi</td>\n",
       "      <td>Paris S-G</td>\n",
       "      <td>2021-2022</td>\n",
       "      <td>0</td>\n",
       "      <td>9</td>\n",
       "      <td>7</td>\n",
       "      <td>0</td>\n",
       "    </tr>\n",
       "  </tbody>\n",
       "</table>\n",
       "</div>"
      ]
     },
     "metadata": {},
     "execution_count": 136
    }
   ],
   "metadata": {}
  },
  {
   "cell_type": "code",
   "execution_count": 151,
   "source": [
    "x[x['Annees'].str.contains(\"-2022\",na=False)].values.tolist()[0][4:]"
   ],
   "outputs": [
    {
     "output_type": "execute_result",
     "data": {
      "text/plain": [
       "[0, 9, 7, 0]"
      ]
     },
     "metadata": {},
     "execution_count": 151
    }
   ],
   "metadata": {}
  },
  {
   "cell_type": "code",
   "execution_count": 128,
   "source": [
    "stats_df.head()"
   ],
   "outputs": [
    {
     "output_type": "execute_result",
     "data": {
      "text/plain": [
       "                        _id        Joueur                Club     Annees  \\\n",
       "0  618d59af7d181c0001b7bc6c  Jamal-Aabbou           Lommel SK  2018-2019   \n",
       "1  618d59af7d181c0001b7bc6d  Jamal-Aabbou           Lommel SK  2019-2020   \n",
       "2  618d59af7d181c0001b7bc6e  Jamal-Aabbou           Lommel SK  2020-2021   \n",
       "3  618d59af7d181c0001b7bc6f  Jamal-Aabbou  Lierse Kempenzonen  2020-2021   \n",
       "4  618d59af7d181c0001b7bc70  Jamal-Aabbou              Virton  2021-2022   \n",
       "\n",
       "   Goals  decisives  Dribbles  defenses  \n",
       "0      0          0         0         0  \n",
       "1      3          0         0         0  \n",
       "2      0          0         0         0  \n",
       "3      0          0         0         0  \n",
       "4      1          0         0         0  "
      ],
      "text/html": [
       "<div>\n",
       "<style scoped>\n",
       "    .dataframe tbody tr th:only-of-type {\n",
       "        vertical-align: middle;\n",
       "    }\n",
       "\n",
       "    .dataframe tbody tr th {\n",
       "        vertical-align: top;\n",
       "    }\n",
       "\n",
       "    .dataframe thead th {\n",
       "        text-align: right;\n",
       "    }\n",
       "</style>\n",
       "<table border=\"1\" class=\"dataframe\">\n",
       "  <thead>\n",
       "    <tr style=\"text-align: right;\">\n",
       "      <th></th>\n",
       "      <th>_id</th>\n",
       "      <th>Joueur</th>\n",
       "      <th>Club</th>\n",
       "      <th>Annees</th>\n",
       "      <th>Goals</th>\n",
       "      <th>decisives</th>\n",
       "      <th>Dribbles</th>\n",
       "      <th>defenses</th>\n",
       "    </tr>\n",
       "  </thead>\n",
       "  <tbody>\n",
       "    <tr>\n",
       "      <th>0</th>\n",
       "      <td>618d59af7d181c0001b7bc6c</td>\n",
       "      <td>Jamal-Aabbou</td>\n",
       "      <td>Lommel SK</td>\n",
       "      <td>2018-2019</td>\n",
       "      <td>0</td>\n",
       "      <td>0</td>\n",
       "      <td>0</td>\n",
       "      <td>0</td>\n",
       "    </tr>\n",
       "    <tr>\n",
       "      <th>1</th>\n",
       "      <td>618d59af7d181c0001b7bc6d</td>\n",
       "      <td>Jamal-Aabbou</td>\n",
       "      <td>Lommel SK</td>\n",
       "      <td>2019-2020</td>\n",
       "      <td>3</td>\n",
       "      <td>0</td>\n",
       "      <td>0</td>\n",
       "      <td>0</td>\n",
       "    </tr>\n",
       "    <tr>\n",
       "      <th>2</th>\n",
       "      <td>618d59af7d181c0001b7bc6e</td>\n",
       "      <td>Jamal-Aabbou</td>\n",
       "      <td>Lommel SK</td>\n",
       "      <td>2020-2021</td>\n",
       "      <td>0</td>\n",
       "      <td>0</td>\n",
       "      <td>0</td>\n",
       "      <td>0</td>\n",
       "    </tr>\n",
       "    <tr>\n",
       "      <th>3</th>\n",
       "      <td>618d59af7d181c0001b7bc6f</td>\n",
       "      <td>Jamal-Aabbou</td>\n",
       "      <td>Lierse Kempenzonen</td>\n",
       "      <td>2020-2021</td>\n",
       "      <td>0</td>\n",
       "      <td>0</td>\n",
       "      <td>0</td>\n",
       "      <td>0</td>\n",
       "    </tr>\n",
       "    <tr>\n",
       "      <th>4</th>\n",
       "      <td>618d59af7d181c0001b7bc70</td>\n",
       "      <td>Jamal-Aabbou</td>\n",
       "      <td>Virton</td>\n",
       "      <td>2021-2022</td>\n",
       "      <td>1</td>\n",
       "      <td>0</td>\n",
       "      <td>0</td>\n",
       "      <td>0</td>\n",
       "    </tr>\n",
       "  </tbody>\n",
       "</table>\n",
       "</div>"
      ]
     },
     "metadata": {},
     "execution_count": 128
    }
   ],
   "metadata": {}
  },
  {
   "cell_type": "code",
   "execution_count": 129,
   "source": [
    "stats_df.to_csv(\"../data/player_stats2.csv\", index=False)"
   ],
   "outputs": [],
   "metadata": {}
  },
  {
   "cell_type": "code",
   "execution_count": 127,
   "source": [
    "stats_df.iloc[84355:84357,:]\n",
    "\n",
    "categories = stats_df.columns[4:]\n",
    "\n",
    "r1= stats_df.iloc[84355,:].to_list()[4:]\n",
    "r2 = stats_df.iloc[84356,:].to_list()[4:]\n",
    "\n",
    "fig = go.Figure()\n",
    "\n",
    "fig.add_trace(go.Scatterpolar(\n",
    "      r=r1,\n",
    "      theta=categories,\n",
    "      fill='toself',\n",
    "      name='2017-2018'\n",
    "))\n",
    "\n",
    "fig.add_trace(go.Scatterpolar(\n",
    "      r=r2,\n",
    "      theta=categories,\n",
    "      fill='toself',\n",
    "      name='2018-2019'\n",
    "))\n",
    "\n",
    "fig.update_layout(\n",
    "  polar=dict(\n",
    "    radialaxis=dict(\n",
    "      visible=True,\n",
    "    )),\n",
    "  showlegend=False\n",
    ")\n",
    "\n",
    "fig.show()\n",
    "\n"
   ],
   "outputs": [
    {
     "output_type": "display_data",
     "data": {
      "application/vnd.plotly.v1+json": {
       "config": {
        "plotlyServerURL": "https://plot.ly"
       },
       "data": [
        {
         "fill": "toself",
         "name": "2017-2018",
         "r": [
          34,
          238,
          184,
          11
         ],
         "theta": [
          "Goals",
          "decisives",
          "Dribbles",
          "defenses"
         ],
         "type": "scatterpolar"
        },
        {
         "fill": "toself",
         "name": "2018-2019",
         "r": [
          36,
          219,
          149,
          5
         ],
         "theta": [
          "Goals",
          "decisives",
          "Dribbles",
          "defenses"
         ],
         "type": "scatterpolar"
        }
       ],
       "layout": {
        "polar": {
         "radialaxis": {
          "visible": true
         }
        },
        "showlegend": false,
        "template": {
         "data": {
          "bar": [
           {
            "error_x": {
             "color": "#2a3f5f"
            },
            "error_y": {
             "color": "#2a3f5f"
            },
            "marker": {
             "line": {
              "color": "#E5ECF6",
              "width": 0.5
             }
            },
            "type": "bar"
           }
          ],
          "barpolar": [
           {
            "marker": {
             "line": {
              "color": "#E5ECF6",
              "width": 0.5
             }
            },
            "type": "barpolar"
           }
          ],
          "carpet": [
           {
            "aaxis": {
             "endlinecolor": "#2a3f5f",
             "gridcolor": "white",
             "linecolor": "white",
             "minorgridcolor": "white",
             "startlinecolor": "#2a3f5f"
            },
            "baxis": {
             "endlinecolor": "#2a3f5f",
             "gridcolor": "white",
             "linecolor": "white",
             "minorgridcolor": "white",
             "startlinecolor": "#2a3f5f"
            },
            "type": "carpet"
           }
          ],
          "choropleth": [
           {
            "colorbar": {
             "outlinewidth": 0,
             "ticks": ""
            },
            "type": "choropleth"
           }
          ],
          "contour": [
           {
            "colorbar": {
             "outlinewidth": 0,
             "ticks": ""
            },
            "colorscale": [
             [
              0,
              "#0d0887"
             ],
             [
              0.1111111111111111,
              "#46039f"
             ],
             [
              0.2222222222222222,
              "#7201a8"
             ],
             [
              0.3333333333333333,
              "#9c179e"
             ],
             [
              0.4444444444444444,
              "#bd3786"
             ],
             [
              0.5555555555555556,
              "#d8576b"
             ],
             [
              0.6666666666666666,
              "#ed7953"
             ],
             [
              0.7777777777777778,
              "#fb9f3a"
             ],
             [
              0.8888888888888888,
              "#fdca26"
             ],
             [
              1,
              "#f0f921"
             ]
            ],
            "type": "contour"
           }
          ],
          "contourcarpet": [
           {
            "colorbar": {
             "outlinewidth": 0,
             "ticks": ""
            },
            "type": "contourcarpet"
           }
          ],
          "heatmap": [
           {
            "colorbar": {
             "outlinewidth": 0,
             "ticks": ""
            },
            "colorscale": [
             [
              0,
              "#0d0887"
             ],
             [
              0.1111111111111111,
              "#46039f"
             ],
             [
              0.2222222222222222,
              "#7201a8"
             ],
             [
              0.3333333333333333,
              "#9c179e"
             ],
             [
              0.4444444444444444,
              "#bd3786"
             ],
             [
              0.5555555555555556,
              "#d8576b"
             ],
             [
              0.6666666666666666,
              "#ed7953"
             ],
             [
              0.7777777777777778,
              "#fb9f3a"
             ],
             [
              0.8888888888888888,
              "#fdca26"
             ],
             [
              1,
              "#f0f921"
             ]
            ],
            "type": "heatmap"
           }
          ],
          "heatmapgl": [
           {
            "colorbar": {
             "outlinewidth": 0,
             "ticks": ""
            },
            "colorscale": [
             [
              0,
              "#0d0887"
             ],
             [
              0.1111111111111111,
              "#46039f"
             ],
             [
              0.2222222222222222,
              "#7201a8"
             ],
             [
              0.3333333333333333,
              "#9c179e"
             ],
             [
              0.4444444444444444,
              "#bd3786"
             ],
             [
              0.5555555555555556,
              "#d8576b"
             ],
             [
              0.6666666666666666,
              "#ed7953"
             ],
             [
              0.7777777777777778,
              "#fb9f3a"
             ],
             [
              0.8888888888888888,
              "#fdca26"
             ],
             [
              1,
              "#f0f921"
             ]
            ],
            "type": "heatmapgl"
           }
          ],
          "histogram": [
           {
            "marker": {
             "colorbar": {
              "outlinewidth": 0,
              "ticks": ""
             }
            },
            "type": "histogram"
           }
          ],
          "histogram2d": [
           {
            "colorbar": {
             "outlinewidth": 0,
             "ticks": ""
            },
            "colorscale": [
             [
              0,
              "#0d0887"
             ],
             [
              0.1111111111111111,
              "#46039f"
             ],
             [
              0.2222222222222222,
              "#7201a8"
             ],
             [
              0.3333333333333333,
              "#9c179e"
             ],
             [
              0.4444444444444444,
              "#bd3786"
             ],
             [
              0.5555555555555556,
              "#d8576b"
             ],
             [
              0.6666666666666666,
              "#ed7953"
             ],
             [
              0.7777777777777778,
              "#fb9f3a"
             ],
             [
              0.8888888888888888,
              "#fdca26"
             ],
             [
              1,
              "#f0f921"
             ]
            ],
            "type": "histogram2d"
           }
          ],
          "histogram2dcontour": [
           {
            "colorbar": {
             "outlinewidth": 0,
             "ticks": ""
            },
            "colorscale": [
             [
              0,
              "#0d0887"
             ],
             [
              0.1111111111111111,
              "#46039f"
             ],
             [
              0.2222222222222222,
              "#7201a8"
             ],
             [
              0.3333333333333333,
              "#9c179e"
             ],
             [
              0.4444444444444444,
              "#bd3786"
             ],
             [
              0.5555555555555556,
              "#d8576b"
             ],
             [
              0.6666666666666666,
              "#ed7953"
             ],
             [
              0.7777777777777778,
              "#fb9f3a"
             ],
             [
              0.8888888888888888,
              "#fdca26"
             ],
             [
              1,
              "#f0f921"
             ]
            ],
            "type": "histogram2dcontour"
           }
          ],
          "mesh3d": [
           {
            "colorbar": {
             "outlinewidth": 0,
             "ticks": ""
            },
            "type": "mesh3d"
           }
          ],
          "parcoords": [
           {
            "line": {
             "colorbar": {
              "outlinewidth": 0,
              "ticks": ""
             }
            },
            "type": "parcoords"
           }
          ],
          "pie": [
           {
            "automargin": true,
            "type": "pie"
           }
          ],
          "scatter": [
           {
            "marker": {
             "colorbar": {
              "outlinewidth": 0,
              "ticks": ""
             }
            },
            "type": "scatter"
           }
          ],
          "scatter3d": [
           {
            "line": {
             "colorbar": {
              "outlinewidth": 0,
              "ticks": ""
             }
            },
            "marker": {
             "colorbar": {
              "outlinewidth": 0,
              "ticks": ""
             }
            },
            "type": "scatter3d"
           }
          ],
          "scattercarpet": [
           {
            "marker": {
             "colorbar": {
              "outlinewidth": 0,
              "ticks": ""
             }
            },
            "type": "scattercarpet"
           }
          ],
          "scattergeo": [
           {
            "marker": {
             "colorbar": {
              "outlinewidth": 0,
              "ticks": ""
             }
            },
            "type": "scattergeo"
           }
          ],
          "scattergl": [
           {
            "marker": {
             "colorbar": {
              "outlinewidth": 0,
              "ticks": ""
             }
            },
            "type": "scattergl"
           }
          ],
          "scattermapbox": [
           {
            "marker": {
             "colorbar": {
              "outlinewidth": 0,
              "ticks": ""
             }
            },
            "type": "scattermapbox"
           }
          ],
          "scatterpolar": [
           {
            "marker": {
             "colorbar": {
              "outlinewidth": 0,
              "ticks": ""
             }
            },
            "type": "scatterpolar"
           }
          ],
          "scatterpolargl": [
           {
            "marker": {
             "colorbar": {
              "outlinewidth": 0,
              "ticks": ""
             }
            },
            "type": "scatterpolargl"
           }
          ],
          "scatterternary": [
           {
            "marker": {
             "colorbar": {
              "outlinewidth": 0,
              "ticks": ""
             }
            },
            "type": "scatterternary"
           }
          ],
          "surface": [
           {
            "colorbar": {
             "outlinewidth": 0,
             "ticks": ""
            },
            "colorscale": [
             [
              0,
              "#0d0887"
             ],
             [
              0.1111111111111111,
              "#46039f"
             ],
             [
              0.2222222222222222,
              "#7201a8"
             ],
             [
              0.3333333333333333,
              "#9c179e"
             ],
             [
              0.4444444444444444,
              "#bd3786"
             ],
             [
              0.5555555555555556,
              "#d8576b"
             ],
             [
              0.6666666666666666,
              "#ed7953"
             ],
             [
              0.7777777777777778,
              "#fb9f3a"
             ],
             [
              0.8888888888888888,
              "#fdca26"
             ],
             [
              1,
              "#f0f921"
             ]
            ],
            "type": "surface"
           }
          ],
          "table": [
           {
            "cells": {
             "fill": {
              "color": "#EBF0F8"
             },
             "line": {
              "color": "white"
             }
            },
            "header": {
             "fill": {
              "color": "#C8D4E3"
             },
             "line": {
              "color": "white"
             }
            },
            "type": "table"
           }
          ]
         },
         "layout": {
          "annotationdefaults": {
           "arrowcolor": "#2a3f5f",
           "arrowhead": 0,
           "arrowwidth": 1
          },
          "autotypenumbers": "strict",
          "coloraxis": {
           "colorbar": {
            "outlinewidth": 0,
            "ticks": ""
           }
          },
          "colorscale": {
           "diverging": [
            [
             0,
             "#8e0152"
            ],
            [
             0.1,
             "#c51b7d"
            ],
            [
             0.2,
             "#de77ae"
            ],
            [
             0.3,
             "#f1b6da"
            ],
            [
             0.4,
             "#fde0ef"
            ],
            [
             0.5,
             "#f7f7f7"
            ],
            [
             0.6,
             "#e6f5d0"
            ],
            [
             0.7,
             "#b8e186"
            ],
            [
             0.8,
             "#7fbc41"
            ],
            [
             0.9,
             "#4d9221"
            ],
            [
             1,
             "#276419"
            ]
           ],
           "sequential": [
            [
             0,
             "#0d0887"
            ],
            [
             0.1111111111111111,
             "#46039f"
            ],
            [
             0.2222222222222222,
             "#7201a8"
            ],
            [
             0.3333333333333333,
             "#9c179e"
            ],
            [
             0.4444444444444444,
             "#bd3786"
            ],
            [
             0.5555555555555556,
             "#d8576b"
            ],
            [
             0.6666666666666666,
             "#ed7953"
            ],
            [
             0.7777777777777778,
             "#fb9f3a"
            ],
            [
             0.8888888888888888,
             "#fdca26"
            ],
            [
             1,
             "#f0f921"
            ]
           ],
           "sequentialminus": [
            [
             0,
             "#0d0887"
            ],
            [
             0.1111111111111111,
             "#46039f"
            ],
            [
             0.2222222222222222,
             "#7201a8"
            ],
            [
             0.3333333333333333,
             "#9c179e"
            ],
            [
             0.4444444444444444,
             "#bd3786"
            ],
            [
             0.5555555555555556,
             "#d8576b"
            ],
            [
             0.6666666666666666,
             "#ed7953"
            ],
            [
             0.7777777777777778,
             "#fb9f3a"
            ],
            [
             0.8888888888888888,
             "#fdca26"
            ],
            [
             1,
             "#f0f921"
            ]
           ]
          },
          "colorway": [
           "#636efa",
           "#EF553B",
           "#00cc96",
           "#ab63fa",
           "#FFA15A",
           "#19d3f3",
           "#FF6692",
           "#B6E880",
           "#FF97FF",
           "#FECB52"
          ],
          "font": {
           "color": "#2a3f5f"
          },
          "geo": {
           "bgcolor": "white",
           "lakecolor": "white",
           "landcolor": "#E5ECF6",
           "showlakes": true,
           "showland": true,
           "subunitcolor": "white"
          },
          "hoverlabel": {
           "align": "left"
          },
          "hovermode": "closest",
          "mapbox": {
           "style": "light"
          },
          "paper_bgcolor": "white",
          "plot_bgcolor": "#E5ECF6",
          "polar": {
           "angularaxis": {
            "gridcolor": "white",
            "linecolor": "white",
            "ticks": ""
           },
           "bgcolor": "#E5ECF6",
           "radialaxis": {
            "gridcolor": "white",
            "linecolor": "white",
            "ticks": ""
           }
          },
          "scene": {
           "xaxis": {
            "backgroundcolor": "#E5ECF6",
            "gridcolor": "white",
            "gridwidth": 2,
            "linecolor": "white",
            "showbackground": true,
            "ticks": "",
            "zerolinecolor": "white"
           },
           "yaxis": {
            "backgroundcolor": "#E5ECF6",
            "gridcolor": "white",
            "gridwidth": 2,
            "linecolor": "white",
            "showbackground": true,
            "ticks": "",
            "zerolinecolor": "white"
           },
           "zaxis": {
            "backgroundcolor": "#E5ECF6",
            "gridcolor": "white",
            "gridwidth": 2,
            "linecolor": "white",
            "showbackground": true,
            "ticks": "",
            "zerolinecolor": "white"
           }
          },
          "shapedefaults": {
           "line": {
            "color": "#2a3f5f"
           }
          },
          "ternary": {
           "aaxis": {
            "gridcolor": "white",
            "linecolor": "white",
            "ticks": ""
           },
           "baxis": {
            "gridcolor": "white",
            "linecolor": "white",
            "ticks": ""
           },
           "bgcolor": "#E5ECF6",
           "caxis": {
            "gridcolor": "white",
            "linecolor": "white",
            "ticks": ""
           }
          },
          "title": {
           "x": 0.05
          },
          "xaxis": {
           "automargin": true,
           "gridcolor": "white",
           "linecolor": "white",
           "ticks": "",
           "title": {
            "standoff": 15
           },
           "zerolinecolor": "white",
           "zerolinewidth": 2
          },
          "yaxis": {
           "automargin": true,
           "gridcolor": "white",
           "linecolor": "white",
           "ticks": "",
           "title": {
            "standoff": 15
           },
           "zerolinecolor": "white",
           "zerolinewidth": 2
          }
         }
        }
       }
      }
     },
     "metadata": {}
    }
   ],
   "metadata": {}
  },
  {
   "cell_type": "code",
   "execution_count": 119,
   "source": [],
   "outputs": [],
   "metadata": {}
  },
  {
   "cell_type": "code",
   "execution_count": 88,
   "source": [
    "import plotly.graph_objects as go\n",
    "\n",
    "categories = ['processing cost','mechanical properties','chemical stability',\n",
    "              'thermal stability', 'device integration']\n",
    "\n",
    "fig = go.Figure()\n",
    "\n",
    "fig.add_trace(go.Scatterpolar(\n",
    "      r=[1, 5, 2, 2, 3],\n",
    "      theta=categories,\n",
    "      fill='toself',\n",
    "      name='Product A'\n",
    "))\n",
    "fig.add_trace(go.Scatterpolar(\n",
    "      r=[4, 3, 2.5, 1, 2],\n",
    "      theta=categories,\n",
    "      fill='toself',\n",
    "      name='Product B'\n",
    "))\n",
    "\n",
    "fig.update_layout(\n",
    "  polar=dict(\n",
    "    radialaxis=dict(\n",
    "      visible=True,\n",
    "      range=[0, 5]\n",
    "    )),\n",
    "  showlegend=False\n",
    ")\n",
    "\n",
    "fig.show()"
   ],
   "outputs": [
    {
     "output_type": "display_data",
     "data": {
      "application/vnd.plotly.v1+json": {
       "config": {
        "plotlyServerURL": "https://plot.ly"
       },
       "data": [
        {
         "fill": "toself",
         "name": "Product A",
         "r": [
          1,
          5,
          2,
          2,
          3
         ],
         "theta": [
          "processing cost",
          "mechanical properties",
          "chemical stability",
          "thermal stability",
          "device integration"
         ],
         "type": "scatterpolar"
        },
        {
         "fill": "toself",
         "name": "Product B",
         "r": [
          4,
          3,
          2.5,
          1,
          2
         ],
         "theta": [
          "processing cost",
          "mechanical properties",
          "chemical stability",
          "thermal stability",
          "device integration"
         ],
         "type": "scatterpolar"
        }
       ],
       "layout": {
        "polar": {
         "radialaxis": {
          "range": [
           0,
           5
          ],
          "visible": true
         }
        },
        "showlegend": false,
        "template": {
         "data": {
          "bar": [
           {
            "error_x": {
             "color": "#2a3f5f"
            },
            "error_y": {
             "color": "#2a3f5f"
            },
            "marker": {
             "line": {
              "color": "#E5ECF6",
              "width": 0.5
             }
            },
            "type": "bar"
           }
          ],
          "barpolar": [
           {
            "marker": {
             "line": {
              "color": "#E5ECF6",
              "width": 0.5
             }
            },
            "type": "barpolar"
           }
          ],
          "carpet": [
           {
            "aaxis": {
             "endlinecolor": "#2a3f5f",
             "gridcolor": "white",
             "linecolor": "white",
             "minorgridcolor": "white",
             "startlinecolor": "#2a3f5f"
            },
            "baxis": {
             "endlinecolor": "#2a3f5f",
             "gridcolor": "white",
             "linecolor": "white",
             "minorgridcolor": "white",
             "startlinecolor": "#2a3f5f"
            },
            "type": "carpet"
           }
          ],
          "choropleth": [
           {
            "colorbar": {
             "outlinewidth": 0,
             "ticks": ""
            },
            "type": "choropleth"
           }
          ],
          "contour": [
           {
            "colorbar": {
             "outlinewidth": 0,
             "ticks": ""
            },
            "colorscale": [
             [
              0,
              "#0d0887"
             ],
             [
              0.1111111111111111,
              "#46039f"
             ],
             [
              0.2222222222222222,
              "#7201a8"
             ],
             [
              0.3333333333333333,
              "#9c179e"
             ],
             [
              0.4444444444444444,
              "#bd3786"
             ],
             [
              0.5555555555555556,
              "#d8576b"
             ],
             [
              0.6666666666666666,
              "#ed7953"
             ],
             [
              0.7777777777777778,
              "#fb9f3a"
             ],
             [
              0.8888888888888888,
              "#fdca26"
             ],
             [
              1,
              "#f0f921"
             ]
            ],
            "type": "contour"
           }
          ],
          "contourcarpet": [
           {
            "colorbar": {
             "outlinewidth": 0,
             "ticks": ""
            },
            "type": "contourcarpet"
           }
          ],
          "heatmap": [
           {
            "colorbar": {
             "outlinewidth": 0,
             "ticks": ""
            },
            "colorscale": [
             [
              0,
              "#0d0887"
             ],
             [
              0.1111111111111111,
              "#46039f"
             ],
             [
              0.2222222222222222,
              "#7201a8"
             ],
             [
              0.3333333333333333,
              "#9c179e"
             ],
             [
              0.4444444444444444,
              "#bd3786"
             ],
             [
              0.5555555555555556,
              "#d8576b"
             ],
             [
              0.6666666666666666,
              "#ed7953"
             ],
             [
              0.7777777777777778,
              "#fb9f3a"
             ],
             [
              0.8888888888888888,
              "#fdca26"
             ],
             [
              1,
              "#f0f921"
             ]
            ],
            "type": "heatmap"
           }
          ],
          "heatmapgl": [
           {
            "colorbar": {
             "outlinewidth": 0,
             "ticks": ""
            },
            "colorscale": [
             [
              0,
              "#0d0887"
             ],
             [
              0.1111111111111111,
              "#46039f"
             ],
             [
              0.2222222222222222,
              "#7201a8"
             ],
             [
              0.3333333333333333,
              "#9c179e"
             ],
             [
              0.4444444444444444,
              "#bd3786"
             ],
             [
              0.5555555555555556,
              "#d8576b"
             ],
             [
              0.6666666666666666,
              "#ed7953"
             ],
             [
              0.7777777777777778,
              "#fb9f3a"
             ],
             [
              0.8888888888888888,
              "#fdca26"
             ],
             [
              1,
              "#f0f921"
             ]
            ],
            "type": "heatmapgl"
           }
          ],
          "histogram": [
           {
            "marker": {
             "colorbar": {
              "outlinewidth": 0,
              "ticks": ""
             }
            },
            "type": "histogram"
           }
          ],
          "histogram2d": [
           {
            "colorbar": {
             "outlinewidth": 0,
             "ticks": ""
            },
            "colorscale": [
             [
              0,
              "#0d0887"
             ],
             [
              0.1111111111111111,
              "#46039f"
             ],
             [
              0.2222222222222222,
              "#7201a8"
             ],
             [
              0.3333333333333333,
              "#9c179e"
             ],
             [
              0.4444444444444444,
              "#bd3786"
             ],
             [
              0.5555555555555556,
              "#d8576b"
             ],
             [
              0.6666666666666666,
              "#ed7953"
             ],
             [
              0.7777777777777778,
              "#fb9f3a"
             ],
             [
              0.8888888888888888,
              "#fdca26"
             ],
             [
              1,
              "#f0f921"
             ]
            ],
            "type": "histogram2d"
           }
          ],
          "histogram2dcontour": [
           {
            "colorbar": {
             "outlinewidth": 0,
             "ticks": ""
            },
            "colorscale": [
             [
              0,
              "#0d0887"
             ],
             [
              0.1111111111111111,
              "#46039f"
             ],
             [
              0.2222222222222222,
              "#7201a8"
             ],
             [
              0.3333333333333333,
              "#9c179e"
             ],
             [
              0.4444444444444444,
              "#bd3786"
             ],
             [
              0.5555555555555556,
              "#d8576b"
             ],
             [
              0.6666666666666666,
              "#ed7953"
             ],
             [
              0.7777777777777778,
              "#fb9f3a"
             ],
             [
              0.8888888888888888,
              "#fdca26"
             ],
             [
              1,
              "#f0f921"
             ]
            ],
            "type": "histogram2dcontour"
           }
          ],
          "mesh3d": [
           {
            "colorbar": {
             "outlinewidth": 0,
             "ticks": ""
            },
            "type": "mesh3d"
           }
          ],
          "parcoords": [
           {
            "line": {
             "colorbar": {
              "outlinewidth": 0,
              "ticks": ""
             }
            },
            "type": "parcoords"
           }
          ],
          "pie": [
           {
            "automargin": true,
            "type": "pie"
           }
          ],
          "scatter": [
           {
            "marker": {
             "colorbar": {
              "outlinewidth": 0,
              "ticks": ""
             }
            },
            "type": "scatter"
           }
          ],
          "scatter3d": [
           {
            "line": {
             "colorbar": {
              "outlinewidth": 0,
              "ticks": ""
             }
            },
            "marker": {
             "colorbar": {
              "outlinewidth": 0,
              "ticks": ""
             }
            },
            "type": "scatter3d"
           }
          ],
          "scattercarpet": [
           {
            "marker": {
             "colorbar": {
              "outlinewidth": 0,
              "ticks": ""
             }
            },
            "type": "scattercarpet"
           }
          ],
          "scattergeo": [
           {
            "marker": {
             "colorbar": {
              "outlinewidth": 0,
              "ticks": ""
             }
            },
            "type": "scattergeo"
           }
          ],
          "scattergl": [
           {
            "marker": {
             "colorbar": {
              "outlinewidth": 0,
              "ticks": ""
             }
            },
            "type": "scattergl"
           }
          ],
          "scattermapbox": [
           {
            "marker": {
             "colorbar": {
              "outlinewidth": 0,
              "ticks": ""
             }
            },
            "type": "scattermapbox"
           }
          ],
          "scatterpolar": [
           {
            "marker": {
             "colorbar": {
              "outlinewidth": 0,
              "ticks": ""
             }
            },
            "type": "scatterpolar"
           }
          ],
          "scatterpolargl": [
           {
            "marker": {
             "colorbar": {
              "outlinewidth": 0,
              "ticks": ""
             }
            },
            "type": "scatterpolargl"
           }
          ],
          "scatterternary": [
           {
            "marker": {
             "colorbar": {
              "outlinewidth": 0,
              "ticks": ""
             }
            },
            "type": "scatterternary"
           }
          ],
          "surface": [
           {
            "colorbar": {
             "outlinewidth": 0,
             "ticks": ""
            },
            "colorscale": [
             [
              0,
              "#0d0887"
             ],
             [
              0.1111111111111111,
              "#46039f"
             ],
             [
              0.2222222222222222,
              "#7201a8"
             ],
             [
              0.3333333333333333,
              "#9c179e"
             ],
             [
              0.4444444444444444,
              "#bd3786"
             ],
             [
              0.5555555555555556,
              "#d8576b"
             ],
             [
              0.6666666666666666,
              "#ed7953"
             ],
             [
              0.7777777777777778,
              "#fb9f3a"
             ],
             [
              0.8888888888888888,
              "#fdca26"
             ],
             [
              1,
              "#f0f921"
             ]
            ],
            "type": "surface"
           }
          ],
          "table": [
           {
            "cells": {
             "fill": {
              "color": "#EBF0F8"
             },
             "line": {
              "color": "white"
             }
            },
            "header": {
             "fill": {
              "color": "#C8D4E3"
             },
             "line": {
              "color": "white"
             }
            },
            "type": "table"
           }
          ]
         },
         "layout": {
          "annotationdefaults": {
           "arrowcolor": "#2a3f5f",
           "arrowhead": 0,
           "arrowwidth": 1
          },
          "autotypenumbers": "strict",
          "coloraxis": {
           "colorbar": {
            "outlinewidth": 0,
            "ticks": ""
           }
          },
          "colorscale": {
           "diverging": [
            [
             0,
             "#8e0152"
            ],
            [
             0.1,
             "#c51b7d"
            ],
            [
             0.2,
             "#de77ae"
            ],
            [
             0.3,
             "#f1b6da"
            ],
            [
             0.4,
             "#fde0ef"
            ],
            [
             0.5,
             "#f7f7f7"
            ],
            [
             0.6,
             "#e6f5d0"
            ],
            [
             0.7,
             "#b8e186"
            ],
            [
             0.8,
             "#7fbc41"
            ],
            [
             0.9,
             "#4d9221"
            ],
            [
             1,
             "#276419"
            ]
           ],
           "sequential": [
            [
             0,
             "#0d0887"
            ],
            [
             0.1111111111111111,
             "#46039f"
            ],
            [
             0.2222222222222222,
             "#7201a8"
            ],
            [
             0.3333333333333333,
             "#9c179e"
            ],
            [
             0.4444444444444444,
             "#bd3786"
            ],
            [
             0.5555555555555556,
             "#d8576b"
            ],
            [
             0.6666666666666666,
             "#ed7953"
            ],
            [
             0.7777777777777778,
             "#fb9f3a"
            ],
            [
             0.8888888888888888,
             "#fdca26"
            ],
            [
             1,
             "#f0f921"
            ]
           ],
           "sequentialminus": [
            [
             0,
             "#0d0887"
            ],
            [
             0.1111111111111111,
             "#46039f"
            ],
            [
             0.2222222222222222,
             "#7201a8"
            ],
            [
             0.3333333333333333,
             "#9c179e"
            ],
            [
             0.4444444444444444,
             "#bd3786"
            ],
            [
             0.5555555555555556,
             "#d8576b"
            ],
            [
             0.6666666666666666,
             "#ed7953"
            ],
            [
             0.7777777777777778,
             "#fb9f3a"
            ],
            [
             0.8888888888888888,
             "#fdca26"
            ],
            [
             1,
             "#f0f921"
            ]
           ]
          },
          "colorway": [
           "#636efa",
           "#EF553B",
           "#00cc96",
           "#ab63fa",
           "#FFA15A",
           "#19d3f3",
           "#FF6692",
           "#B6E880",
           "#FF97FF",
           "#FECB52"
          ],
          "font": {
           "color": "#2a3f5f"
          },
          "geo": {
           "bgcolor": "white",
           "lakecolor": "white",
           "landcolor": "#E5ECF6",
           "showlakes": true,
           "showland": true,
           "subunitcolor": "white"
          },
          "hoverlabel": {
           "align": "left"
          },
          "hovermode": "closest",
          "mapbox": {
           "style": "light"
          },
          "paper_bgcolor": "white",
          "plot_bgcolor": "#E5ECF6",
          "polar": {
           "angularaxis": {
            "gridcolor": "white",
            "linecolor": "white",
            "ticks": ""
           },
           "bgcolor": "#E5ECF6",
           "radialaxis": {
            "gridcolor": "white",
            "linecolor": "white",
            "ticks": ""
           }
          },
          "scene": {
           "xaxis": {
            "backgroundcolor": "#E5ECF6",
            "gridcolor": "white",
            "gridwidth": 2,
            "linecolor": "white",
            "showbackground": true,
            "ticks": "",
            "zerolinecolor": "white"
           },
           "yaxis": {
            "backgroundcolor": "#E5ECF6",
            "gridcolor": "white",
            "gridwidth": 2,
            "linecolor": "white",
            "showbackground": true,
            "ticks": "",
            "zerolinecolor": "white"
           },
           "zaxis": {
            "backgroundcolor": "#E5ECF6",
            "gridcolor": "white",
            "gridwidth": 2,
            "linecolor": "white",
            "showbackground": true,
            "ticks": "",
            "zerolinecolor": "white"
           }
          },
          "shapedefaults": {
           "line": {
            "color": "#2a3f5f"
           }
          },
          "ternary": {
           "aaxis": {
            "gridcolor": "white",
            "linecolor": "white",
            "ticks": ""
           },
           "baxis": {
            "gridcolor": "white",
            "linecolor": "white",
            "ticks": ""
           },
           "bgcolor": "#E5ECF6",
           "caxis": {
            "gridcolor": "white",
            "linecolor": "white",
            "ticks": ""
           }
          },
          "title": {
           "x": 0.05
          },
          "xaxis": {
           "automargin": true,
           "gridcolor": "white",
           "linecolor": "white",
           "ticks": "",
           "title": {
            "standoff": 15
           },
           "zerolinecolor": "white",
           "zerolinewidth": 2
          },
          "yaxis": {
           "automargin": true,
           "gridcolor": "white",
           "linecolor": "white",
           "ticks": "",
           "title": {
            "standoff": 15
           },
           "zerolinecolor": "white",
           "zerolinewidth": 2
          }
         }
        }
       }
      }
     },
     "metadata": {}
    }
   ],
   "metadata": {}
  },
  {
   "cell_type": "code",
   "execution_count": 89,
   "source": [
    "df = pd.DataFrame(dict(\n",
    "    r=[1, 5, 2, 2, 3],\n",
    "    theta=['processing cost','mechanical properties','chemical stability',\n",
    "           'thermal stability', 'device integration']))\n",
    "fig = px.line_polar(df, r='r', theta='theta', line_close=True)\n",
    "fig.update_traces(fill='toself')\n",
    "fig.show()"
   ],
   "outputs": [
    {
     "output_type": "display_data",
     "data": {
      "application/vnd.plotly.v1+json": {
       "config": {
        "plotlyServerURL": "https://plot.ly"
       },
       "data": [
        {
         "fill": "toself",
         "hovertemplate": "r=%{r}<br>theta=%{theta}<extra></extra>",
         "legendgroup": "",
         "line": {
          "color": "#636efa",
          "dash": "solid"
         },
         "mode": "lines",
         "name": "",
         "r": [
          1,
          5,
          2,
          2,
          3,
          1
         ],
         "showlegend": false,
         "subplot": "polar",
         "theta": [
          "processing cost",
          "mechanical properties",
          "chemical stability",
          "thermal stability",
          "device integration",
          "processing cost"
         ],
         "type": "scatterpolar"
        }
       ],
       "layout": {
        "legend": {
         "tracegroupgap": 0
        },
        "margin": {
         "t": 60
        },
        "polar": {
         "angularaxis": {
          "direction": "clockwise",
          "rotation": 90
         },
         "domain": {
          "x": [
           0,
           1
          ],
          "y": [
           0,
           1
          ]
         }
        },
        "template": {
         "data": {
          "bar": [
           {
            "error_x": {
             "color": "#2a3f5f"
            },
            "error_y": {
             "color": "#2a3f5f"
            },
            "marker": {
             "line": {
              "color": "#E5ECF6",
              "width": 0.5
             }
            },
            "type": "bar"
           }
          ],
          "barpolar": [
           {
            "marker": {
             "line": {
              "color": "#E5ECF6",
              "width": 0.5
             }
            },
            "type": "barpolar"
           }
          ],
          "carpet": [
           {
            "aaxis": {
             "endlinecolor": "#2a3f5f",
             "gridcolor": "white",
             "linecolor": "white",
             "minorgridcolor": "white",
             "startlinecolor": "#2a3f5f"
            },
            "baxis": {
             "endlinecolor": "#2a3f5f",
             "gridcolor": "white",
             "linecolor": "white",
             "minorgridcolor": "white",
             "startlinecolor": "#2a3f5f"
            },
            "type": "carpet"
           }
          ],
          "choropleth": [
           {
            "colorbar": {
             "outlinewidth": 0,
             "ticks": ""
            },
            "type": "choropleth"
           }
          ],
          "contour": [
           {
            "colorbar": {
             "outlinewidth": 0,
             "ticks": ""
            },
            "colorscale": [
             [
              0,
              "#0d0887"
             ],
             [
              0.1111111111111111,
              "#46039f"
             ],
             [
              0.2222222222222222,
              "#7201a8"
             ],
             [
              0.3333333333333333,
              "#9c179e"
             ],
             [
              0.4444444444444444,
              "#bd3786"
             ],
             [
              0.5555555555555556,
              "#d8576b"
             ],
             [
              0.6666666666666666,
              "#ed7953"
             ],
             [
              0.7777777777777778,
              "#fb9f3a"
             ],
             [
              0.8888888888888888,
              "#fdca26"
             ],
             [
              1,
              "#f0f921"
             ]
            ],
            "type": "contour"
           }
          ],
          "contourcarpet": [
           {
            "colorbar": {
             "outlinewidth": 0,
             "ticks": ""
            },
            "type": "contourcarpet"
           }
          ],
          "heatmap": [
           {
            "colorbar": {
             "outlinewidth": 0,
             "ticks": ""
            },
            "colorscale": [
             [
              0,
              "#0d0887"
             ],
             [
              0.1111111111111111,
              "#46039f"
             ],
             [
              0.2222222222222222,
              "#7201a8"
             ],
             [
              0.3333333333333333,
              "#9c179e"
             ],
             [
              0.4444444444444444,
              "#bd3786"
             ],
             [
              0.5555555555555556,
              "#d8576b"
             ],
             [
              0.6666666666666666,
              "#ed7953"
             ],
             [
              0.7777777777777778,
              "#fb9f3a"
             ],
             [
              0.8888888888888888,
              "#fdca26"
             ],
             [
              1,
              "#f0f921"
             ]
            ],
            "type": "heatmap"
           }
          ],
          "heatmapgl": [
           {
            "colorbar": {
             "outlinewidth": 0,
             "ticks": ""
            },
            "colorscale": [
             [
              0,
              "#0d0887"
             ],
             [
              0.1111111111111111,
              "#46039f"
             ],
             [
              0.2222222222222222,
              "#7201a8"
             ],
             [
              0.3333333333333333,
              "#9c179e"
             ],
             [
              0.4444444444444444,
              "#bd3786"
             ],
             [
              0.5555555555555556,
              "#d8576b"
             ],
             [
              0.6666666666666666,
              "#ed7953"
             ],
             [
              0.7777777777777778,
              "#fb9f3a"
             ],
             [
              0.8888888888888888,
              "#fdca26"
             ],
             [
              1,
              "#f0f921"
             ]
            ],
            "type": "heatmapgl"
           }
          ],
          "histogram": [
           {
            "marker": {
             "colorbar": {
              "outlinewidth": 0,
              "ticks": ""
             }
            },
            "type": "histogram"
           }
          ],
          "histogram2d": [
           {
            "colorbar": {
             "outlinewidth": 0,
             "ticks": ""
            },
            "colorscale": [
             [
              0,
              "#0d0887"
             ],
             [
              0.1111111111111111,
              "#46039f"
             ],
             [
              0.2222222222222222,
              "#7201a8"
             ],
             [
              0.3333333333333333,
              "#9c179e"
             ],
             [
              0.4444444444444444,
              "#bd3786"
             ],
             [
              0.5555555555555556,
              "#d8576b"
             ],
             [
              0.6666666666666666,
              "#ed7953"
             ],
             [
              0.7777777777777778,
              "#fb9f3a"
             ],
             [
              0.8888888888888888,
              "#fdca26"
             ],
             [
              1,
              "#f0f921"
             ]
            ],
            "type": "histogram2d"
           }
          ],
          "histogram2dcontour": [
           {
            "colorbar": {
             "outlinewidth": 0,
             "ticks": ""
            },
            "colorscale": [
             [
              0,
              "#0d0887"
             ],
             [
              0.1111111111111111,
              "#46039f"
             ],
             [
              0.2222222222222222,
              "#7201a8"
             ],
             [
              0.3333333333333333,
              "#9c179e"
             ],
             [
              0.4444444444444444,
              "#bd3786"
             ],
             [
              0.5555555555555556,
              "#d8576b"
             ],
             [
              0.6666666666666666,
              "#ed7953"
             ],
             [
              0.7777777777777778,
              "#fb9f3a"
             ],
             [
              0.8888888888888888,
              "#fdca26"
             ],
             [
              1,
              "#f0f921"
             ]
            ],
            "type": "histogram2dcontour"
           }
          ],
          "mesh3d": [
           {
            "colorbar": {
             "outlinewidth": 0,
             "ticks": ""
            },
            "type": "mesh3d"
           }
          ],
          "parcoords": [
           {
            "line": {
             "colorbar": {
              "outlinewidth": 0,
              "ticks": ""
             }
            },
            "type": "parcoords"
           }
          ],
          "pie": [
           {
            "automargin": true,
            "type": "pie"
           }
          ],
          "scatter": [
           {
            "marker": {
             "colorbar": {
              "outlinewidth": 0,
              "ticks": ""
             }
            },
            "type": "scatter"
           }
          ],
          "scatter3d": [
           {
            "line": {
             "colorbar": {
              "outlinewidth": 0,
              "ticks": ""
             }
            },
            "marker": {
             "colorbar": {
              "outlinewidth": 0,
              "ticks": ""
             }
            },
            "type": "scatter3d"
           }
          ],
          "scattercarpet": [
           {
            "marker": {
             "colorbar": {
              "outlinewidth": 0,
              "ticks": ""
             }
            },
            "type": "scattercarpet"
           }
          ],
          "scattergeo": [
           {
            "marker": {
             "colorbar": {
              "outlinewidth": 0,
              "ticks": ""
             }
            },
            "type": "scattergeo"
           }
          ],
          "scattergl": [
           {
            "marker": {
             "colorbar": {
              "outlinewidth": 0,
              "ticks": ""
             }
            },
            "type": "scattergl"
           }
          ],
          "scattermapbox": [
           {
            "marker": {
             "colorbar": {
              "outlinewidth": 0,
              "ticks": ""
             }
            },
            "type": "scattermapbox"
           }
          ],
          "scatterpolar": [
           {
            "marker": {
             "colorbar": {
              "outlinewidth": 0,
              "ticks": ""
             }
            },
            "type": "scatterpolar"
           }
          ],
          "scatterpolargl": [
           {
            "marker": {
             "colorbar": {
              "outlinewidth": 0,
              "ticks": ""
             }
            },
            "type": "scatterpolargl"
           }
          ],
          "scatterternary": [
           {
            "marker": {
             "colorbar": {
              "outlinewidth": 0,
              "ticks": ""
             }
            },
            "type": "scatterternary"
           }
          ],
          "surface": [
           {
            "colorbar": {
             "outlinewidth": 0,
             "ticks": ""
            },
            "colorscale": [
             [
              0,
              "#0d0887"
             ],
             [
              0.1111111111111111,
              "#46039f"
             ],
             [
              0.2222222222222222,
              "#7201a8"
             ],
             [
              0.3333333333333333,
              "#9c179e"
             ],
             [
              0.4444444444444444,
              "#bd3786"
             ],
             [
              0.5555555555555556,
              "#d8576b"
             ],
             [
              0.6666666666666666,
              "#ed7953"
             ],
             [
              0.7777777777777778,
              "#fb9f3a"
             ],
             [
              0.8888888888888888,
              "#fdca26"
             ],
             [
              1,
              "#f0f921"
             ]
            ],
            "type": "surface"
           }
          ],
          "table": [
           {
            "cells": {
             "fill": {
              "color": "#EBF0F8"
             },
             "line": {
              "color": "white"
             }
            },
            "header": {
             "fill": {
              "color": "#C8D4E3"
             },
             "line": {
              "color": "white"
             }
            },
            "type": "table"
           }
          ]
         },
         "layout": {
          "annotationdefaults": {
           "arrowcolor": "#2a3f5f",
           "arrowhead": 0,
           "arrowwidth": 1
          },
          "autotypenumbers": "strict",
          "coloraxis": {
           "colorbar": {
            "outlinewidth": 0,
            "ticks": ""
           }
          },
          "colorscale": {
           "diverging": [
            [
             0,
             "#8e0152"
            ],
            [
             0.1,
             "#c51b7d"
            ],
            [
             0.2,
             "#de77ae"
            ],
            [
             0.3,
             "#f1b6da"
            ],
            [
             0.4,
             "#fde0ef"
            ],
            [
             0.5,
             "#f7f7f7"
            ],
            [
             0.6,
             "#e6f5d0"
            ],
            [
             0.7,
             "#b8e186"
            ],
            [
             0.8,
             "#7fbc41"
            ],
            [
             0.9,
             "#4d9221"
            ],
            [
             1,
             "#276419"
            ]
           ],
           "sequential": [
            [
             0,
             "#0d0887"
            ],
            [
             0.1111111111111111,
             "#46039f"
            ],
            [
             0.2222222222222222,
             "#7201a8"
            ],
            [
             0.3333333333333333,
             "#9c179e"
            ],
            [
             0.4444444444444444,
             "#bd3786"
            ],
            [
             0.5555555555555556,
             "#d8576b"
            ],
            [
             0.6666666666666666,
             "#ed7953"
            ],
            [
             0.7777777777777778,
             "#fb9f3a"
            ],
            [
             0.8888888888888888,
             "#fdca26"
            ],
            [
             1,
             "#f0f921"
            ]
           ],
           "sequentialminus": [
            [
             0,
             "#0d0887"
            ],
            [
             0.1111111111111111,
             "#46039f"
            ],
            [
             0.2222222222222222,
             "#7201a8"
            ],
            [
             0.3333333333333333,
             "#9c179e"
            ],
            [
             0.4444444444444444,
             "#bd3786"
            ],
            [
             0.5555555555555556,
             "#d8576b"
            ],
            [
             0.6666666666666666,
             "#ed7953"
            ],
            [
             0.7777777777777778,
             "#fb9f3a"
            ],
            [
             0.8888888888888888,
             "#fdca26"
            ],
            [
             1,
             "#f0f921"
            ]
           ]
          },
          "colorway": [
           "#636efa",
           "#EF553B",
           "#00cc96",
           "#ab63fa",
           "#FFA15A",
           "#19d3f3",
           "#FF6692",
           "#B6E880",
           "#FF97FF",
           "#FECB52"
          ],
          "font": {
           "color": "#2a3f5f"
          },
          "geo": {
           "bgcolor": "white",
           "lakecolor": "white",
           "landcolor": "#E5ECF6",
           "showlakes": true,
           "showland": true,
           "subunitcolor": "white"
          },
          "hoverlabel": {
           "align": "left"
          },
          "hovermode": "closest",
          "mapbox": {
           "style": "light"
          },
          "paper_bgcolor": "white",
          "plot_bgcolor": "#E5ECF6",
          "polar": {
           "angularaxis": {
            "gridcolor": "white",
            "linecolor": "white",
            "ticks": ""
           },
           "bgcolor": "#E5ECF6",
           "radialaxis": {
            "gridcolor": "white",
            "linecolor": "white",
            "ticks": ""
           }
          },
          "scene": {
           "xaxis": {
            "backgroundcolor": "#E5ECF6",
            "gridcolor": "white",
            "gridwidth": 2,
            "linecolor": "white",
            "showbackground": true,
            "ticks": "",
            "zerolinecolor": "white"
           },
           "yaxis": {
            "backgroundcolor": "#E5ECF6",
            "gridcolor": "white",
            "gridwidth": 2,
            "linecolor": "white",
            "showbackground": true,
            "ticks": "",
            "zerolinecolor": "white"
           },
           "zaxis": {
            "backgroundcolor": "#E5ECF6",
            "gridcolor": "white",
            "gridwidth": 2,
            "linecolor": "white",
            "showbackground": true,
            "ticks": "",
            "zerolinecolor": "white"
           }
          },
          "shapedefaults": {
           "line": {
            "color": "#2a3f5f"
           }
          },
          "ternary": {
           "aaxis": {
            "gridcolor": "white",
            "linecolor": "white",
            "ticks": ""
           },
           "baxis": {
            "gridcolor": "white",
            "linecolor": "white",
            "ticks": ""
           },
           "bgcolor": "#E5ECF6",
           "caxis": {
            "gridcolor": "white",
            "linecolor": "white",
            "ticks": ""
           }
          },
          "title": {
           "x": 0.05
          },
          "xaxis": {
           "automargin": true,
           "gridcolor": "white",
           "linecolor": "white",
           "ticks": "",
           "title": {
            "standoff": 15
           },
           "zerolinecolor": "white",
           "zerolinewidth": 2
          },
          "yaxis": {
           "automargin": true,
           "gridcolor": "white",
           "linecolor": "white",
           "ticks": "",
           "title": {
            "standoff": 15
           },
           "zerolinecolor": "white",
           "zerolinewidth": 2
          }
         }
        }
       }
      }
     },
     "metadata": {}
    }
   ],
   "metadata": {}
  },
  {
   "cell_type": "code",
   "execution_count": null,
   "source": [
    "del stats_df['Passes complétées']"
   ],
   "outputs": [],
   "metadata": {}
  },
  {
   "cell_type": "code",
   "execution_count": 21,
   "source": [
    "melted_stats = stats_df.melt(id_vars=stats_df.columns[:4],\n",
    "                        var_name=\"feature\",\n",
    "                        value_name=\"value\")"
   ],
   "outputs": [],
   "metadata": {}
  },
  {
   "cell_type": "code",
   "execution_count": 22,
   "source": [
    "melted_stats.head()"
   ],
   "outputs": [
    {
     "output_type": "execute_result",
     "data": {
      "text/plain": [
       "                        _id        Joueur                Club     Annees  \\\n",
       "0  618d59af7d181c0001b7bc6c  Jamal-Aabbou           Lommel SK  2018-2019   \n",
       "1  618d59af7d181c0001b7bc6d  Jamal-Aabbou           Lommel SK  2019-2020   \n",
       "2  618d59af7d181c0001b7bc6e  Jamal-Aabbou           Lommel SK  2020-2021   \n",
       "3  618d59af7d181c0001b7bc6f  Jamal-Aabbou  Lierse Kempenzonen  2020-2021   \n",
       "4  618d59af7d181c0001b7bc70  Jamal-Aabbou              Virton  2021-2022   \n",
       "\n",
       "  feature  value  \n",
       "0   Goals      0  \n",
       "1   Goals      3  \n",
       "2   Goals      0  \n",
       "3   Goals      0  \n",
       "4   Goals      1  "
      ],
      "text/html": [
       "<div>\n",
       "<style scoped>\n",
       "    .dataframe tbody tr th:only-of-type {\n",
       "        vertical-align: middle;\n",
       "    }\n",
       "\n",
       "    .dataframe tbody tr th {\n",
       "        vertical-align: top;\n",
       "    }\n",
       "\n",
       "    .dataframe thead th {\n",
       "        text-align: right;\n",
       "    }\n",
       "</style>\n",
       "<table border=\"1\" class=\"dataframe\">\n",
       "  <thead>\n",
       "    <tr style=\"text-align: right;\">\n",
       "      <th></th>\n",
       "      <th>_id</th>\n",
       "      <th>Joueur</th>\n",
       "      <th>Club</th>\n",
       "      <th>Annees</th>\n",
       "      <th>feature</th>\n",
       "      <th>value</th>\n",
       "    </tr>\n",
       "  </thead>\n",
       "  <tbody>\n",
       "    <tr>\n",
       "      <th>0</th>\n",
       "      <td>618d59af7d181c0001b7bc6c</td>\n",
       "      <td>Jamal-Aabbou</td>\n",
       "      <td>Lommel SK</td>\n",
       "      <td>2018-2019</td>\n",
       "      <td>Goals</td>\n",
       "      <td>0</td>\n",
       "    </tr>\n",
       "    <tr>\n",
       "      <th>1</th>\n",
       "      <td>618d59af7d181c0001b7bc6d</td>\n",
       "      <td>Jamal-Aabbou</td>\n",
       "      <td>Lommel SK</td>\n",
       "      <td>2019-2020</td>\n",
       "      <td>Goals</td>\n",
       "      <td>3</td>\n",
       "    </tr>\n",
       "    <tr>\n",
       "      <th>2</th>\n",
       "      <td>618d59af7d181c0001b7bc6e</td>\n",
       "      <td>Jamal-Aabbou</td>\n",
       "      <td>Lommel SK</td>\n",
       "      <td>2020-2021</td>\n",
       "      <td>Goals</td>\n",
       "      <td>0</td>\n",
       "    </tr>\n",
       "    <tr>\n",
       "      <th>3</th>\n",
       "      <td>618d59af7d181c0001b7bc6f</td>\n",
       "      <td>Jamal-Aabbou</td>\n",
       "      <td>Lierse Kempenzonen</td>\n",
       "      <td>2020-2021</td>\n",
       "      <td>Goals</td>\n",
       "      <td>0</td>\n",
       "    </tr>\n",
       "    <tr>\n",
       "      <th>4</th>\n",
       "      <td>618d59af7d181c0001b7bc70</td>\n",
       "      <td>Jamal-Aabbou</td>\n",
       "      <td>Virton</td>\n",
       "      <td>2021-2022</td>\n",
       "      <td>Goals</td>\n",
       "      <td>1</td>\n",
       "    </tr>\n",
       "  </tbody>\n",
       "</table>\n",
       "</div>"
      ]
     },
     "metadata": {},
     "execution_count": 22
    }
   ],
   "metadata": {}
  },
  {
   "cell_type": "code",
   "execution_count": 209,
   "source": [
    "melted_stats.to_csv(\"../data/player_stats.csv\", index=False)"
   ],
   "outputs": [],
   "metadata": {}
  },
  {
   "cell_type": "code",
   "execution_count": 23,
   "source": [
    "test_messi = melted_stats[melted_stats['Joueur']==\"Lionel-Messi\"][melted_stats['Annees']==\"2021-2022\"]"
   ],
   "outputs": [
    {
     "output_type": "stream",
     "name": "stderr",
     "text": [
      "/var/folders/p8/3m9yr08n2933fqw2kp16c09w0000gn/T/ipykernel_68320/1605017470.py:1: UserWarning:\n",
      "\n",
      "Boolean Series key will be reindexed to match DataFrame index.\n",
      "\n"
     ]
    }
   ],
   "metadata": {}
  },
  {
   "cell_type": "code",
   "execution_count": 24,
   "source": [
    "test_messi"
   ],
   "outputs": [
    {
     "output_type": "execute_result",
     "data": {
      "text/plain": [
       "                             _id        Joueur       Club     Annees  \\\n",
       "84359   618d59af7d181c0001b905f3  Lionel-Messi  Paris S-G  2021-2022   \n",
       "225547  618d59af7d181c0001b905f3  Lionel-Messi  Paris S-G  2021-2022   \n",
       "366735  618d59af7d181c0001b905f3  Lionel-Messi  Paris S-G  2021-2022   \n",
       "507923  618d59af7d181c0001b905f3  Lionel-Messi  Paris S-G  2021-2022   \n",
       "\n",
       "          feature  value  \n",
       "84359       Goals      0  \n",
       "225547  decisives      9  \n",
       "366735   Dribbles      7  \n",
       "507923   defenses      0  "
      ],
      "text/html": [
       "<div>\n",
       "<style scoped>\n",
       "    .dataframe tbody tr th:only-of-type {\n",
       "        vertical-align: middle;\n",
       "    }\n",
       "\n",
       "    .dataframe tbody tr th {\n",
       "        vertical-align: top;\n",
       "    }\n",
       "\n",
       "    .dataframe thead th {\n",
       "        text-align: right;\n",
       "    }\n",
       "</style>\n",
       "<table border=\"1\" class=\"dataframe\">\n",
       "  <thead>\n",
       "    <tr style=\"text-align: right;\">\n",
       "      <th></th>\n",
       "      <th>_id</th>\n",
       "      <th>Joueur</th>\n",
       "      <th>Club</th>\n",
       "      <th>Annees</th>\n",
       "      <th>feature</th>\n",
       "      <th>value</th>\n",
       "    </tr>\n",
       "  </thead>\n",
       "  <tbody>\n",
       "    <tr>\n",
       "      <th>84359</th>\n",
       "      <td>618d59af7d181c0001b905f3</td>\n",
       "      <td>Lionel-Messi</td>\n",
       "      <td>Paris S-G</td>\n",
       "      <td>2021-2022</td>\n",
       "      <td>Goals</td>\n",
       "      <td>0</td>\n",
       "    </tr>\n",
       "    <tr>\n",
       "      <th>225547</th>\n",
       "      <td>618d59af7d181c0001b905f3</td>\n",
       "      <td>Lionel-Messi</td>\n",
       "      <td>Paris S-G</td>\n",
       "      <td>2021-2022</td>\n",
       "      <td>decisives</td>\n",
       "      <td>9</td>\n",
       "    </tr>\n",
       "    <tr>\n",
       "      <th>366735</th>\n",
       "      <td>618d59af7d181c0001b905f3</td>\n",
       "      <td>Lionel-Messi</td>\n",
       "      <td>Paris S-G</td>\n",
       "      <td>2021-2022</td>\n",
       "      <td>Dribbles</td>\n",
       "      <td>7</td>\n",
       "    </tr>\n",
       "    <tr>\n",
       "      <th>507923</th>\n",
       "      <td>618d59af7d181c0001b905f3</td>\n",
       "      <td>Lionel-Messi</td>\n",
       "      <td>Paris S-G</td>\n",
       "      <td>2021-2022</td>\n",
       "      <td>defenses</td>\n",
       "      <td>0</td>\n",
       "    </tr>\n",
       "  </tbody>\n",
       "</table>\n",
       "</div>"
      ]
     },
     "metadata": {},
     "execution_count": 24
    }
   ],
   "metadata": {}
  },
  {
   "cell_type": "code",
   "execution_count": 25,
   "source": [
    "px.line_polar(test_messi, r='value', theta='feature').show()"
   ],
   "outputs": [
    {
     "output_type": "display_data",
     "data": {
      "application/vnd.plotly.v1+json": {
       "config": {
        "plotlyServerURL": "https://plot.ly"
       },
       "data": [
        {
         "hovertemplate": "value=%{r}<br>feature=%{theta}<extra></extra>",
         "legendgroup": "",
         "line": {
          "color": "#636efa",
          "dash": "solid"
         },
         "mode": "lines",
         "name": "",
         "r": [
          0,
          9,
          7,
          0
         ],
         "showlegend": false,
         "subplot": "polar",
         "theta": [
          "Goals",
          "decisives",
          "Dribbles",
          "defenses"
         ],
         "type": "scatterpolar"
        }
       ],
       "layout": {
        "legend": {
         "tracegroupgap": 0
        },
        "margin": {
         "t": 60
        },
        "polar": {
         "angularaxis": {
          "direction": "clockwise",
          "rotation": 90
         },
         "domain": {
          "x": [
           0,
           1
          ],
          "y": [
           0,
           1
          ]
         }
        },
        "template": {
         "data": {
          "bar": [
           {
            "error_x": {
             "color": "#2a3f5f"
            },
            "error_y": {
             "color": "#2a3f5f"
            },
            "marker": {
             "line": {
              "color": "#E5ECF6",
              "width": 0.5
             }
            },
            "type": "bar"
           }
          ],
          "barpolar": [
           {
            "marker": {
             "line": {
              "color": "#E5ECF6",
              "width": 0.5
             }
            },
            "type": "barpolar"
           }
          ],
          "carpet": [
           {
            "aaxis": {
             "endlinecolor": "#2a3f5f",
             "gridcolor": "white",
             "linecolor": "white",
             "minorgridcolor": "white",
             "startlinecolor": "#2a3f5f"
            },
            "baxis": {
             "endlinecolor": "#2a3f5f",
             "gridcolor": "white",
             "linecolor": "white",
             "minorgridcolor": "white",
             "startlinecolor": "#2a3f5f"
            },
            "type": "carpet"
           }
          ],
          "choropleth": [
           {
            "colorbar": {
             "outlinewidth": 0,
             "ticks": ""
            },
            "type": "choropleth"
           }
          ],
          "contour": [
           {
            "colorbar": {
             "outlinewidth": 0,
             "ticks": ""
            },
            "colorscale": [
             [
              0,
              "#0d0887"
             ],
             [
              0.1111111111111111,
              "#46039f"
             ],
             [
              0.2222222222222222,
              "#7201a8"
             ],
             [
              0.3333333333333333,
              "#9c179e"
             ],
             [
              0.4444444444444444,
              "#bd3786"
             ],
             [
              0.5555555555555556,
              "#d8576b"
             ],
             [
              0.6666666666666666,
              "#ed7953"
             ],
             [
              0.7777777777777778,
              "#fb9f3a"
             ],
             [
              0.8888888888888888,
              "#fdca26"
             ],
             [
              1,
              "#f0f921"
             ]
            ],
            "type": "contour"
           }
          ],
          "contourcarpet": [
           {
            "colorbar": {
             "outlinewidth": 0,
             "ticks": ""
            },
            "type": "contourcarpet"
           }
          ],
          "heatmap": [
           {
            "colorbar": {
             "outlinewidth": 0,
             "ticks": ""
            },
            "colorscale": [
             [
              0,
              "#0d0887"
             ],
             [
              0.1111111111111111,
              "#46039f"
             ],
             [
              0.2222222222222222,
              "#7201a8"
             ],
             [
              0.3333333333333333,
              "#9c179e"
             ],
             [
              0.4444444444444444,
              "#bd3786"
             ],
             [
              0.5555555555555556,
              "#d8576b"
             ],
             [
              0.6666666666666666,
              "#ed7953"
             ],
             [
              0.7777777777777778,
              "#fb9f3a"
             ],
             [
              0.8888888888888888,
              "#fdca26"
             ],
             [
              1,
              "#f0f921"
             ]
            ],
            "type": "heatmap"
           }
          ],
          "heatmapgl": [
           {
            "colorbar": {
             "outlinewidth": 0,
             "ticks": ""
            },
            "colorscale": [
             [
              0,
              "#0d0887"
             ],
             [
              0.1111111111111111,
              "#46039f"
             ],
             [
              0.2222222222222222,
              "#7201a8"
             ],
             [
              0.3333333333333333,
              "#9c179e"
             ],
             [
              0.4444444444444444,
              "#bd3786"
             ],
             [
              0.5555555555555556,
              "#d8576b"
             ],
             [
              0.6666666666666666,
              "#ed7953"
             ],
             [
              0.7777777777777778,
              "#fb9f3a"
             ],
             [
              0.8888888888888888,
              "#fdca26"
             ],
             [
              1,
              "#f0f921"
             ]
            ],
            "type": "heatmapgl"
           }
          ],
          "histogram": [
           {
            "marker": {
             "colorbar": {
              "outlinewidth": 0,
              "ticks": ""
             }
            },
            "type": "histogram"
           }
          ],
          "histogram2d": [
           {
            "colorbar": {
             "outlinewidth": 0,
             "ticks": ""
            },
            "colorscale": [
             [
              0,
              "#0d0887"
             ],
             [
              0.1111111111111111,
              "#46039f"
             ],
             [
              0.2222222222222222,
              "#7201a8"
             ],
             [
              0.3333333333333333,
              "#9c179e"
             ],
             [
              0.4444444444444444,
              "#bd3786"
             ],
             [
              0.5555555555555556,
              "#d8576b"
             ],
             [
              0.6666666666666666,
              "#ed7953"
             ],
             [
              0.7777777777777778,
              "#fb9f3a"
             ],
             [
              0.8888888888888888,
              "#fdca26"
             ],
             [
              1,
              "#f0f921"
             ]
            ],
            "type": "histogram2d"
           }
          ],
          "histogram2dcontour": [
           {
            "colorbar": {
             "outlinewidth": 0,
             "ticks": ""
            },
            "colorscale": [
             [
              0,
              "#0d0887"
             ],
             [
              0.1111111111111111,
              "#46039f"
             ],
             [
              0.2222222222222222,
              "#7201a8"
             ],
             [
              0.3333333333333333,
              "#9c179e"
             ],
             [
              0.4444444444444444,
              "#bd3786"
             ],
             [
              0.5555555555555556,
              "#d8576b"
             ],
             [
              0.6666666666666666,
              "#ed7953"
             ],
             [
              0.7777777777777778,
              "#fb9f3a"
             ],
             [
              0.8888888888888888,
              "#fdca26"
             ],
             [
              1,
              "#f0f921"
             ]
            ],
            "type": "histogram2dcontour"
           }
          ],
          "mesh3d": [
           {
            "colorbar": {
             "outlinewidth": 0,
             "ticks": ""
            },
            "type": "mesh3d"
           }
          ],
          "parcoords": [
           {
            "line": {
             "colorbar": {
              "outlinewidth": 0,
              "ticks": ""
             }
            },
            "type": "parcoords"
           }
          ],
          "pie": [
           {
            "automargin": true,
            "type": "pie"
           }
          ],
          "scatter": [
           {
            "marker": {
             "colorbar": {
              "outlinewidth": 0,
              "ticks": ""
             }
            },
            "type": "scatter"
           }
          ],
          "scatter3d": [
           {
            "line": {
             "colorbar": {
              "outlinewidth": 0,
              "ticks": ""
             }
            },
            "marker": {
             "colorbar": {
              "outlinewidth": 0,
              "ticks": ""
             }
            },
            "type": "scatter3d"
           }
          ],
          "scattercarpet": [
           {
            "marker": {
             "colorbar": {
              "outlinewidth": 0,
              "ticks": ""
             }
            },
            "type": "scattercarpet"
           }
          ],
          "scattergeo": [
           {
            "marker": {
             "colorbar": {
              "outlinewidth": 0,
              "ticks": ""
             }
            },
            "type": "scattergeo"
           }
          ],
          "scattergl": [
           {
            "marker": {
             "colorbar": {
              "outlinewidth": 0,
              "ticks": ""
             }
            },
            "type": "scattergl"
           }
          ],
          "scattermapbox": [
           {
            "marker": {
             "colorbar": {
              "outlinewidth": 0,
              "ticks": ""
             }
            },
            "type": "scattermapbox"
           }
          ],
          "scatterpolar": [
           {
            "marker": {
             "colorbar": {
              "outlinewidth": 0,
              "ticks": ""
             }
            },
            "type": "scatterpolar"
           }
          ],
          "scatterpolargl": [
           {
            "marker": {
             "colorbar": {
              "outlinewidth": 0,
              "ticks": ""
             }
            },
            "type": "scatterpolargl"
           }
          ],
          "scatterternary": [
           {
            "marker": {
             "colorbar": {
              "outlinewidth": 0,
              "ticks": ""
             }
            },
            "type": "scatterternary"
           }
          ],
          "surface": [
           {
            "colorbar": {
             "outlinewidth": 0,
             "ticks": ""
            },
            "colorscale": [
             [
              0,
              "#0d0887"
             ],
             [
              0.1111111111111111,
              "#46039f"
             ],
             [
              0.2222222222222222,
              "#7201a8"
             ],
             [
              0.3333333333333333,
              "#9c179e"
             ],
             [
              0.4444444444444444,
              "#bd3786"
             ],
             [
              0.5555555555555556,
              "#d8576b"
             ],
             [
              0.6666666666666666,
              "#ed7953"
             ],
             [
              0.7777777777777778,
              "#fb9f3a"
             ],
             [
              0.8888888888888888,
              "#fdca26"
             ],
             [
              1,
              "#f0f921"
             ]
            ],
            "type": "surface"
           }
          ],
          "table": [
           {
            "cells": {
             "fill": {
              "color": "#EBF0F8"
             },
             "line": {
              "color": "white"
             }
            },
            "header": {
             "fill": {
              "color": "#C8D4E3"
             },
             "line": {
              "color": "white"
             }
            },
            "type": "table"
           }
          ]
         },
         "layout": {
          "annotationdefaults": {
           "arrowcolor": "#2a3f5f",
           "arrowhead": 0,
           "arrowwidth": 1
          },
          "autotypenumbers": "strict",
          "coloraxis": {
           "colorbar": {
            "outlinewidth": 0,
            "ticks": ""
           }
          },
          "colorscale": {
           "diverging": [
            [
             0,
             "#8e0152"
            ],
            [
             0.1,
             "#c51b7d"
            ],
            [
             0.2,
             "#de77ae"
            ],
            [
             0.3,
             "#f1b6da"
            ],
            [
             0.4,
             "#fde0ef"
            ],
            [
             0.5,
             "#f7f7f7"
            ],
            [
             0.6,
             "#e6f5d0"
            ],
            [
             0.7,
             "#b8e186"
            ],
            [
             0.8,
             "#7fbc41"
            ],
            [
             0.9,
             "#4d9221"
            ],
            [
             1,
             "#276419"
            ]
           ],
           "sequential": [
            [
             0,
             "#0d0887"
            ],
            [
             0.1111111111111111,
             "#46039f"
            ],
            [
             0.2222222222222222,
             "#7201a8"
            ],
            [
             0.3333333333333333,
             "#9c179e"
            ],
            [
             0.4444444444444444,
             "#bd3786"
            ],
            [
             0.5555555555555556,
             "#d8576b"
            ],
            [
             0.6666666666666666,
             "#ed7953"
            ],
            [
             0.7777777777777778,
             "#fb9f3a"
            ],
            [
             0.8888888888888888,
             "#fdca26"
            ],
            [
             1,
             "#f0f921"
            ]
           ],
           "sequentialminus": [
            [
             0,
             "#0d0887"
            ],
            [
             0.1111111111111111,
             "#46039f"
            ],
            [
             0.2222222222222222,
             "#7201a8"
            ],
            [
             0.3333333333333333,
             "#9c179e"
            ],
            [
             0.4444444444444444,
             "#bd3786"
            ],
            [
             0.5555555555555556,
             "#d8576b"
            ],
            [
             0.6666666666666666,
             "#ed7953"
            ],
            [
             0.7777777777777778,
             "#fb9f3a"
            ],
            [
             0.8888888888888888,
             "#fdca26"
            ],
            [
             1,
             "#f0f921"
            ]
           ]
          },
          "colorway": [
           "#636efa",
           "#EF553B",
           "#00cc96",
           "#ab63fa",
           "#FFA15A",
           "#19d3f3",
           "#FF6692",
           "#B6E880",
           "#FF97FF",
           "#FECB52"
          ],
          "font": {
           "color": "#2a3f5f"
          },
          "geo": {
           "bgcolor": "white",
           "lakecolor": "white",
           "landcolor": "#E5ECF6",
           "showlakes": true,
           "showland": true,
           "subunitcolor": "white"
          },
          "hoverlabel": {
           "align": "left"
          },
          "hovermode": "closest",
          "mapbox": {
           "style": "light"
          },
          "paper_bgcolor": "white",
          "plot_bgcolor": "#E5ECF6",
          "polar": {
           "angularaxis": {
            "gridcolor": "white",
            "linecolor": "white",
            "ticks": ""
           },
           "bgcolor": "#E5ECF6",
           "radialaxis": {
            "gridcolor": "white",
            "linecolor": "white",
            "ticks": ""
           }
          },
          "scene": {
           "xaxis": {
            "backgroundcolor": "#E5ECF6",
            "gridcolor": "white",
            "gridwidth": 2,
            "linecolor": "white",
            "showbackground": true,
            "ticks": "",
            "zerolinecolor": "white"
           },
           "yaxis": {
            "backgroundcolor": "#E5ECF6",
            "gridcolor": "white",
            "gridwidth": 2,
            "linecolor": "white",
            "showbackground": true,
            "ticks": "",
            "zerolinecolor": "white"
           },
           "zaxis": {
            "backgroundcolor": "#E5ECF6",
            "gridcolor": "white",
            "gridwidth": 2,
            "linecolor": "white",
            "showbackground": true,
            "ticks": "",
            "zerolinecolor": "white"
           }
          },
          "shapedefaults": {
           "line": {
            "color": "#2a3f5f"
           }
          },
          "ternary": {
           "aaxis": {
            "gridcolor": "white",
            "linecolor": "white",
            "ticks": ""
           },
           "baxis": {
            "gridcolor": "white",
            "linecolor": "white",
            "ticks": ""
           },
           "bgcolor": "#E5ECF6",
           "caxis": {
            "gridcolor": "white",
            "linecolor": "white",
            "ticks": ""
           }
          },
          "title": {
           "x": 0.05
          },
          "xaxis": {
           "automargin": true,
           "gridcolor": "white",
           "linecolor": "white",
           "ticks": "",
           "title": {
            "standoff": 15
           },
           "zerolinecolor": "white",
           "zerolinewidth": 2
          },
          "yaxis": {
           "automargin": true,
           "gridcolor": "white",
           "linecolor": "white",
           "ticks": "",
           "title": {
            "standoff": 15
           },
           "zerolinecolor": "white",
           "zerolinewidth": 2
          }
         }
        }
       }
      }
     },
     "metadata": {}
    }
   ],
   "metadata": {}
  },
  {
   "cell_type": "code",
   "execution_count": 26,
   "source": [
    "db_perso = client['statistiques']\n",
    "db_perso_df = pd.DataFrame(db_perso['stats_perso'].find())"
   ],
   "outputs": [],
   "metadata": {}
  },
  {
   "cell_type": "code",
   "execution_count": 160,
   "source": [
    "import unidecode\n",
    "\n",
    "def unidecodePlayersName(name):\n",
    "    players_name = unidecode.unidecode(name)\n",
    "    return players_name"
   ],
   "outputs": [],
   "metadata": {}
  },
  {
   "cell_type": "code",
   "execution_count": null,
   "source": [],
   "outputs": [],
   "metadata": {}
  },
  {
   "cell_type": "code",
   "execution_count": null,
   "source": [],
   "outputs": [],
   "metadata": {}
  },
  {
   "cell_type": "code",
   "execution_count": 161,
   "source": [
    "db_perso_df.head()"
   ],
   "outputs": [
    {
     "output_type": "execute_result",
     "data": {
      "text/plain": [
       "                        _id               Joueur  \\\n",
       "0  618d2b4f5aee1f52fd6785cf         Jamal-Aabbou   \n",
       "1  618d2b4f5aee1f52fd6785d0         Rayane-Aabid   \n",
       "2  618d2b4f5aee1f52fd6785d1        Mohamed-Aakib   \n",
       "3  618d2b4f5aee1f52fd6785d2        Ismael-Aaneba   \n",
       "4  618d2b4f5aee1f52fd6785d3  Patrick-van-Aanholt   \n",
       "\n",
       "                       Nom complet        Position Taille  Poid  \\\n",
       "0                             None             FW   175cm  None   \n",
       "1                             None              MF  178cm  75kg   \n",
       "2     Mohamed Aakib Mohamed Faizal              FW   None  None   \n",
       "3                             None             MF   182cm  75kg   \n",
       "4  Patrick John Miguel van Aanholt  DF (FB, left)   175cm  67kg   \n",
       "\n",
       "          Date de naissance  \\\n",
       "0          May 16, 2000       \n",
       "1      January 19, 1992       \n",
       "2         June 26, 2000       \n",
       "3          May 29, 1999       \n",
       "4       August 29, 1990       \n",
       "\n",
       "                                   Lieu de naissance              Club  \\\n",
       "0                             in Bree, Belgium             R.E. Virton   \n",
       "1                 in Villeneuve d'Ascq, France        Yeni Malatyaspor   \n",
       "2                        in Colombo, Sri Lanka              Colombo FC   \n",
       "3                   in Mantes-la-Jolie, France                 Sochaux   \n",
       "4            in Gemeente 's-Hertogenbosch, Nether...       Galatasaray   \n",
       "\n",
       "  Pied fort     Saison Age                                         Biographie  \\\n",
       "0     Right  2018-2019  21                                                NaN   \n",
       "1      None  2017-2018  29                                                NaN   \n",
       "2      None       2019  21                                                NaN   \n",
       "3     Right  2017-2018  22                                                NaN   \n",
       "4  80% Left  2009-2010  30  Patrick van Aanholt, né le 29 août 1990 à Bois...   \n",
       "\n",
       "                                        url_de_image  \n",
       "0                                                NaN  \n",
       "1                                                NaN  \n",
       "2                                                NaN  \n",
       "3                                                NaN  \n",
       "4  //upload.wikimedia.org/wikipedia/commons/thumb...  "
      ],
      "text/html": [
       "<div>\n",
       "<style scoped>\n",
       "    .dataframe tbody tr th:only-of-type {\n",
       "        vertical-align: middle;\n",
       "    }\n",
       "\n",
       "    .dataframe tbody tr th {\n",
       "        vertical-align: top;\n",
       "    }\n",
       "\n",
       "    .dataframe thead th {\n",
       "        text-align: right;\n",
       "    }\n",
       "</style>\n",
       "<table border=\"1\" class=\"dataframe\">\n",
       "  <thead>\n",
       "    <tr style=\"text-align: right;\">\n",
       "      <th></th>\n",
       "      <th>_id</th>\n",
       "      <th>Joueur</th>\n",
       "      <th>Nom complet</th>\n",
       "      <th>Position</th>\n",
       "      <th>Taille</th>\n",
       "      <th>Poid</th>\n",
       "      <th>Date de naissance</th>\n",
       "      <th>Lieu de naissance</th>\n",
       "      <th>Club</th>\n",
       "      <th>Pied fort</th>\n",
       "      <th>Saison</th>\n",
       "      <th>Age</th>\n",
       "      <th>Biographie</th>\n",
       "      <th>url_de_image</th>\n",
       "    </tr>\n",
       "  </thead>\n",
       "  <tbody>\n",
       "    <tr>\n",
       "      <th>0</th>\n",
       "      <td>618d2b4f5aee1f52fd6785cf</td>\n",
       "      <td>Jamal-Aabbou</td>\n",
       "      <td>None</td>\n",
       "      <td>FW</td>\n",
       "      <td>175cm</td>\n",
       "      <td>None</td>\n",
       "      <td>May 16, 2000</td>\n",
       "      <td>in Bree, Belgium</td>\n",
       "      <td>R.E. Virton</td>\n",
       "      <td>Right</td>\n",
       "      <td>2018-2019</td>\n",
       "      <td>21</td>\n",
       "      <td>NaN</td>\n",
       "      <td>NaN</td>\n",
       "    </tr>\n",
       "    <tr>\n",
       "      <th>1</th>\n",
       "      <td>618d2b4f5aee1f52fd6785d0</td>\n",
       "      <td>Rayane-Aabid</td>\n",
       "      <td>None</td>\n",
       "      <td>MF</td>\n",
       "      <td>178cm</td>\n",
       "      <td>75kg</td>\n",
       "      <td>January 19, 1992</td>\n",
       "      <td>in Villeneuve d'Ascq, France</td>\n",
       "      <td>Yeni Malatyaspor</td>\n",
       "      <td>None</td>\n",
       "      <td>2017-2018</td>\n",
       "      <td>29</td>\n",
       "      <td>NaN</td>\n",
       "      <td>NaN</td>\n",
       "    </tr>\n",
       "    <tr>\n",
       "      <th>2</th>\n",
       "      <td>618d2b4f5aee1f52fd6785d1</td>\n",
       "      <td>Mohamed-Aakib</td>\n",
       "      <td>Mohamed Aakib Mohamed Faizal</td>\n",
       "      <td>FW</td>\n",
       "      <td>None</td>\n",
       "      <td>None</td>\n",
       "      <td>June 26, 2000</td>\n",
       "      <td>in Colombo, Sri Lanka</td>\n",
       "      <td>Colombo FC</td>\n",
       "      <td>None</td>\n",
       "      <td>2019</td>\n",
       "      <td>21</td>\n",
       "      <td>NaN</td>\n",
       "      <td>NaN</td>\n",
       "    </tr>\n",
       "    <tr>\n",
       "      <th>3</th>\n",
       "      <td>618d2b4f5aee1f52fd6785d2</td>\n",
       "      <td>Ismael-Aaneba</td>\n",
       "      <td>None</td>\n",
       "      <td>MF</td>\n",
       "      <td>182cm</td>\n",
       "      <td>75kg</td>\n",
       "      <td>May 29, 1999</td>\n",
       "      <td>in Mantes-la-Jolie, France</td>\n",
       "      <td>Sochaux</td>\n",
       "      <td>Right</td>\n",
       "      <td>2017-2018</td>\n",
       "      <td>22</td>\n",
       "      <td>NaN</td>\n",
       "      <td>NaN</td>\n",
       "    </tr>\n",
       "    <tr>\n",
       "      <th>4</th>\n",
       "      <td>618d2b4f5aee1f52fd6785d3</td>\n",
       "      <td>Patrick-van-Aanholt</td>\n",
       "      <td>Patrick John Miguel van Aanholt</td>\n",
       "      <td>DF (FB, left)</td>\n",
       "      <td>175cm</td>\n",
       "      <td>67kg</td>\n",
       "      <td>August 29, 1990</td>\n",
       "      <td>in Gemeente 's-Hertogenbosch, Nether...</td>\n",
       "      <td>Galatasaray</td>\n",
       "      <td>80% Left</td>\n",
       "      <td>2009-2010</td>\n",
       "      <td>30</td>\n",
       "      <td>Patrick van Aanholt, né le 29 août 1990 à Bois...</td>\n",
       "      <td>//upload.wikimedia.org/wikipedia/commons/thumb...</td>\n",
       "    </tr>\n",
       "  </tbody>\n",
       "</table>\n",
       "</div>"
      ]
     },
     "metadata": {},
     "execution_count": 161
    }
   ],
   "metadata": {}
  },
  {
   "cell_type": "code",
   "execution_count": 158,
   "source": [
    "db_perso_df['Joueur'] = db_perso_df['Joueur'].apply(unidecodePlayersName)"
   ],
   "outputs": [],
   "metadata": {}
  },
  {
   "cell_type": "code",
   "execution_count": 36,
   "source": [
    "type(db_perso_df.url_de_image[0])"
   ],
   "outputs": [
    {
     "output_type": "execute_result",
     "data": {
      "text/plain": [
       "float"
      ]
     },
     "metadata": {},
     "execution_count": 36
    }
   ],
   "metadata": {}
  },
  {
   "cell_type": "code",
   "execution_count": 57,
   "source": [
    "type(db_perso_df[db_perso_df[\"Joueur\"] == \"Lionel-Messi\"]['url_de_image'])"
   ],
   "outputs": [
    {
     "output_type": "execute_result",
     "data": {
      "text/plain": [
       "pandas.core.series.Series"
      ]
     },
     "metadata": {},
     "execution_count": 57
    }
   ],
   "metadata": {}
  },
  {
   "cell_type": "code",
   "execution_count": 58,
   "source": [
    "db_perso_df.Position"
   ],
   "outputs": [
    {
     "output_type": "execute_result",
     "data": {
      "text/plain": [
       "                        _id               Joueur  \\\n",
       "0  618d2b4f5aee1f52fd6785cf         Jamal-Aabbou   \n",
       "1  618d2b4f5aee1f52fd6785d0         Rayane-Aabid   \n",
       "2  618d2b4f5aee1f52fd6785d1        Mohamed-Aakib   \n",
       "3  618d2b4f5aee1f52fd6785d2        Ismael-Aaneba   \n",
       "4  618d2b4f5aee1f52fd6785d3  Patrick-van-Aanholt   \n",
       "\n",
       "                       Nom complet        Position Taille  Poid  \\\n",
       "0                             None             FW   175cm  None   \n",
       "1                             None              MF  178cm  75kg   \n",
       "2     Mohamed Aakib Mohamed Faizal              FW   None  None   \n",
       "3                             None             MF   182cm  75kg   \n",
       "4  Patrick John Miguel van Aanholt  DF (FB, left)   175cm  67kg   \n",
       "\n",
       "          Date de naissance  \\\n",
       "0          May 16, 2000       \n",
       "1      January 19, 1992       \n",
       "2         June 26, 2000       \n",
       "3          May 29, 1999       \n",
       "4       August 29, 1990       \n",
       "\n",
       "                                   Lieu de naissance              Club  \\\n",
       "0                             in Bree, Belgium             R.E. Virton   \n",
       "1                 in Villeneuve d'Ascq, France        Yeni Malatyaspor   \n",
       "2                        in Colombo, Sri Lanka              Colombo FC   \n",
       "3                   in Mantes-la-Jolie, France                 Sochaux   \n",
       "4            in Gemeente 's-Hertogenbosch, Nether...       Galatasaray   \n",
       "\n",
       "  Pied fort     Saison Age                                         Biographie  \\\n",
       "0     Right  2018-2019  21                                                NaN   \n",
       "1      None  2017-2018  29                                                NaN   \n",
       "2      None       2019  21                                                NaN   \n",
       "3     Right  2017-2018  22                                                NaN   \n",
       "4  80% Left  2009-2010  30  Patrick van Aanholt, né le 29 août 1990 à Bois...   \n",
       "\n",
       "                                        url_de_image  \n",
       "0                                                NaN  \n",
       "1                                                NaN  \n",
       "2                                                NaN  \n",
       "3                                                NaN  \n",
       "4  //upload.wikimedia.org/wikipedia/commons/thumb...  "
      ],
      "text/html": [
       "<div>\n",
       "<style scoped>\n",
       "    .dataframe tbody tr th:only-of-type {\n",
       "        vertical-align: middle;\n",
       "    }\n",
       "\n",
       "    .dataframe tbody tr th {\n",
       "        vertical-align: top;\n",
       "    }\n",
       "\n",
       "    .dataframe thead th {\n",
       "        text-align: right;\n",
       "    }\n",
       "</style>\n",
       "<table border=\"1\" class=\"dataframe\">\n",
       "  <thead>\n",
       "    <tr style=\"text-align: right;\">\n",
       "      <th></th>\n",
       "      <th>_id</th>\n",
       "      <th>Joueur</th>\n",
       "      <th>Nom complet</th>\n",
       "      <th>Position</th>\n",
       "      <th>Taille</th>\n",
       "      <th>Poid</th>\n",
       "      <th>Date de naissance</th>\n",
       "      <th>Lieu de naissance</th>\n",
       "      <th>Club</th>\n",
       "      <th>Pied fort</th>\n",
       "      <th>Saison</th>\n",
       "      <th>Age</th>\n",
       "      <th>Biographie</th>\n",
       "      <th>url_de_image</th>\n",
       "    </tr>\n",
       "  </thead>\n",
       "  <tbody>\n",
       "    <tr>\n",
       "      <th>0</th>\n",
       "      <td>618d2b4f5aee1f52fd6785cf</td>\n",
       "      <td>Jamal-Aabbou</td>\n",
       "      <td>None</td>\n",
       "      <td>FW</td>\n",
       "      <td>175cm</td>\n",
       "      <td>None</td>\n",
       "      <td>May 16, 2000</td>\n",
       "      <td>in Bree, Belgium</td>\n",
       "      <td>R.E. Virton</td>\n",
       "      <td>Right</td>\n",
       "      <td>2018-2019</td>\n",
       "      <td>21</td>\n",
       "      <td>NaN</td>\n",
       "      <td>NaN</td>\n",
       "    </tr>\n",
       "    <tr>\n",
       "      <th>1</th>\n",
       "      <td>618d2b4f5aee1f52fd6785d0</td>\n",
       "      <td>Rayane-Aabid</td>\n",
       "      <td>None</td>\n",
       "      <td>MF</td>\n",
       "      <td>178cm</td>\n",
       "      <td>75kg</td>\n",
       "      <td>January 19, 1992</td>\n",
       "      <td>in Villeneuve d'Ascq, France</td>\n",
       "      <td>Yeni Malatyaspor</td>\n",
       "      <td>None</td>\n",
       "      <td>2017-2018</td>\n",
       "      <td>29</td>\n",
       "      <td>NaN</td>\n",
       "      <td>NaN</td>\n",
       "    </tr>\n",
       "    <tr>\n",
       "      <th>2</th>\n",
       "      <td>618d2b4f5aee1f52fd6785d1</td>\n",
       "      <td>Mohamed-Aakib</td>\n",
       "      <td>Mohamed Aakib Mohamed Faizal</td>\n",
       "      <td>FW</td>\n",
       "      <td>None</td>\n",
       "      <td>None</td>\n",
       "      <td>June 26, 2000</td>\n",
       "      <td>in Colombo, Sri Lanka</td>\n",
       "      <td>Colombo FC</td>\n",
       "      <td>None</td>\n",
       "      <td>2019</td>\n",
       "      <td>21</td>\n",
       "      <td>NaN</td>\n",
       "      <td>NaN</td>\n",
       "    </tr>\n",
       "    <tr>\n",
       "      <th>3</th>\n",
       "      <td>618d2b4f5aee1f52fd6785d2</td>\n",
       "      <td>Ismael-Aaneba</td>\n",
       "      <td>None</td>\n",
       "      <td>MF</td>\n",
       "      <td>182cm</td>\n",
       "      <td>75kg</td>\n",
       "      <td>May 29, 1999</td>\n",
       "      <td>in Mantes-la-Jolie, France</td>\n",
       "      <td>Sochaux</td>\n",
       "      <td>Right</td>\n",
       "      <td>2017-2018</td>\n",
       "      <td>22</td>\n",
       "      <td>NaN</td>\n",
       "      <td>NaN</td>\n",
       "    </tr>\n",
       "    <tr>\n",
       "      <th>4</th>\n",
       "      <td>618d2b4f5aee1f52fd6785d3</td>\n",
       "      <td>Patrick-van-Aanholt</td>\n",
       "      <td>Patrick John Miguel van Aanholt</td>\n",
       "      <td>DF (FB, left)</td>\n",
       "      <td>175cm</td>\n",
       "      <td>67kg</td>\n",
       "      <td>August 29, 1990</td>\n",
       "      <td>in Gemeente 's-Hertogenbosch, Nether...</td>\n",
       "      <td>Galatasaray</td>\n",
       "      <td>80% Left</td>\n",
       "      <td>2009-2010</td>\n",
       "      <td>30</td>\n",
       "      <td>Patrick van Aanholt, né le 29 août 1990 à Bois...</td>\n",
       "      <td>//upload.wikimedia.org/wikipedia/commons/thumb...</td>\n",
       "    </tr>\n",
       "  </tbody>\n",
       "</table>\n",
       "</div>"
      ]
     },
     "metadata": {},
     "execution_count": 58
    }
   ],
   "metadata": {}
  },
  {
   "cell_type": "code",
   "execution_count": 63,
   "source": [
    "db_perso_df.Position.unique(\n",
    ")"
   ],
   "outputs": [
    {
     "output_type": "execute_result",
     "data": {
      "text/plain": [
       "array(['FW ', 'MF', 'FW', 'MF ', 'DF (FB, left) ', 'DF',\n",
       "       'DF (FB, right) ', 'MF (WM) ', 'MF (AM) ', 'DF ', 'MF (CM) ',\n",
       "       'GK ', 'DF (CB, left) ', 'DF-MF ', 'DF (WM)', 'GK', 'FW-MF (AM) ',\n",
       "       'DF (FB, right)', 'FW-MF', 'FW-MF (AM-WM) ', 'FW-MF ',\n",
       "       'DF-MF (CM-FB, left) ', 'DF (CB) ', 'MF (CM-DM) ', 'DF (FB, left)',\n",
       "       'DF-MF (FB-WM, left) ', 'DF-MF', None, '178cm',\n",
       "       'MF (CM-DM, right) ', 'DF-MF (FB, left) ', '185cm', '175cm',\n",
       "       'MF (DM-WM) ', 'DF-MF (DM) ', 'DF (FB)', '196cm', 'DF (CB)',\n",
       "       'MF (DM) ', 'DF-MF (CB-DM) ', 'DF-MF (CB-CM) ',\n",
       "       'DF-MF (FB-WM, right) ', 'FW-MF (WM, left) ', 'FW-MF (WM) ',\n",
       "       'MF (CM)', 'FW-MF (WM)', 'DF-MF (CB-DM-FB) ', 'DF-MF (FB, right) ',\n",
       "       'MF (AM)', 'DF-MF (CB) ', 'DF (CB, right) ', 'DF-MF (FB) ',\n",
       "       'DF (FB) ', 'DF-MF (CB, right) ', 'MF (AM, right) ',\n",
       "       'DF-MF (CB, left) ', 'MF (CM-DM)', 'DF-FW-MF (WM) ',\n",
       "       'DF-MF (CM-FB) ', 'DF-MF (CB)', '180cm', '170cm',\n",
       "       'DF-MF (AM-FB-WM, left) ', 'FW-MF (AM-CM-WM) ',\n",
       "       'MF (CM-WM, left) ', 'MF (DM)', 'DF (CB-FB) ',\n",
       "       'DF-MF (FB-WM, left)', 'DF-MF (FB, right)', 'DF-MF (AM, right) ',\n",
       "       'DF-FW-MF (AM-FB, left) ', 'FW (WM)', '193cm',\n",
       "       'DF-MF (CM-DM-FB, right) ', 'MF (AM-FB)', '188cm', '189cm',\n",
       "       'DF-MF (DM-FB-WM, right) ', 'FW-MF (AM-CM) ', 'DF (CB-FB, left) ',\n",
       "       'DF-MF (DM-FB-WM, left) ', 'DF-FW-MF ', 'DF-MF (CM) ', '172cm',\n",
       "       'MF (AM-CM) ', 'DF (CB-FB, right) ', 'FW-MF (AM)',\n",
       "       'DF-FW-MF (WM, right) ', 'FW-MF (WM, right)',\n",
       "       'DF-MF (AM-CM-DM, right) ', 'MF (WM, left)', 'MF (WM, right)',\n",
       "       'DF-MF (FB, left)', 'MF (WM, right) ', 'FW-MF (WM, right) ',\n",
       "       'MF (AM, left) ', 'DF-MF (DM-FB, right) ', 'MF (AM-WM, left) ',\n",
       "       'MF (CM-WM) ', 'FW-MF (CM) ', 'MF (AM-CM-WM) ',\n",
       "       'MF (CM-DM, left) ', '167cm', 'MF (DM, left) ',\n",
       "       'FW-MF (AM, right) ', 'DF-FW-MF (FB, left) ', 'DF-FW',\n",
       "       'DF-MF (CB-CM-DM) ', 'MF (FB)', 'DF-MF (CB-DM-FB, right) ',\n",
       "       'DF-MF (CB-FB, right) ', 'MF (WM, left) ', 'FW-MF (AM-WM, left) ',\n",
       "       'MF (AM-WM) ', 'DF-MF (AM)', 'MF (AM-CM-DM) ',\n",
       "       'DF-MF (WM, right) ', 'MF (CM, right) ', 'DF-MF (CM-FB-WM, left) ',\n",
       "       'FW-MF (AM, left) ', '183cm', 'MF (DM, right) ', 'DF-MF (CM-DM) ',\n",
       "       'DF-FW-MF (FB-WM, left) ', 'DF-FW-MF (FB-WM, left)',\n",
       "       'FW-MF (WM, left)', 'FW-MF (AM-WM, right) ', 'DF-MF (CB-DM)',\n",
       "       'DF-MF (AM-FB-WM, right) ', 'DF-MF (CB-DM-FB, left) ', 'DF-FW-MF',\n",
       "       'DF-FW-MF (AM-DM)', 'DF-FW (FB, right) ', 'DF-FW (FB, left) ',\n",
       "       'DF-MF (CB-DM-FB-WM, left) ', 'DF-MF (CB-FB, left) ',\n",
       "       'MF (AM, right)', 'DF-MF (DM, right) ', '181cm', 'DF-MF (CB-FB) ',\n",
       "       'DF-MF (FB)', 'FW-MF (AM-CB-CM) ', 'MF (AM-WM, right) ', '177cm',\n",
       "       '186cm', 'DF-FW ', 'DF-GK ', 'DF-MF (CB-WM) ', 'MF (DM, left)',\n",
       "       'MF (AM, left)', 'MF (CM, left) ', 'FW-MF (AM, right)',\n",
       "       'DF (CB-FB)', 'FW-MF (CM-WM) ', 'MF (CM, right)', '182cm',\n",
       "       'DF-MF (WM) ', 'DF-MF (WM, left)', 'DF-MF (DM-FB, left) ',\n",
       "       'MF (AM-DM) ', '187cm', 'FW-MF (CM)', '176cm', 'DF-FW-MF (AM) ',\n",
       "       'DF-FW-MF (AM-WM, left) ', '161cm', '184cm', '190cm', '179cm',\n",
       "       'MF (WM)', 'DF-FW-MF (CB) ', 'MF (AM-CM-DM, left) ',\n",
       "       'FW-MF (AM, left)', 'DF-MF (AM-CB)', 'DF (CB-FB, left)',\n",
       "       'DF-MF (CB-DM-WM) ', 'DF-MF (CM)', '173cm', 'DF-FW (CB) ',\n",
       "       'DF-MF (CM-DM-FB) ', 'FW-MF (AM-WM)', 'FW-MF (DM) ',\n",
       "       'DF-FW-MF (AM-FB-WM, right) ', 'DF-MF (WM, left) ',\n",
       "       'DF-GK (FB, right) ', 'DF-FW-MF (WM, left) ',\n",
       "       'DF-FW-MF (AM-FB-WM) ', 'DF-FW-MF (FB-WM, right) ',\n",
       "       'DF-FW (FB, right)', 'DF-MF (WM)', 'DF-MF (AM-DM-WM) ',\n",
       "       'MF (CM, left)', 'DF-MF (CM-DM, right) ', 'MF (AM-CM)', 'FW-GK ',\n",
       "       'FW-GK', '171cm', 'FW-MF (AM-DM) ', 'DF-MF (DM-FB) ',\n",
       "       'DF-FW-MF (FB) ', 'MF (CM-DM-WM, right) ', 'DF-MF (FB-WM) ',\n",
       "       'MF (AM-CM-DM, right) ', 'DF-MF (AM) ', 'MF (AM-WM)',\n",
       "       'FW-MF (AM-CM-DM) ', 'DF-MF (FB-WM, right)', 'MF (CM-WM, right)',\n",
       "       'MF (AM-DM)', 'DF-FW-MF (CB-CM) ', 'DF-FW-MF (AM)',\n",
       "       'DF-MF (CB-FB-WM, right) ', 'DF-MF (AM-CM-DM) ',\n",
       "       'FW-MF (AM-CM, left) ', 'DF-FW-MF (AM-FB, right) ', '169cm',\n",
       "       '165cm', '201cm', '194cm', 'DF-MF (FB-WM)',\n",
       "       'DF-FW-MF (FB, right) ', 'DF-MF (AM-DM-FB, left) ',\n",
       "       'DF-MF (CB-FB-WM)', 'FW-MF (CM-WM, left)', 'DF-MF (DM)',\n",
       "       'MF (AM-WM, left)', 'DF-MF (CB-CM, left) ', 'DF-FW-MF (FB)',\n",
       "       'MF (AM-DM-WM) ', 'DF-GK', 'DF-MF (CB-DM, right) ', '192cm',\n",
       "       'DF-FW-MF (AM-FB-WM, left) ', 'GK-MF ', 'FW-MF (CM, right) ',\n",
       "       'DF-MF (CM-DM-FB, left) ', '157cm', 'DF-MF (CM-FB, right) ',\n",
       "       'DF-FW-MF (CM-FB) ', 'MF (AM-DM-WM, left) ',\n",
       "       'DF-FW-MF (CM-DM-FB-WM, left) ', 'DF-MF (CM-DM-FB-WM) ',\n",
       "       'DF-MF (AM-DM, left) ', '191cm', 'MF (AM-CM, left) ',\n",
       "       'DF-FW-MF (FB, left)', 'DF-MF (AM-WM, right) ',\n",
       "       'DF-GK (FB, left) ', 'FW-MF (CM-DM) ', '174cm', '168cm',\n",
       "       'DF-MF (CB-WM, left) ', 'DF-MF (CM-FB-WM) ',\n",
       "       'DF-FW-MF (CB-DM, right) ', 'DF-MF (CB-DM, left) ',\n",
       "       'DF-MF (CB-CM-DM-FB) ', 'MF (CM-DM-WM) ', 'DF-MF (AM-CB-CM-DM) ',\n",
       "       'MF (CB-CM)', 'DF-MF (AM-CB) ', 'DF-MF (CM-DM-WM, left) ',\n",
       "       'DF-MF (AM-FB, left) ', 'MF (DM-WM)', 'FW-GK-MF ',\n",
       "       'DF-MF (AM-FB, right) ', 'MF (CB-CM) ', 'DF-FW-MF (CB)',\n",
       "       'MF (AM-CM-DM-WM) ', 'DF-FW-MF (AM, left) ', 'DF-FW (CB, right) ',\n",
       "       'DF-MF (CM, left) ', 'DF-FW-MF (AM-DM-WM, left) ',\n",
       "       'DF-FW-MF (WM, right)', 'MF (AM-WM, right)', 'DF-MF (CB-FB-WM) ',\n",
       "       'DF-MF (CM-WM) ', 'MF (CM-WM, right) ', 'MF (CB-CM-DM) ',\n",
       "       'DF-MF (AM-WM, left) ', 'DF-MF (CB-FB-WM, left) ',\n",
       "       'DF-FW-MF (DM) ', 'DF (CB-FB, right)', '160cm', 'DF-FW (FB) ',\n",
       "       'FW-MF (DM)', 'DF-FW-MF (DM-FB, right) ', 'DF-FW-MF (CM) ',\n",
       "       'DF-MF (AM-CM) ', 'DF-MF (DM-FB, right)', 'DF-MF (AM, left)',\n",
       "       'MF (AM-CM-DM)', 'DF-GK-MF', 'DF-FW-MF (FB-WM) ', 'DF-MF (CB-FB)',\n",
       "       'FW-GK-MF (WM) ', 'DF-FW-MF (AM-WM, right) ', 'DF-MF (CM-DM)',\n",
       "       'DF (FB, left &amp; right)', 'DF-MF (CB-CM-FB-WM) ',\n",
       "       'DF-MF (AM-DM) ', 'DF (FB-WM, left)', 'MF (AM-DM, left) ',\n",
       "       'DF-MF (AM-FB)', 'DF-GK-MF (FB, right) ', 'DF-FW (CB, left) ',\n",
       "       '159cm', 'MF (CM-DM-WM, left) ', 'FW (FB) ', 'DF-MF (CM-FB)',\n",
       "       'DF-FW-MF (AM-FB-WM, right)', 'MF (AM-FB, left) ',\n",
       "       'DF-FW-MF (CM-DM) ', 'FW-MF (AM-CM)', 'DF-FW-MF (AM-FB) ',\n",
       "       'GK-MF (CM)', 'FW-MF (AM-DM, right) ', 'MF (DM, right)',\n",
       "       'MF (WM, left &amp; right) ', '195cm', '162cm', 'DF-MF (CB-CM)',\n",
       "       'DF-FW-MF (AM, right) ', 'DF-MF (DM-WM, right) ',\n",
       "       'DF-MF (CB-DM-FB, right)', 'DF-MF (AM, left) ', 'DF-FW-MF (CM)',\n",
       "       'DF-FW-MF (FB-WM, right)', 'DF-MF (DM-FB, left)',\n",
       "       'DF-MF (WM, right)', 'DF-FW (FB, left)', 'GK-MF',\n",
       "       'FW-MF (AM-WM, left)', 'DF-MF (CM-DM-FB)', 'DF-MF (DM-WM, left) ',\n",
       "       'DF-GK-MF (FB, left) ', 'DF-FW-MF (AM-WM) ',\n",
       "       'DF-MF (AM-DM-FB, right) ', 'DF-FW (CB)', 'DF-GK (FB, left)',\n",
       "       'FW-MF (AM-CM-DM, right) ', 'MF (DM-WM, right)',\n",
       "       'DF-MF (AM-CM-FB-WM, right) ', 'DF-MF (CB-FB, left)',\n",
       "       'MF (CM-DM-FB) ', 'FW (WM, right)',\n",
       "       'FW-MF (AM-WM, left &amp; right) ', 'FW-MF (AM-CM, right) ',\n",
       "       'DF-GK-MF (CB) '], dtype=object)"
      ]
     },
     "metadata": {},
     "execution_count": 63
    }
   ],
   "metadata": {}
  },
  {
   "cell_type": "code",
   "execution_count": 61,
   "source": [
    "db_perso_df.Position.str.contains('DF', na=False)"
   ],
   "outputs": [
    {
     "output_type": "execute_result",
     "data": {
      "text/plain": [
       "0        False\n",
       "1        False\n",
       "2        False\n",
       "3        False\n",
       "4         True\n",
       "         ...  \n",
       "27775    False\n",
       "27776    False\n",
       "27777    False\n",
       "27778    False\n",
       "27779    False\n",
       "Name: Position, Length: 27780, dtype: bool"
      ]
     },
     "metadata": {},
     "execution_count": 61
    }
   ],
   "metadata": {}
  },
  {
   "cell_type": "code",
   "execution_count": null,
   "source": [
    "db_perso_df.columns"
   ],
   "outputs": [],
   "metadata": {}
  },
  {
   "cell_type": "code",
   "execution_count": null,
   "source": [
    "db_perso_df['url_de_image'].isna()"
   ],
   "outputs": [],
   "metadata": {}
  },
  {
   "cell_type": "code",
   "execution_count": 210,
   "source": [
    "db_perso_df.to_csv(\"../data/stats_perso.csv\", index=True) "
   ],
   "outputs": [],
   "metadata": {}
  },
  {
   "cell_type": "code",
   "execution_count": 146,
   "source": [
    "defence_df = pd.DataFrame( db['defenses'].find({}))"
   ],
   "outputs": [],
   "metadata": {}
  },
  {
   "cell_type": "code",
   "execution_count": 143,
   "source": [
    "dribble_df = pd.DataFrame(db['dribbles_and_touches'].find({}))"
   ],
   "outputs": [],
   "metadata": {}
  },
  {
   "cell_type": "code",
   "execution_count": 155,
   "source": [
    "dribble_df.dropna().drop_duplicates(keep='first').shape"
   ],
   "outputs": [
    {
     "output_type": "execute_result",
     "data": {
      "text/plain": [
       "(133489, 9)"
      ]
     },
     "metadata": {},
     "execution_count": 155
    }
   ],
   "metadata": {}
  },
  {
   "cell_type": "code",
   "execution_count": 154,
   "source": [
    "defence_df.dropna().drop_duplicates(keep='first').shape"
   ],
   "outputs": [
    {
     "output_type": "execute_result",
     "data": {
      "text/plain": [
       "(139722, 9)"
      ]
     },
     "metadata": {},
     "execution_count": 154
    }
   ],
   "metadata": {}
  },
  {
   "cell_type": "code",
   "execution_count": 147,
   "source": [
    "dribble_df.shape[0] == defence_df.shape[0]"
   ],
   "outputs": [
    {
     "output_type": "execute_result",
     "data": {
      "text/plain": [
       "False"
      ]
     },
     "metadata": {},
     "execution_count": 147
    }
   ],
   "metadata": {}
  },
  {
   "cell_type": "code",
   "execution_count": 103,
   "source": [
    "defence_df.head()"
   ],
   "outputs": [
    {
     "output_type": "execute_result",
     "data": {
      "text/plain": [
       "                        _id        Joueur                Club     Annees  \\\n",
       "0  618d181e8a3dc22391adab6c  Jamal-Aabbou           Lommel SK  2018-2019   \n",
       "1  618d181e8a3dc22391adab6d  Jamal-Aabbou           Lommel SK  2019-2020   \n",
       "2  618d181e8a3dc22391adab6e  Jamal-Aabbou           Lommel SK  2020-2021   \n",
       "3  618d181e8a3dc22391adab6f  Jamal-Aabbou  Lierse Kempenzonen  2020-2021   \n",
       "4  618d181e8a3dc22391adab70  Jamal-Aabbou              Virton  2021-2022   \n",
       "\n",
       "   Erreurs defensives  Tirs arretes  Tackles  Pressions  Balles recuperees  \n",
       "0                   0             0        0          0                  0  \n",
       "1                   0             0        0          0                  0  \n",
       "2                   0             0        0          0                  0  \n",
       "3                   0             0        0          0                  0  \n",
       "4                   0             0        0          0                  0  "
      ],
      "text/html": [
       "<div>\n",
       "<style scoped>\n",
       "    .dataframe tbody tr th:only-of-type {\n",
       "        vertical-align: middle;\n",
       "    }\n",
       "\n",
       "    .dataframe tbody tr th {\n",
       "        vertical-align: top;\n",
       "    }\n",
       "\n",
       "    .dataframe thead th {\n",
       "        text-align: right;\n",
       "    }\n",
       "</style>\n",
       "<table border=\"1\" class=\"dataframe\">\n",
       "  <thead>\n",
       "    <tr style=\"text-align: right;\">\n",
       "      <th></th>\n",
       "      <th>_id</th>\n",
       "      <th>Joueur</th>\n",
       "      <th>Club</th>\n",
       "      <th>Annees</th>\n",
       "      <th>Erreurs defensives</th>\n",
       "      <th>Tirs arretes</th>\n",
       "      <th>Tackles</th>\n",
       "      <th>Pressions</th>\n",
       "      <th>Balles recuperees</th>\n",
       "    </tr>\n",
       "  </thead>\n",
       "  <tbody>\n",
       "    <tr>\n",
       "      <th>0</th>\n",
       "      <td>618d181e8a3dc22391adab6c</td>\n",
       "      <td>Jamal-Aabbou</td>\n",
       "      <td>Lommel SK</td>\n",
       "      <td>2018-2019</td>\n",
       "      <td>0</td>\n",
       "      <td>0</td>\n",
       "      <td>0</td>\n",
       "      <td>0</td>\n",
       "      <td>0</td>\n",
       "    </tr>\n",
       "    <tr>\n",
       "      <th>1</th>\n",
       "      <td>618d181e8a3dc22391adab6d</td>\n",
       "      <td>Jamal-Aabbou</td>\n",
       "      <td>Lommel SK</td>\n",
       "      <td>2019-2020</td>\n",
       "      <td>0</td>\n",
       "      <td>0</td>\n",
       "      <td>0</td>\n",
       "      <td>0</td>\n",
       "      <td>0</td>\n",
       "    </tr>\n",
       "    <tr>\n",
       "      <th>2</th>\n",
       "      <td>618d181e8a3dc22391adab6e</td>\n",
       "      <td>Jamal-Aabbou</td>\n",
       "      <td>Lommel SK</td>\n",
       "      <td>2020-2021</td>\n",
       "      <td>0</td>\n",
       "      <td>0</td>\n",
       "      <td>0</td>\n",
       "      <td>0</td>\n",
       "      <td>0</td>\n",
       "    </tr>\n",
       "    <tr>\n",
       "      <th>3</th>\n",
       "      <td>618d181e8a3dc22391adab6f</td>\n",
       "      <td>Jamal-Aabbou</td>\n",
       "      <td>Lierse Kempenzonen</td>\n",
       "      <td>2020-2021</td>\n",
       "      <td>0</td>\n",
       "      <td>0</td>\n",
       "      <td>0</td>\n",
       "      <td>0</td>\n",
       "      <td>0</td>\n",
       "    </tr>\n",
       "    <tr>\n",
       "      <th>4</th>\n",
       "      <td>618d181e8a3dc22391adab70</td>\n",
       "      <td>Jamal-Aabbou</td>\n",
       "      <td>Virton</td>\n",
       "      <td>2021-2022</td>\n",
       "      <td>0</td>\n",
       "      <td>0</td>\n",
       "      <td>0</td>\n",
       "      <td>0</td>\n",
       "      <td>0</td>\n",
       "    </tr>\n",
       "  </tbody>\n",
       "</table>\n",
       "</div>"
      ]
     },
     "metadata": {},
     "execution_count": 103
    }
   ],
   "metadata": {}
  },
  {
   "cell_type": "code",
   "execution_count": null,
   "source": [
    "defence_df[defence_df['Joueur'] == \"Jamal-Aabbou\"].melt(id_vars=defence_df.columns[:4],\n",
    "                                                        var_name=\"defense\",\n",
    "                                                        value_name=\"value\" )"
   ],
   "outputs": [],
   "metadata": {}
  },
  {
   "cell_type": "code",
   "execution_count": 106,
   "source": [
    "melted = defence_df.melt(id_vars=defence_df.columns[:4],\n",
    "                        var_name=\"defense\",\n",
    "                        value_name=\"value\" )"
   ],
   "outputs": [],
   "metadata": {}
  },
  {
   "cell_type": "code",
   "execution_count": 107,
   "source": [
    "melted.head()"
   ],
   "outputs": [
    {
     "output_type": "execute_result",
     "data": {
      "text/plain": [
       "                        _id        Joueur                Club     Annees  \\\n",
       "0  618d181e8a3dc22391adab6c  Jamal-Aabbou           Lommel SK  2018-2019   \n",
       "1  618d181e8a3dc22391adab6d  Jamal-Aabbou           Lommel SK  2019-2020   \n",
       "2  618d181e8a3dc22391adab6e  Jamal-Aabbou           Lommel SK  2020-2021   \n",
       "3  618d181e8a3dc22391adab6f  Jamal-Aabbou  Lierse Kempenzonen  2020-2021   \n",
       "4  618d181e8a3dc22391adab70  Jamal-Aabbou              Virton  2021-2022   \n",
       "\n",
       "              defense  value  \n",
       "0  Erreurs defensives      0  \n",
       "1  Erreurs defensives      0  \n",
       "2  Erreurs defensives      0  \n",
       "3  Erreurs defensives      0  \n",
       "4  Erreurs defensives      0  "
      ],
      "text/html": [
       "<div>\n",
       "<style scoped>\n",
       "    .dataframe tbody tr th:only-of-type {\n",
       "        vertical-align: middle;\n",
       "    }\n",
       "\n",
       "    .dataframe tbody tr th {\n",
       "        vertical-align: top;\n",
       "    }\n",
       "\n",
       "    .dataframe thead th {\n",
       "        text-align: right;\n",
       "    }\n",
       "</style>\n",
       "<table border=\"1\" class=\"dataframe\">\n",
       "  <thead>\n",
       "    <tr style=\"text-align: right;\">\n",
       "      <th></th>\n",
       "      <th>_id</th>\n",
       "      <th>Joueur</th>\n",
       "      <th>Club</th>\n",
       "      <th>Annees</th>\n",
       "      <th>defense</th>\n",
       "      <th>value</th>\n",
       "    </tr>\n",
       "  </thead>\n",
       "  <tbody>\n",
       "    <tr>\n",
       "      <th>0</th>\n",
       "      <td>618d181e8a3dc22391adab6c</td>\n",
       "      <td>Jamal-Aabbou</td>\n",
       "      <td>Lommel SK</td>\n",
       "      <td>2018-2019</td>\n",
       "      <td>Erreurs defensives</td>\n",
       "      <td>0</td>\n",
       "    </tr>\n",
       "    <tr>\n",
       "      <th>1</th>\n",
       "      <td>618d181e8a3dc22391adab6d</td>\n",
       "      <td>Jamal-Aabbou</td>\n",
       "      <td>Lommel SK</td>\n",
       "      <td>2019-2020</td>\n",
       "      <td>Erreurs defensives</td>\n",
       "      <td>0</td>\n",
       "    </tr>\n",
       "    <tr>\n",
       "      <th>2</th>\n",
       "      <td>618d181e8a3dc22391adab6e</td>\n",
       "      <td>Jamal-Aabbou</td>\n",
       "      <td>Lommel SK</td>\n",
       "      <td>2020-2021</td>\n",
       "      <td>Erreurs defensives</td>\n",
       "      <td>0</td>\n",
       "    </tr>\n",
       "    <tr>\n",
       "      <th>3</th>\n",
       "      <td>618d181e8a3dc22391adab6f</td>\n",
       "      <td>Jamal-Aabbou</td>\n",
       "      <td>Lierse Kempenzonen</td>\n",
       "      <td>2020-2021</td>\n",
       "      <td>Erreurs defensives</td>\n",
       "      <td>0</td>\n",
       "    </tr>\n",
       "    <tr>\n",
       "      <th>4</th>\n",
       "      <td>618d181e8a3dc22391adab70</td>\n",
       "      <td>Jamal-Aabbou</td>\n",
       "      <td>Virton</td>\n",
       "      <td>2021-2022</td>\n",
       "      <td>Erreurs defensives</td>\n",
       "      <td>0</td>\n",
       "    </tr>\n",
       "  </tbody>\n",
       "</table>\n",
       "</div>"
      ]
     },
     "metadata": {},
     "execution_count": 107
    }
   ],
   "metadata": {}
  },
  {
   "cell_type": "code",
   "execution_count": 111,
   "source": [
    "melted.groupby(['Joueur', \"Annees\"]).agg(value=('value','mean')).reset_index()"
   ],
   "outputs": [
    {
     "output_type": "execute_result",
     "data": {
      "text/plain": [
       "                   Joueur     Annees  value\n",
       "0          'Afi-Aminuddin       2018    0.0\n",
       "1          'Afi-Aminuddin       2022    0.0\n",
       "2          A.J.-DeLaGarza       2009    0.0\n",
       "3          A.J.-DeLaGarza       2010    0.0\n",
       "4          A.J.-DeLaGarza       2011    0.0\n",
       "...                   ...        ...    ...\n",
       "121073    Łukasz-Sekulski  2021-2022    0.0\n",
       "121074  Łukasz-Szramowski          0    0.0\n",
       "121075       Štěpan-Kozel  2021-2022    0.0\n",
       "121076       Žan-Kolmanic          0    0.0\n",
       "121077         Žan-Rogelj  2021-2022    0.0\n",
       "\n",
       "[121078 rows x 3 columns]"
      ],
      "text/html": [
       "<div>\n",
       "<style scoped>\n",
       "    .dataframe tbody tr th:only-of-type {\n",
       "        vertical-align: middle;\n",
       "    }\n",
       "\n",
       "    .dataframe tbody tr th {\n",
       "        vertical-align: top;\n",
       "    }\n",
       "\n",
       "    .dataframe thead th {\n",
       "        text-align: right;\n",
       "    }\n",
       "</style>\n",
       "<table border=\"1\" class=\"dataframe\">\n",
       "  <thead>\n",
       "    <tr style=\"text-align: right;\">\n",
       "      <th></th>\n",
       "      <th>Joueur</th>\n",
       "      <th>Annees</th>\n",
       "      <th>value</th>\n",
       "    </tr>\n",
       "  </thead>\n",
       "  <tbody>\n",
       "    <tr>\n",
       "      <th>0</th>\n",
       "      <td>'Afi-Aminuddin</td>\n",
       "      <td>2018</td>\n",
       "      <td>0.0</td>\n",
       "    </tr>\n",
       "    <tr>\n",
       "      <th>1</th>\n",
       "      <td>'Afi-Aminuddin</td>\n",
       "      <td>2022</td>\n",
       "      <td>0.0</td>\n",
       "    </tr>\n",
       "    <tr>\n",
       "      <th>2</th>\n",
       "      <td>A.J.-DeLaGarza</td>\n",
       "      <td>2009</td>\n",
       "      <td>0.0</td>\n",
       "    </tr>\n",
       "    <tr>\n",
       "      <th>3</th>\n",
       "      <td>A.J.-DeLaGarza</td>\n",
       "      <td>2010</td>\n",
       "      <td>0.0</td>\n",
       "    </tr>\n",
       "    <tr>\n",
       "      <th>4</th>\n",
       "      <td>A.J.-DeLaGarza</td>\n",
       "      <td>2011</td>\n",
       "      <td>0.0</td>\n",
       "    </tr>\n",
       "    <tr>\n",
       "      <th>...</th>\n",
       "      <td>...</td>\n",
       "      <td>...</td>\n",
       "      <td>...</td>\n",
       "    </tr>\n",
       "    <tr>\n",
       "      <th>121073</th>\n",
       "      <td>Łukasz-Sekulski</td>\n",
       "      <td>2021-2022</td>\n",
       "      <td>0.0</td>\n",
       "    </tr>\n",
       "    <tr>\n",
       "      <th>121074</th>\n",
       "      <td>Łukasz-Szramowski</td>\n",
       "      <td>0</td>\n",
       "      <td>0.0</td>\n",
       "    </tr>\n",
       "    <tr>\n",
       "      <th>121075</th>\n",
       "      <td>Štěpan-Kozel</td>\n",
       "      <td>2021-2022</td>\n",
       "      <td>0.0</td>\n",
       "    </tr>\n",
       "    <tr>\n",
       "      <th>121076</th>\n",
       "      <td>Žan-Kolmanic</td>\n",
       "      <td>0</td>\n",
       "      <td>0.0</td>\n",
       "    </tr>\n",
       "    <tr>\n",
       "      <th>121077</th>\n",
       "      <td>Žan-Rogelj</td>\n",
       "      <td>2021-2022</td>\n",
       "      <td>0.0</td>\n",
       "    </tr>\n",
       "  </tbody>\n",
       "</table>\n",
       "<p>121078 rows × 3 columns</p>\n",
       "</div>"
      ]
     },
     "metadata": {},
     "execution_count": 111
    }
   ],
   "metadata": {}
  },
  {
   "cell_type": "code",
   "execution_count": 114,
   "source": [
    "melted.dropna(inplace=True)"
   ],
   "outputs": [],
   "metadata": {}
  },
  {
   "cell_type": "code",
   "execution_count": 120,
   "source": [
    "melted[melted['Annees'].str.contains('-2022', na=False)]"
   ],
   "outputs": [
    {
     "output_type": "execute_result",
     "data": {
      "text/plain": [
       "                             _id               Joueur           Club  \\\n",
       "4       618d181e8a3dc22391adab70         Jamal-Aabbou         Virton   \n",
       "8       618d181e8a3dc22391adab74         Rayane-Aabid  Yeni Mal'spor   \n",
       "15      618d181e8a3dc22391adab7b        Ismael-Aaneba        Sochaux   \n",
       "32      618d181e8a3dc22391adab8c  Patrick-van-Aanholt    Galatasaray   \n",
       "39      618d181e8a3dc22391adab93         Mads-Aaquist         Viborg   \n",
       "...                          ...                  ...            ...   \n",
       "698583  618d181f8a3dc22391afcd1b         Themba-Zwane       Sundowns   \n",
       "698592  618d181f8a3dc22391afcd24  Stephan-Zwierschitz         Admira   \n",
       "698601  618d181f8a3dc22391afcd2d  Jan-Zwischenbrugger     SCR Altach   \n",
       "698603  618d181f8a3dc22391afcd2f          Kacper-Zych        Karviná   \n",
       "698609  618d181f8a3dc22391afcd35         Marcel-Zylla  Śląsk Wrocław   \n",
       "\n",
       "           Annees             defense  value  \n",
       "4       2021-2022  Erreurs defensives      0  \n",
       "8       2021-2022  Erreurs defensives      0  \n",
       "15      2021-2022  Erreurs defensives      0  \n",
       "32      2021-2022  Erreurs defensives      0  \n",
       "39      2021-2022  Erreurs defensives      0  \n",
       "...           ...                 ...    ...  \n",
       "698583  2021-2022   Balles recuperees      0  \n",
       "698592  2021-2022   Balles recuperees      0  \n",
       "698601  2021-2022   Balles recuperees      0  \n",
       "698603  2021-2022   Balles recuperees      0  \n",
       "698609  2021-2022   Balles recuperees      0  \n",
       "\n",
       "[96880 rows x 6 columns]"
      ],
      "text/html": [
       "<div>\n",
       "<style scoped>\n",
       "    .dataframe tbody tr th:only-of-type {\n",
       "        vertical-align: middle;\n",
       "    }\n",
       "\n",
       "    .dataframe tbody tr th {\n",
       "        vertical-align: top;\n",
       "    }\n",
       "\n",
       "    .dataframe thead th {\n",
       "        text-align: right;\n",
       "    }\n",
       "</style>\n",
       "<table border=\"1\" class=\"dataframe\">\n",
       "  <thead>\n",
       "    <tr style=\"text-align: right;\">\n",
       "      <th></th>\n",
       "      <th>_id</th>\n",
       "      <th>Joueur</th>\n",
       "      <th>Club</th>\n",
       "      <th>Annees</th>\n",
       "      <th>defense</th>\n",
       "      <th>value</th>\n",
       "    </tr>\n",
       "  </thead>\n",
       "  <tbody>\n",
       "    <tr>\n",
       "      <th>4</th>\n",
       "      <td>618d181e8a3dc22391adab70</td>\n",
       "      <td>Jamal-Aabbou</td>\n",
       "      <td>Virton</td>\n",
       "      <td>2021-2022</td>\n",
       "      <td>Erreurs defensives</td>\n",
       "      <td>0</td>\n",
       "    </tr>\n",
       "    <tr>\n",
       "      <th>8</th>\n",
       "      <td>618d181e8a3dc22391adab74</td>\n",
       "      <td>Rayane-Aabid</td>\n",
       "      <td>Yeni Mal'spor</td>\n",
       "      <td>2021-2022</td>\n",
       "      <td>Erreurs defensives</td>\n",
       "      <td>0</td>\n",
       "    </tr>\n",
       "    <tr>\n",
       "      <th>15</th>\n",
       "      <td>618d181e8a3dc22391adab7b</td>\n",
       "      <td>Ismael-Aaneba</td>\n",
       "      <td>Sochaux</td>\n",
       "      <td>2021-2022</td>\n",
       "      <td>Erreurs defensives</td>\n",
       "      <td>0</td>\n",
       "    </tr>\n",
       "    <tr>\n",
       "      <th>32</th>\n",
       "      <td>618d181e8a3dc22391adab8c</td>\n",
       "      <td>Patrick-van-Aanholt</td>\n",
       "      <td>Galatasaray</td>\n",
       "      <td>2021-2022</td>\n",
       "      <td>Erreurs defensives</td>\n",
       "      <td>0</td>\n",
       "    </tr>\n",
       "    <tr>\n",
       "      <th>39</th>\n",
       "      <td>618d181e8a3dc22391adab93</td>\n",
       "      <td>Mads-Aaquist</td>\n",
       "      <td>Viborg</td>\n",
       "      <td>2021-2022</td>\n",
       "      <td>Erreurs defensives</td>\n",
       "      <td>0</td>\n",
       "    </tr>\n",
       "    <tr>\n",
       "      <th>...</th>\n",
       "      <td>...</td>\n",
       "      <td>...</td>\n",
       "      <td>...</td>\n",
       "      <td>...</td>\n",
       "      <td>...</td>\n",
       "      <td>...</td>\n",
       "    </tr>\n",
       "    <tr>\n",
       "      <th>698583</th>\n",
       "      <td>618d181f8a3dc22391afcd1b</td>\n",
       "      <td>Themba-Zwane</td>\n",
       "      <td>Sundowns</td>\n",
       "      <td>2021-2022</td>\n",
       "      <td>Balles recuperees</td>\n",
       "      <td>0</td>\n",
       "    </tr>\n",
       "    <tr>\n",
       "      <th>698592</th>\n",
       "      <td>618d181f8a3dc22391afcd24</td>\n",
       "      <td>Stephan-Zwierschitz</td>\n",
       "      <td>Admira</td>\n",
       "      <td>2021-2022</td>\n",
       "      <td>Balles recuperees</td>\n",
       "      <td>0</td>\n",
       "    </tr>\n",
       "    <tr>\n",
       "      <th>698601</th>\n",
       "      <td>618d181f8a3dc22391afcd2d</td>\n",
       "      <td>Jan-Zwischenbrugger</td>\n",
       "      <td>SCR Altach</td>\n",
       "      <td>2021-2022</td>\n",
       "      <td>Balles recuperees</td>\n",
       "      <td>0</td>\n",
       "    </tr>\n",
       "    <tr>\n",
       "      <th>698603</th>\n",
       "      <td>618d181f8a3dc22391afcd2f</td>\n",
       "      <td>Kacper-Zych</td>\n",
       "      <td>Karviná</td>\n",
       "      <td>2021-2022</td>\n",
       "      <td>Balles recuperees</td>\n",
       "      <td>0</td>\n",
       "    </tr>\n",
       "    <tr>\n",
       "      <th>698609</th>\n",
       "      <td>618d181f8a3dc22391afcd35</td>\n",
       "      <td>Marcel-Zylla</td>\n",
       "      <td>Śląsk Wrocław</td>\n",
       "      <td>2021-2022</td>\n",
       "      <td>Balles recuperees</td>\n",
       "      <td>0</td>\n",
       "    </tr>\n",
       "  </tbody>\n",
       "</table>\n",
       "<p>96880 rows × 6 columns</p>\n",
       "</div>"
      ]
     },
     "metadata": {},
     "execution_count": 120
    }
   ],
   "metadata": {}
  },
  {
   "cell_type": "code",
   "execution_count": 156,
   "source": [
    "import datetime\n",
    "year = datetime.date.today().year"
   ],
   "outputs": [],
   "metadata": {}
  },
  {
   "cell_type": "code",
   "execution_count": 157,
   "source": [
    "print(year)"
   ],
   "outputs": [
    {
     "output_type": "stream",
     "name": "stdout",
     "text": [
      "2021\n"
     ]
    }
   ],
   "metadata": {}
  },
  {
   "cell_type": "code",
   "execution_count": 165,
   "source": [
    "from datetime import datetime\n",
    "dt = datetime.strptime(\"2021-07-27\", '%Y-%m-%d')\n",
    "print(dt.year)"
   ],
   "outputs": [
    {
     "output_type": "stream",
     "name": "stdout",
     "text": [
      "2021\n"
     ]
    }
   ],
   "metadata": {}
  },
  {
   "cell_type": "code",
   "execution_count": 164,
   "source": [],
   "outputs": [
    {
     "output_type": "execute_result",
     "data": {
      "text/plain": [
       "2021"
      ]
     },
     "metadata": {},
     "execution_count": 164
    }
   ],
   "metadata": {}
  },
  {
   "cell_type": "code",
   "execution_count": 69,
   "source": [
    "db_compare = client['comparaison']"
   ],
   "outputs": [],
   "metadata": {}
  },
  {
   "cell_type": "code",
   "execution_count": 92,
   "source": [
    "db_compare.list_collection_names()"
   ],
   "outputs": [
    {
     "output_type": "execute_result",
     "data": {
      "text/plain": [
       "[]"
      ]
     },
     "metadata": {},
     "execution_count": 92
    }
   ],
   "metadata": {}
  },
  {
   "cell_type": "code",
   "execution_count": 94,
   "source": [
    "pd.DataFrame (db_compare['captain'].find({}))"
   ],
   "outputs": [
    {
     "output_type": "execute_result",
     "data": {
      "text/plain": [
       "Empty DataFrame\n",
       "Columns: []\n",
       "Index: []"
      ],
      "text/html": [
       "<div>\n",
       "<style scoped>\n",
       "    .dataframe tbody tr th:only-of-type {\n",
       "        vertical-align: middle;\n",
       "    }\n",
       "\n",
       "    .dataframe tbody tr th {\n",
       "        vertical-align: top;\n",
       "    }\n",
       "\n",
       "    .dataframe thead th {\n",
       "        text-align: right;\n",
       "    }\n",
       "</style>\n",
       "<table border=\"1\" class=\"dataframe\">\n",
       "  <thead>\n",
       "    <tr style=\"text-align: right;\">\n",
       "      <th></th>\n",
       "    </tr>\n",
       "  </thead>\n",
       "  <tbody>\n",
       "  </tbody>\n",
       "</table>\n",
       "</div>"
      ]
     },
     "metadata": {},
     "execution_count": 94
    }
   ],
   "metadata": {}
  },
  {
   "cell_type": "code",
   "execution_count": null,
   "source": [],
   "outputs": [],
   "metadata": {}
  }
 ],
 "metadata": {
  "orig_nbformat": 4,
  "language_info": {
   "name": "python",
   "version": "3.8.8",
   "mimetype": "text/x-python",
   "codemirror_mode": {
    "name": "ipython",
    "version": 3
   },
   "pygments_lexer": "ipython3",
   "nbconvert_exporter": "python",
   "file_extension": ".py"
  },
  "kernelspec": {
   "name": "python3",
   "display_name": "Python 3.8.8 64-bit ('imad': conda)"
  },
  "interpreter": {
   "hash": "c009bdc53ccbbd0dc079b143b735d9d9f392397f9be3177e50999814b4e4127e"
  }
 },
 "nbformat": 4,
 "nbformat_minor": 2
}